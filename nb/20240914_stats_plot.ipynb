{
 "cells": [
  {
   "cell_type": "markdown",
   "metadata": {},
   "source": [
    "____"
   ]
  },
  {
   "cell_type": "markdown",
   "metadata": {},
   "source": [
    "# Preparation"
   ]
  },
  {
   "cell_type": "markdown",
   "metadata": {},
   "source": [
    "## Import library and set directory"
   ]
  },
  {
   "cell_type": "code",
   "execution_count": 1,
   "metadata": {},
   "outputs": [],
   "source": [
    "import os\n",
    "import numpy as np\n",
    "import xarray as xr\n",
    "import pandas as pd\n",
    "import geopandas as gpd\n",
    "import cartopy.crs as ccrs\n",
    "import matplotlib.colors as mcolors\n",
    "import matplotlib.pyplot as plt\n",
    "import plotly.graph_objects as go\n",
    "from scipy.stats import linregress\n",
    "\n",
    "import sys\n",
    "sys.path.append('../src')\n",
    "import benthic_mapping as bm\n",
    "\n",
    "from datetime import datetime\n",
    "from matplotlib import font_manager\n",
    "from plotly.subplots import make_subplots\n",
    "\n",
    "from rasterio.features import geometry_mask\n",
    "from affine import Affine\n",
    "\n",
    "# plt.style.use('dark_background')"
   ]
  },
  {
   "cell_type": "code",
   "execution_count": 2,
   "metadata": {},
   "outputs": [],
   "source": [
    "# Define folder path\n",
    "base_dir =  os.path.abspath(os.path.join(os.getcwd(), '../..'))\n",
    "out_dir = os.path.join(base_dir, 'out')\n",
    "data_sst_path = os.path.join(base_dir, 'data', 'raw', 'sst')\n",
    "img_path = os.path.join(base_dir, 'docs', 'img')\n",
    "\n",
    "output_path = os.path.join(out_dir, 'sst/processed_sst_2016_2023.nc')\n",
    "shapefile_study_area = os.path.join(out_dir, 'geom_def/geom_study_area.shp')\n",
    "shapefile_ground_truth = os.path.join(out_dir, 'geom_def', 'geom_ground_truth.shp')\n",
    "\n",
    "name_file_sst = 'METOFFICE-GLO-SST-L4-NRT-OBS-SST-V2_analysed_sst_106.47E-106.62E_5.88S-5.72S_2016-01-01-2023-12-31.nc'\n",
    "\n",
    "file_data_sst_path = os.path.join(\n",
    "    data_sst_path, name_file_sst\n",
    ")"
   ]
  },
  {
   "cell_type": "markdown",
   "metadata": {},
   "source": [
    "## Pre-processing dataset"
   ]
  },
  {
   "cell_type": "code",
   "execution_count": 3,
   "metadata": {},
   "outputs": [],
   "source": [
    "def concat_datasets(folder_path, output_file=None):\n",
    "    files = [os.path.join(folder_path, f) for f in os.listdir(folder_path) if f.endswith('.nc')]\n",
    "    \n",
    "    if not files:\n",
    "        raise ValueError(\"No NetCDF files found in the provided folder.\")\n",
    "\n",
    "    datasets = [xr.open_dataset(file, chunks={'time': 1}) for file in files]\n",
    "\n",
    "    dataset = xr.concat(datasets, dim='time')\n",
    "\n",
    "    dataset = dataset.sortby('time')\n",
    "\n",
    "    if output_file:\n",
    "        dataset.to_netcdf(output_file, engine='h5netcdf')\n",
    "\n",
    "    return dataset"
   ]
  },
  {
   "cell_type": "code",
   "execution_count": 4,
   "metadata": {},
   "outputs": [],
   "source": [
    "data_dir = os.path.join(out_dir, 'classification')\n",
    "data = concat_datasets(data_dir)"
   ]
  },
  {
   "cell_type": "markdown",
   "metadata": {},
   "source": [
    "# Masking"
   ]
  },
  {
   "cell_type": "code",
   "execution_count": 5,
   "metadata": {},
   "outputs": [],
   "source": [
    "def masked_region(dataset, geodataframe, desired_year=None, target_epsg=32748):\n",
    "\n",
    "    if geodataframe is None:\n",
    "        raise ValueError(\"A GeoDataFrame must be provided.\")\n",
    "\n",
    "    if desired_year is not None:\n",
    "        geodataframe['date'] = pd.to_datetime(geodataframe['date'])\n",
    "        geodataframe['year'] = geodataframe['date'].dt.year\n",
    "        geodataframe = geodataframe[geodataframe['year'] == desired_year]\n",
    "\n",
    "        if geodataframe.empty:\n",
    "            raise ValueError(f\"No data found for the year {desired_year}. Please check your input.\")\n",
    "\n",
    "    if geodataframe.crs is None:\n",
    "        raise ValueError(\"The GeoDataFrame must have a CRS defined.\")\n",
    "    if geodataframe.crs.to_epsg() != target_epsg:\n",
    "        print(f\"Converting geometry from EPSG:{geodataframe.crs.to_epsg()} to EPSG:{target_epsg}\")\n",
    "        geodataframe = geodataframe.to_crs(epsg=target_epsg)\n",
    "\n",
    "    mask_shape = (len(dataset['y']), len(dataset['x']))\n",
    "\n",
    "    transform = Affine.translation(dataset['x'].values[0], dataset['y'].values[0]) * \\\n",
    "                Affine.scale(dataset['x'].values[1] - dataset['x'].values[0], dataset['y'].values[1] - dataset['y'].values[0])\n",
    "\n",
    "    mask = geometry_mask(geodataframe['geometry'], out_shape=mask_shape, transform=transform, all_touched=True, invert=True)\n",
    "\n",
    "    mask_dataarray = xr.DataArray(mask.astype(bool), dims=('y', 'x'))\n",
    "\n",
    "    masked_dataset = dataset.where(mask_dataarray)\n",
    "\n",
    "    xmin, ymin, xmax, ymax = geodataframe.total_bounds\n",
    "\n",
    "    if not (xmin >= dataset.x.min() and xmax <= dataset.x.max() and ymin >= dataset.y.min() and ymax <= dataset.y.max()):\n",
    "        raise ValueError(\"Bounding box from GeoDataFrame exceeds dataset bounds.\")\n",
    "\n",
    "    masked_dataset = masked_dataset.sel(x=slice(xmin, xmax), y=slice(ymax, ymin))    \n",
    "\n",
    "    if 'time' in masked_dataset.dims:\n",
    "        masked_dataset = masked_dataset.sortby('time')\n",
    "    \n",
    "    return masked_dataset"
   ]
  },
  {
   "cell_type": "code",
   "execution_count": 6,
   "metadata": {},
   "outputs": [],
   "source": [
    "gdf = gpd.read_file(shapefile_study_area)\n",
    "\n",
    "da = masked_region(\n",
    "    data['predictions'], gdf\n",
    ")"
   ]
  },
  {
   "cell_type": "markdown",
   "metadata": {},
   "source": [
    "# Calculate Areas"
   ]
  },
  {
   "cell_type": "code",
   "execution_count": 7,
   "metadata": {},
   "outputs": [],
   "source": [
    "def calculate_coverage_area(data, variable_name=None, value=None):\n",
    " \n",
    "    if isinstance(data, xr.Dataset):\n",
    "        if variable_name is None:\n",
    "            raise ValueError(\"variable_name must be provided for xarray.Dataset\")\n",
    "        variable_data = data[variable_name]\n",
    "    elif isinstance(data, xr.DataArray):\n",
    "        variable_data = data\n",
    "    else:\n",
    "        raise TypeError(\"Input must be an xarray.Dataset or xarray.DataArray\")\n",
    "\n",
    "    res_x = np.abs(data['x'][1] - data['x'][0])\n",
    "    res_y = np.abs(data['y'][1] - data['y'][0])\n",
    "    pixel_area = res_x * res_y\n",
    "\n",
    "    condition = (variable_data == value)\n",
    "    \n",
    "    total_area = (condition * pixel_area).sum(dim=['y', 'x'])\n",
    "\n",
    "    total_area_ha = total_area / 10000.0\n",
    "    \n",
    "    return total_area_ha"
   ]
  },
  {
   "cell_type": "code",
   "execution_count": 8,
   "metadata": {},
   "outputs": [],
   "source": [
    "column_names = {\n",
    "    1: 'denseSeagrass', 2: 'sparseSeagrass', \n",
    "    3: 'coralRubble', 4: 'sand'\n",
    "}\n",
    "\n",
    "area_dict = {\n",
    "    'year': [], 'denseSeagrass': [], 'sparseSeagrass': [],\n",
    "    'coralRubble': [], 'sand': [], 'total_area': []\n",
    "}\n",
    "\n",
    "for value, column_name in column_names.items():\n",
    "    area_per_time = calculate_coverage_area(da, variable_name=None, value=value)\n",
    "    area_dict[column_name] = area_per_time.values\n",
    "    area_dict['year'] = pd.to_datetime(da['time'].values).year\n",
    "\n",
    "area_dict['total_area'] = np.sum([area_dict[name] for name in column_names.values()], axis=0)\n",
    "\n",
    "df = pd.DataFrame(area_dict).sort_values(by='year')\n",
    "\n",
    "df_percentage = df[['denseSeagrass', 'sparseSeagrass', 'coralRubble', 'sand']].div(df['total_area'], axis=0) * 100\n",
    "df_percentage.set_index(df['year'], inplace=True)"
   ]
  },
  {
   "cell_type": "code",
   "execution_count": 30,
   "metadata": {},
   "outputs": [
    {
     "data": {
      "application/vnd.plotly.v1+json": {
       "config": {
        "plotlyServerURL": "https://plot.ly"
       },
       "data": [
        {
         "marker": {
          "color": "#508D69"
         },
         "name": "denseSeagrass",
         "text": [
          29.72,
          53.63,
          51.86,
          42.66,
          48.32,
          37.2,
          18.93,
          40.27
         ],
         "textfont": {
          "color": "black",
          "family": "Lato",
          "weight": "bold"
         },
         "textposition": "inside",
         "texttemplate": "%{text:.2f} ha",
         "type": "bar",
         "x": [
          2016,
          2017,
          2018,
          2019,
          2020,
          2021,
          2022,
          2023
         ],
         "xaxis": "x",
         "y": [
          3.309097792079098,
          5.856465809072444,
          5.5813853372939,
          4.678965494548884,
          5.280354937765684,
          4.242603955201753,
          2.1181367557708874,
          4.419931950389639
         ],
         "yaxis": "y"
        },
        {
         "marker": {
          "color": "#9ADE7B"
         },
         "name": "sparseSeagrass",
         "text": [
          210.6,
          174.24,
          154.91,
          187.93,
          153.93,
          185.68,
          173.32,
          157.67
         ],
         "textfont": {
          "color": "black",
          "family": "Lato",
          "weight": "bold"
         },
         "textposition": "inside",
         "texttemplate": "%{text:.2f} ha",
         "type": "bar",
         "x": [
          2016,
          2017,
          2018,
          2019,
          2020,
          2021,
          2022,
          2023
         ],
         "xaxis": "x",
         "y": [
          23.448721231892936,
          19.027234804638873,
          16.67204787119549,
          20.61223594445785,
          16.821296265941054,
          21.17652425811455,
          19.393315505029594,
          17.305454944572492
         ],
         "yaxis": "y"
        },
        {
         "marker": {
          "color": "#FF6464"
         },
         "name": "coralRubble",
         "text": [
          316.26,
          283.94,
          312.63,
          322.51,
          303.47,
          246.26,
          267.87,
          296.04
         ],
         "textfont": {
          "color": "black",
          "family": "Lato",
          "weight": "bold"
         },
         "textposition": "inside",
         "texttemplate": "%{text:.2f} ha",
         "type": "bar",
         "x": [
          2016,
          2017,
          2018,
          2019,
          2020,
          2021,
          2022,
          2023
         ],
         "xaxis": "x",
         "y": [
          35.21316513199649,
          31.006617598881782,
          33.64651943691076,
          35.373023010946106,
          33.1628582980909,
          28.08558198946192,
          29.972809971914828,
          32.49259137306553
         ],
         "yaxis": "y"
        },
        {
         "marker": {
          "color": "#FFE162"
         },
         "name": "sand",
         "text": [
          341.55,
          403.93,
          409.76,
          358.64,
          409.37,
          407.68,
          433.59,
          417.12
         ],
         "textfont": {
          "color": "black",
          "family": "Lato",
          "weight": "bold"
         },
         "textposition": "inside",
         "texttemplate": "%{text:.2f} ha",
         "type": "bar",
         "x": [
          2016,
          2017,
          2018,
          2019,
          2020,
          2021,
          2022,
          2023
         ],
         "xaxis": "x",
         "y": [
          38.02901584403149,
          44.109681787406906,
          44.10004735459985,
          39.33577555004716,
          44.73549049820236,
          46.49528979722179,
          48.51573776728468,
          45.782021731972335
         ],
         "yaxis": "y"
        }
       ],
       "layout": {
        "barmode": "stack",
        "height": 600,
        "legend": {
         "font": {
          "color": "black",
          "family": "Lato",
          "size": 16
         },
         "orientation": "h",
         "traceorder": "normal",
         "x": 0.5,
         "xanchor": "center",
         "y": -0.1,
         "yanchor": "top"
        },
        "plot_bgcolor": "white",
        "template": {
         "data": {
          "bar": [
           {
            "error_x": {
             "color": "#2a3f5f"
            },
            "error_y": {
             "color": "#2a3f5f"
            },
            "marker": {
             "line": {
              "color": "#E5ECF6",
              "width": 0.5
             },
             "pattern": {
              "fillmode": "overlay",
              "size": 10,
              "solidity": 0.2
             }
            },
            "type": "bar"
           }
          ],
          "barpolar": [
           {
            "marker": {
             "line": {
              "color": "#E5ECF6",
              "width": 0.5
             },
             "pattern": {
              "fillmode": "overlay",
              "size": 10,
              "solidity": 0.2
             }
            },
            "type": "barpolar"
           }
          ],
          "carpet": [
           {
            "aaxis": {
             "endlinecolor": "#2a3f5f",
             "gridcolor": "white",
             "linecolor": "white",
             "minorgridcolor": "white",
             "startlinecolor": "#2a3f5f"
            },
            "baxis": {
             "endlinecolor": "#2a3f5f",
             "gridcolor": "white",
             "linecolor": "white",
             "minorgridcolor": "white",
             "startlinecolor": "#2a3f5f"
            },
            "type": "carpet"
           }
          ],
          "choropleth": [
           {
            "colorbar": {
             "outlinewidth": 0,
             "ticks": ""
            },
            "type": "choropleth"
           }
          ],
          "contour": [
           {
            "colorbar": {
             "outlinewidth": 0,
             "ticks": ""
            },
            "colorscale": [
             [
              0,
              "#0d0887"
             ],
             [
              0.1111111111111111,
              "#46039f"
             ],
             [
              0.2222222222222222,
              "#7201a8"
             ],
             [
              0.3333333333333333,
              "#9c179e"
             ],
             [
              0.4444444444444444,
              "#bd3786"
             ],
             [
              0.5555555555555556,
              "#d8576b"
             ],
             [
              0.6666666666666666,
              "#ed7953"
             ],
             [
              0.7777777777777778,
              "#fb9f3a"
             ],
             [
              0.8888888888888888,
              "#fdca26"
             ],
             [
              1,
              "#f0f921"
             ]
            ],
            "type": "contour"
           }
          ],
          "contourcarpet": [
           {
            "colorbar": {
             "outlinewidth": 0,
             "ticks": ""
            },
            "type": "contourcarpet"
           }
          ],
          "heatmap": [
           {
            "colorbar": {
             "outlinewidth": 0,
             "ticks": ""
            },
            "colorscale": [
             [
              0,
              "#0d0887"
             ],
             [
              0.1111111111111111,
              "#46039f"
             ],
             [
              0.2222222222222222,
              "#7201a8"
             ],
             [
              0.3333333333333333,
              "#9c179e"
             ],
             [
              0.4444444444444444,
              "#bd3786"
             ],
             [
              0.5555555555555556,
              "#d8576b"
             ],
             [
              0.6666666666666666,
              "#ed7953"
             ],
             [
              0.7777777777777778,
              "#fb9f3a"
             ],
             [
              0.8888888888888888,
              "#fdca26"
             ],
             [
              1,
              "#f0f921"
             ]
            ],
            "type": "heatmap"
           }
          ],
          "heatmapgl": [
           {
            "colorbar": {
             "outlinewidth": 0,
             "ticks": ""
            },
            "colorscale": [
             [
              0,
              "#0d0887"
             ],
             [
              0.1111111111111111,
              "#46039f"
             ],
             [
              0.2222222222222222,
              "#7201a8"
             ],
             [
              0.3333333333333333,
              "#9c179e"
             ],
             [
              0.4444444444444444,
              "#bd3786"
             ],
             [
              0.5555555555555556,
              "#d8576b"
             ],
             [
              0.6666666666666666,
              "#ed7953"
             ],
             [
              0.7777777777777778,
              "#fb9f3a"
             ],
             [
              0.8888888888888888,
              "#fdca26"
             ],
             [
              1,
              "#f0f921"
             ]
            ],
            "type": "heatmapgl"
           }
          ],
          "histogram": [
           {
            "marker": {
             "pattern": {
              "fillmode": "overlay",
              "size": 10,
              "solidity": 0.2
             }
            },
            "type": "histogram"
           }
          ],
          "histogram2d": [
           {
            "colorbar": {
             "outlinewidth": 0,
             "ticks": ""
            },
            "colorscale": [
             [
              0,
              "#0d0887"
             ],
             [
              0.1111111111111111,
              "#46039f"
             ],
             [
              0.2222222222222222,
              "#7201a8"
             ],
             [
              0.3333333333333333,
              "#9c179e"
             ],
             [
              0.4444444444444444,
              "#bd3786"
             ],
             [
              0.5555555555555556,
              "#d8576b"
             ],
             [
              0.6666666666666666,
              "#ed7953"
             ],
             [
              0.7777777777777778,
              "#fb9f3a"
             ],
             [
              0.8888888888888888,
              "#fdca26"
             ],
             [
              1,
              "#f0f921"
             ]
            ],
            "type": "histogram2d"
           }
          ],
          "histogram2dcontour": [
           {
            "colorbar": {
             "outlinewidth": 0,
             "ticks": ""
            },
            "colorscale": [
             [
              0,
              "#0d0887"
             ],
             [
              0.1111111111111111,
              "#46039f"
             ],
             [
              0.2222222222222222,
              "#7201a8"
             ],
             [
              0.3333333333333333,
              "#9c179e"
             ],
             [
              0.4444444444444444,
              "#bd3786"
             ],
             [
              0.5555555555555556,
              "#d8576b"
             ],
             [
              0.6666666666666666,
              "#ed7953"
             ],
             [
              0.7777777777777778,
              "#fb9f3a"
             ],
             [
              0.8888888888888888,
              "#fdca26"
             ],
             [
              1,
              "#f0f921"
             ]
            ],
            "type": "histogram2dcontour"
           }
          ],
          "mesh3d": [
           {
            "colorbar": {
             "outlinewidth": 0,
             "ticks": ""
            },
            "type": "mesh3d"
           }
          ],
          "parcoords": [
           {
            "line": {
             "colorbar": {
              "outlinewidth": 0,
              "ticks": ""
             }
            },
            "type": "parcoords"
           }
          ],
          "pie": [
           {
            "automargin": true,
            "type": "pie"
           }
          ],
          "scatter": [
           {
            "fillpattern": {
             "fillmode": "overlay",
             "size": 10,
             "solidity": 0.2
            },
            "type": "scatter"
           }
          ],
          "scatter3d": [
           {
            "line": {
             "colorbar": {
              "outlinewidth": 0,
              "ticks": ""
             }
            },
            "marker": {
             "colorbar": {
              "outlinewidth": 0,
              "ticks": ""
             }
            },
            "type": "scatter3d"
           }
          ],
          "scattercarpet": [
           {
            "marker": {
             "colorbar": {
              "outlinewidth": 0,
              "ticks": ""
             }
            },
            "type": "scattercarpet"
           }
          ],
          "scattergeo": [
           {
            "marker": {
             "colorbar": {
              "outlinewidth": 0,
              "ticks": ""
             }
            },
            "type": "scattergeo"
           }
          ],
          "scattergl": [
           {
            "marker": {
             "colorbar": {
              "outlinewidth": 0,
              "ticks": ""
             }
            },
            "type": "scattergl"
           }
          ],
          "scattermapbox": [
           {
            "marker": {
             "colorbar": {
              "outlinewidth": 0,
              "ticks": ""
             }
            },
            "type": "scattermapbox"
           }
          ],
          "scatterpolar": [
           {
            "marker": {
             "colorbar": {
              "outlinewidth": 0,
              "ticks": ""
             }
            },
            "type": "scatterpolar"
           }
          ],
          "scatterpolargl": [
           {
            "marker": {
             "colorbar": {
              "outlinewidth": 0,
              "ticks": ""
             }
            },
            "type": "scatterpolargl"
           }
          ],
          "scatterternary": [
           {
            "marker": {
             "colorbar": {
              "outlinewidth": 0,
              "ticks": ""
             }
            },
            "type": "scatterternary"
           }
          ],
          "surface": [
           {
            "colorbar": {
             "outlinewidth": 0,
             "ticks": ""
            },
            "colorscale": [
             [
              0,
              "#0d0887"
             ],
             [
              0.1111111111111111,
              "#46039f"
             ],
             [
              0.2222222222222222,
              "#7201a8"
             ],
             [
              0.3333333333333333,
              "#9c179e"
             ],
             [
              0.4444444444444444,
              "#bd3786"
             ],
             [
              0.5555555555555556,
              "#d8576b"
             ],
             [
              0.6666666666666666,
              "#ed7953"
             ],
             [
              0.7777777777777778,
              "#fb9f3a"
             ],
             [
              0.8888888888888888,
              "#fdca26"
             ],
             [
              1,
              "#f0f921"
             ]
            ],
            "type": "surface"
           }
          ],
          "table": [
           {
            "cells": {
             "fill": {
              "color": "#EBF0F8"
             },
             "line": {
              "color": "white"
             }
            },
            "header": {
             "fill": {
              "color": "#C8D4E3"
             },
             "line": {
              "color": "white"
             }
            },
            "type": "table"
           }
          ]
         },
         "layout": {
          "annotationdefaults": {
           "arrowcolor": "#2a3f5f",
           "arrowhead": 0,
           "arrowwidth": 1
          },
          "autotypenumbers": "strict",
          "coloraxis": {
           "colorbar": {
            "outlinewidth": 0,
            "ticks": ""
           }
          },
          "colorscale": {
           "diverging": [
            [
             0,
             "#8e0152"
            ],
            [
             0.1,
             "#c51b7d"
            ],
            [
             0.2,
             "#de77ae"
            ],
            [
             0.3,
             "#f1b6da"
            ],
            [
             0.4,
             "#fde0ef"
            ],
            [
             0.5,
             "#f7f7f7"
            ],
            [
             0.6,
             "#e6f5d0"
            ],
            [
             0.7,
             "#b8e186"
            ],
            [
             0.8,
             "#7fbc41"
            ],
            [
             0.9,
             "#4d9221"
            ],
            [
             1,
             "#276419"
            ]
           ],
           "sequential": [
            [
             0,
             "#0d0887"
            ],
            [
             0.1111111111111111,
             "#46039f"
            ],
            [
             0.2222222222222222,
             "#7201a8"
            ],
            [
             0.3333333333333333,
             "#9c179e"
            ],
            [
             0.4444444444444444,
             "#bd3786"
            ],
            [
             0.5555555555555556,
             "#d8576b"
            ],
            [
             0.6666666666666666,
             "#ed7953"
            ],
            [
             0.7777777777777778,
             "#fb9f3a"
            ],
            [
             0.8888888888888888,
             "#fdca26"
            ],
            [
             1,
             "#f0f921"
            ]
           ],
           "sequentialminus": [
            [
             0,
             "#0d0887"
            ],
            [
             0.1111111111111111,
             "#46039f"
            ],
            [
             0.2222222222222222,
             "#7201a8"
            ],
            [
             0.3333333333333333,
             "#9c179e"
            ],
            [
             0.4444444444444444,
             "#bd3786"
            ],
            [
             0.5555555555555556,
             "#d8576b"
            ],
            [
             0.6666666666666666,
             "#ed7953"
            ],
            [
             0.7777777777777778,
             "#fb9f3a"
            ],
            [
             0.8888888888888888,
             "#fdca26"
            ],
            [
             1,
             "#f0f921"
            ]
           ]
          },
          "colorway": [
           "#636efa",
           "#EF553B",
           "#00cc96",
           "#ab63fa",
           "#FFA15A",
           "#19d3f3",
           "#FF6692",
           "#B6E880",
           "#FF97FF",
           "#FECB52"
          ],
          "font": {
           "color": "#2a3f5f"
          },
          "geo": {
           "bgcolor": "white",
           "lakecolor": "white",
           "landcolor": "#E5ECF6",
           "showlakes": true,
           "showland": true,
           "subunitcolor": "white"
          },
          "hoverlabel": {
           "align": "left"
          },
          "hovermode": "closest",
          "mapbox": {
           "style": "light"
          },
          "paper_bgcolor": "white",
          "plot_bgcolor": "#E5ECF6",
          "polar": {
           "angularaxis": {
            "gridcolor": "white",
            "linecolor": "white",
            "ticks": ""
           },
           "bgcolor": "#E5ECF6",
           "radialaxis": {
            "gridcolor": "white",
            "linecolor": "white",
            "ticks": ""
           }
          },
          "scene": {
           "xaxis": {
            "backgroundcolor": "#E5ECF6",
            "gridcolor": "white",
            "gridwidth": 2,
            "linecolor": "white",
            "showbackground": true,
            "ticks": "",
            "zerolinecolor": "white"
           },
           "yaxis": {
            "backgroundcolor": "#E5ECF6",
            "gridcolor": "white",
            "gridwidth": 2,
            "linecolor": "white",
            "showbackground": true,
            "ticks": "",
            "zerolinecolor": "white"
           },
           "zaxis": {
            "backgroundcolor": "#E5ECF6",
            "gridcolor": "white",
            "gridwidth": 2,
            "linecolor": "white",
            "showbackground": true,
            "ticks": "",
            "zerolinecolor": "white"
           }
          },
          "shapedefaults": {
           "line": {
            "color": "#2a3f5f"
           }
          },
          "ternary": {
           "aaxis": {
            "gridcolor": "white",
            "linecolor": "white",
            "ticks": ""
           },
           "baxis": {
            "gridcolor": "white",
            "linecolor": "white",
            "ticks": ""
           },
           "bgcolor": "#E5ECF6",
           "caxis": {
            "gridcolor": "white",
            "linecolor": "white",
            "ticks": ""
           }
          },
          "title": {
           "x": 0.05
          },
          "xaxis": {
           "automargin": true,
           "gridcolor": "white",
           "linecolor": "white",
           "ticks": "",
           "title": {
            "standoff": 15
           },
           "zerolinecolor": "white",
           "zerolinewidth": 2
          },
          "yaxis": {
           "automargin": true,
           "gridcolor": "white",
           "linecolor": "white",
           "ticks": "",
           "title": {
            "standoff": 15
           },
           "zerolinecolor": "white",
           "zerolinewidth": 2
          }
         }
        },
        "width": 1000,
        "xaxis": {
         "anchor": "y",
         "domain": [
          0,
          0.94
         ],
         "linecolor": "rgb(0, 0, 0)",
         "linewidth": 2,
         "showline": true,
         "tickcolor": "rgb(0, 0, 0)",
         "tickfont": {
          "color": "rgb(0, 0, 0)",
          "family": "Lato",
          "size": 16
         },
         "tickmode": "array",
         "ticks": "outside",
         "ticktext": [
          2016,
          2017,
          2018,
          2019,
          2020,
          2021,
          2022,
          2023
         ],
         "tickvals": [
          2016,
          2017,
          2018,
          2019,
          2020,
          2021,
          2022,
          2023
         ]
        },
        "yaxis": {
         "anchor": "x",
         "domain": [
          0,
          1
         ],
         "tickcolor": "black",
         "tickfont": {
          "color": "black",
          "family": "Lato",
          "size": 16
         },
         "ticks": "outside",
         "title": {
          "font": {
           "color": "black",
           "family": "Lato",
           "size": 16
          },
          "text": "Percentage (%)"
         },
         "zeroline": false
        },
        "yaxis2": {
         "anchor": "x",
         "overlaying": "y",
         "side": "right"
        }
       }
      }
     },
     "metadata": {},
     "output_type": "display_data"
    }
   ],
   "source": [
    "\n",
    "# Create subplots with shared x-axis\n",
    "fig = make_subplots(specs=[[{\"secondary_y\": True}]])\n",
    "\n",
    "# Add stacked bar plot for percentages\n",
    "colors = ['#508D69', '#9ADE7B', '#FF6464', '#FFE162']\n",
    "for col, color in zip(df_percentage.columns, colors):\n",
    "    fig.add_trace(\n",
    "        go.Bar(\n",
    "            x=df['year'],\n",
    "            y=df_percentage[col],\n",
    "            name=col,\n",
    "            marker_color=color,\n",
    "            text=df[col],\n",
    "            textposition='inside',\n",
    "            texttemplate='%{text:.2f} ha',\n",
    "            textfont =dict(\n",
    "                family='Lato',\n",
    "                color='black',\n",
    "                weight=\"bold\"\n",
    "            )\n",
    "        ),\n",
    "        secondary_y=False\n",
    "    )\n",
    "\n",
    "# Update layout\n",
    "fig.update_layout(\n",
    "    xaxis=dict(\n",
    "        tickmode='array',\n",
    "        tickvals=df['year'],\n",
    "        ticktext=df['year'],\n",
    "        showline=True,\n",
    "        linecolor='rgb(0, 0, 0)',\n",
    "        linewidth=2,\n",
    "        ticks='outside',\n",
    "        tickcolor='rgb(0, 0, 0)',\n",
    "        tickfont=dict(\n",
    "            family='Lato',\n",
    "            size=16,\n",
    "            color='rgb(0, 0, 0)'\n",
    "        )\n",
    "    ),\n",
    "    yaxis=dict(\n",
    "        title='Percentage (%)',\n",
    "        titlefont=dict(\n",
    "            family='Lato',\n",
    "            size=16,\n",
    "            color='black'\n",
    "        ),\n",
    "        zeroline=False,\n",
    "        ticks='outside',\n",
    "        tickcolor='black',\n",
    "        tickfont=dict(\n",
    "            family='Lato',\n",
    "            size=16,\n",
    "            color='black'\n",
    "        )\n",
    "    ),\n",
    "    plot_bgcolor='white',\n",
    "    height=600,\n",
    "    width=1000,\n",
    "    barmode='stack'\n",
    ")\n",
    "\n",
    "# Add legend\n",
    "fig.update_layout(\n",
    "    legend=dict(\n",
    "        x=0.5,\n",
    "        y=-0.1,\n",
    "        xanchor='center',\n",
    "        yanchor='top',\n",
    "        orientation='h',\n",
    "        traceorder='normal',\n",
    "        font=dict(\n",
    "            family='Lato',\n",
    "            size=16,\n",
    "            color='black'\n",
    "        )\n",
    "    )\n",
    ")\n",
    "\n",
    "# Display the plot\n",
    "fig.show()\n",
    "\n",
    "# Save the figure as a PNG file\n",
    "fig.write_image(os.path.join(img_path, 'coverage_area_percentage.png'), engine=\"kaleido\", scale=6)"
   ]
  },
  {
   "cell_type": "markdown",
   "metadata": {},
   "source": [
    "# SST and denseSeagrass"
   ]
  },
  {
   "cell_type": "markdown",
   "metadata": {},
   "source": [
    "## Open and Prepare Datasets"
   ]
  },
  {
   "cell_type": "code",
   "execution_count": 49,
   "metadata": {},
   "outputs": [],
   "source": [
    "def prepare_sst(file_path, var_name):\n",
    "    dataset = xr.open_dataset(file_path)\n",
    "    \n",
    "    valid_min = dataset[var_name].attrs['valid_min']\n",
    "    valid_max = dataset[var_name].attrs['valid_max']\n",
    "    dataset[var_name] = dataset[var_name].where(\n",
    "        (dataset[var_name] >= valid_min) & (dataset[var_name] <= valid_max) , np.nan\n",
    "    )\n",
    "    \n",
    "    dataset[var_name] = dataset[var_name] - 273.15\n",
    "    dataset[var_name].attrs['units'] = 'Celcius'\n",
    "    \n",
    "    dataset = dataset.resample(time='YE').mean()\n",
    "    \n",
    "    return dataset.rio.write_crs(\"EPSG:4326\", inplace=True).rio.reproject(\"EPSG:32748\")"
   ]
  },
  {
   "cell_type": "markdown",
   "metadata": {},
   "source": [
    "### Prepare and Clip Dataset"
   ]
  },
  {
   "cell_type": "code",
   "execution_count": 50,
   "metadata": {},
   "outputs": [],
   "source": [
    "sst_data = prepare_sst(file_data_sst_path, 'analysed_sst')\n",
    "\n",
    "sst_da = sst_data['analysed_sst'].rio.clip(\n",
    "    gdf.geometry, gdf.crs, all_touched=True, invert=False\n",
    ")\n",
    "mean_sst = sst_da.mean(dim=['x', 'y'])\n",
    "\n",
    "total_areas = calculate_coverage_area(\n",
    "    da, variable_name=None, value=1\n",
    ")"
   ]
  },
  {
   "cell_type": "markdown",
   "metadata": {},
   "source": [
    "## Plot both dataset"
   ]
  },
  {
   "cell_type": "code",
   "execution_count": 71,
   "metadata": {},
   "outputs": [],
   "source": [
    "df_area = pd.DataFrame({\n",
    "    'year': pd.to_datetime(total_areas['time'].values).year,\n",
    "    'total_area': total_areas.values\n",
    "})\n",
    "\n",
    "df_area = df_area.sort_values(by='year')# Assuming your DataArray is named 'total_area'\n",
    "df_sst = pd.DataFrame({\n",
    "    'year': pd.to_datetime(mean_sst['time'].values).year,\n",
    "    'degC': mean_sst.values.flatten().round(2)\n",
    "})\n",
    "\n",
    "df_sst = df_sst.sort_values(by='year')\n",
    "df = pd.merge(df_sst, df_area, on='year')\n",
    "\n",
    "slope, intercept, r_value, p_value, std_err = linregress(df['year'], df['total_area'])\n",
    "df['trend_line'] = intercept + slope * df['year']"
   ]
  },
  {
   "cell_type": "code",
   "execution_count": 54,
   "metadata": {},
   "outputs": [
    {
     "data": {
      "application/vnd.plotly.v1+json": {
       "config": {
        "plotlyServerURL": "https://plot.ly"
       },
       "data": [
        {
         "marker": {
          "color": "blue"
         },
         "name": "Coverage Area (ha)",
         "opacity": 0.7,
         "type": "bar",
         "x": [
          2016,
          2017,
          2018,
          2019,
          2020,
          2021,
          2022,
          2023
         ],
         "xaxis": "x",
         "y": [
          29.72,
          53.63,
          51.86,
          42.66,
          48.32,
          37.2,
          18.93,
          40.27
         ],
         "yaxis": "y"
        },
        {
         "line": {
          "color": "black",
          "dash": "dash"
         },
         "mode": "lines",
         "name": "Trend Line; Slope: -1.64 ha/year",
         "type": "scatter",
         "x": [
          2016,
          2017,
          2018,
          2019,
          2020,
          2021,
          2022,
          2023
         ],
         "xaxis": "x",
         "y": [
          46.07249999999976,
          44.429999999999836,
          42.78749999999991,
          41.14499999999998,
          39.5024999999996,
          37.85999999999967,
          36.217499999999745,
          34.57499999999982
         ],
         "yaxis": "y"
        },
        {
         "line": {
          "color": "red",
          "width": 2
         },
         "mode": "lines",
         "name": "Sea Surface Temperature (°C)",
         "type": "scatter",
         "x": [
          2016,
          2017,
          2018,
          2019,
          2020,
          2021,
          2022,
          2023
         ],
         "xaxis": "x",
         "y": [
          29.72,
          29.32,
          29.17,
          29.22,
          29.48,
          29.39,
          29.36,
          29.34
         ],
         "yaxis": "y2"
        }
       ],
       "layout": {
        "height": 600,
        "legend": {
         "font": {
          "color": "black",
          "family": "Lato",
          "size": 16
         },
         "traceorder": "normal",
         "x": 0.675,
         "y": 1
        },
        "plot_bgcolor": "white",
        "template": {
         "data": {
          "bar": [
           {
            "error_x": {
             "color": "#2a3f5f"
            },
            "error_y": {
             "color": "#2a3f5f"
            },
            "marker": {
             "line": {
              "color": "#E5ECF6",
              "width": 0.5
             },
             "pattern": {
              "fillmode": "overlay",
              "size": 10,
              "solidity": 0.2
             }
            },
            "type": "bar"
           }
          ],
          "barpolar": [
           {
            "marker": {
             "line": {
              "color": "#E5ECF6",
              "width": 0.5
             },
             "pattern": {
              "fillmode": "overlay",
              "size": 10,
              "solidity": 0.2
             }
            },
            "type": "barpolar"
           }
          ],
          "carpet": [
           {
            "aaxis": {
             "endlinecolor": "#2a3f5f",
             "gridcolor": "white",
             "linecolor": "white",
             "minorgridcolor": "white",
             "startlinecolor": "#2a3f5f"
            },
            "baxis": {
             "endlinecolor": "#2a3f5f",
             "gridcolor": "white",
             "linecolor": "white",
             "minorgridcolor": "white",
             "startlinecolor": "#2a3f5f"
            },
            "type": "carpet"
           }
          ],
          "choropleth": [
           {
            "colorbar": {
             "outlinewidth": 0,
             "ticks": ""
            },
            "type": "choropleth"
           }
          ],
          "contour": [
           {
            "colorbar": {
             "outlinewidth": 0,
             "ticks": ""
            },
            "colorscale": [
             [
              0,
              "#0d0887"
             ],
             [
              0.1111111111111111,
              "#46039f"
             ],
             [
              0.2222222222222222,
              "#7201a8"
             ],
             [
              0.3333333333333333,
              "#9c179e"
             ],
             [
              0.4444444444444444,
              "#bd3786"
             ],
             [
              0.5555555555555556,
              "#d8576b"
             ],
             [
              0.6666666666666666,
              "#ed7953"
             ],
             [
              0.7777777777777778,
              "#fb9f3a"
             ],
             [
              0.8888888888888888,
              "#fdca26"
             ],
             [
              1,
              "#f0f921"
             ]
            ],
            "type": "contour"
           }
          ],
          "contourcarpet": [
           {
            "colorbar": {
             "outlinewidth": 0,
             "ticks": ""
            },
            "type": "contourcarpet"
           }
          ],
          "heatmap": [
           {
            "colorbar": {
             "outlinewidth": 0,
             "ticks": ""
            },
            "colorscale": [
             [
              0,
              "#0d0887"
             ],
             [
              0.1111111111111111,
              "#46039f"
             ],
             [
              0.2222222222222222,
              "#7201a8"
             ],
             [
              0.3333333333333333,
              "#9c179e"
             ],
             [
              0.4444444444444444,
              "#bd3786"
             ],
             [
              0.5555555555555556,
              "#d8576b"
             ],
             [
              0.6666666666666666,
              "#ed7953"
             ],
             [
              0.7777777777777778,
              "#fb9f3a"
             ],
             [
              0.8888888888888888,
              "#fdca26"
             ],
             [
              1,
              "#f0f921"
             ]
            ],
            "type": "heatmap"
           }
          ],
          "heatmapgl": [
           {
            "colorbar": {
             "outlinewidth": 0,
             "ticks": ""
            },
            "colorscale": [
             [
              0,
              "#0d0887"
             ],
             [
              0.1111111111111111,
              "#46039f"
             ],
             [
              0.2222222222222222,
              "#7201a8"
             ],
             [
              0.3333333333333333,
              "#9c179e"
             ],
             [
              0.4444444444444444,
              "#bd3786"
             ],
             [
              0.5555555555555556,
              "#d8576b"
             ],
             [
              0.6666666666666666,
              "#ed7953"
             ],
             [
              0.7777777777777778,
              "#fb9f3a"
             ],
             [
              0.8888888888888888,
              "#fdca26"
             ],
             [
              1,
              "#f0f921"
             ]
            ],
            "type": "heatmapgl"
           }
          ],
          "histogram": [
           {
            "marker": {
             "pattern": {
              "fillmode": "overlay",
              "size": 10,
              "solidity": 0.2
             }
            },
            "type": "histogram"
           }
          ],
          "histogram2d": [
           {
            "colorbar": {
             "outlinewidth": 0,
             "ticks": ""
            },
            "colorscale": [
             [
              0,
              "#0d0887"
             ],
             [
              0.1111111111111111,
              "#46039f"
             ],
             [
              0.2222222222222222,
              "#7201a8"
             ],
             [
              0.3333333333333333,
              "#9c179e"
             ],
             [
              0.4444444444444444,
              "#bd3786"
             ],
             [
              0.5555555555555556,
              "#d8576b"
             ],
             [
              0.6666666666666666,
              "#ed7953"
             ],
             [
              0.7777777777777778,
              "#fb9f3a"
             ],
             [
              0.8888888888888888,
              "#fdca26"
             ],
             [
              1,
              "#f0f921"
             ]
            ],
            "type": "histogram2d"
           }
          ],
          "histogram2dcontour": [
           {
            "colorbar": {
             "outlinewidth": 0,
             "ticks": ""
            },
            "colorscale": [
             [
              0,
              "#0d0887"
             ],
             [
              0.1111111111111111,
              "#46039f"
             ],
             [
              0.2222222222222222,
              "#7201a8"
             ],
             [
              0.3333333333333333,
              "#9c179e"
             ],
             [
              0.4444444444444444,
              "#bd3786"
             ],
             [
              0.5555555555555556,
              "#d8576b"
             ],
             [
              0.6666666666666666,
              "#ed7953"
             ],
             [
              0.7777777777777778,
              "#fb9f3a"
             ],
             [
              0.8888888888888888,
              "#fdca26"
             ],
             [
              1,
              "#f0f921"
             ]
            ],
            "type": "histogram2dcontour"
           }
          ],
          "mesh3d": [
           {
            "colorbar": {
             "outlinewidth": 0,
             "ticks": ""
            },
            "type": "mesh3d"
           }
          ],
          "parcoords": [
           {
            "line": {
             "colorbar": {
              "outlinewidth": 0,
              "ticks": ""
             }
            },
            "type": "parcoords"
           }
          ],
          "pie": [
           {
            "automargin": true,
            "type": "pie"
           }
          ],
          "scatter": [
           {
            "fillpattern": {
             "fillmode": "overlay",
             "size": 10,
             "solidity": 0.2
            },
            "type": "scatter"
           }
          ],
          "scatter3d": [
           {
            "line": {
             "colorbar": {
              "outlinewidth": 0,
              "ticks": ""
             }
            },
            "marker": {
             "colorbar": {
              "outlinewidth": 0,
              "ticks": ""
             }
            },
            "type": "scatter3d"
           }
          ],
          "scattercarpet": [
           {
            "marker": {
             "colorbar": {
              "outlinewidth": 0,
              "ticks": ""
             }
            },
            "type": "scattercarpet"
           }
          ],
          "scattergeo": [
           {
            "marker": {
             "colorbar": {
              "outlinewidth": 0,
              "ticks": ""
             }
            },
            "type": "scattergeo"
           }
          ],
          "scattergl": [
           {
            "marker": {
             "colorbar": {
              "outlinewidth": 0,
              "ticks": ""
             }
            },
            "type": "scattergl"
           }
          ],
          "scattermapbox": [
           {
            "marker": {
             "colorbar": {
              "outlinewidth": 0,
              "ticks": ""
             }
            },
            "type": "scattermapbox"
           }
          ],
          "scatterpolar": [
           {
            "marker": {
             "colorbar": {
              "outlinewidth": 0,
              "ticks": ""
             }
            },
            "type": "scatterpolar"
           }
          ],
          "scatterpolargl": [
           {
            "marker": {
             "colorbar": {
              "outlinewidth": 0,
              "ticks": ""
             }
            },
            "type": "scatterpolargl"
           }
          ],
          "scatterternary": [
           {
            "marker": {
             "colorbar": {
              "outlinewidth": 0,
              "ticks": ""
             }
            },
            "type": "scatterternary"
           }
          ],
          "surface": [
           {
            "colorbar": {
             "outlinewidth": 0,
             "ticks": ""
            },
            "colorscale": [
             [
              0,
              "#0d0887"
             ],
             [
              0.1111111111111111,
              "#46039f"
             ],
             [
              0.2222222222222222,
              "#7201a8"
             ],
             [
              0.3333333333333333,
              "#9c179e"
             ],
             [
              0.4444444444444444,
              "#bd3786"
             ],
             [
              0.5555555555555556,
              "#d8576b"
             ],
             [
              0.6666666666666666,
              "#ed7953"
             ],
             [
              0.7777777777777778,
              "#fb9f3a"
             ],
             [
              0.8888888888888888,
              "#fdca26"
             ],
             [
              1,
              "#f0f921"
             ]
            ],
            "type": "surface"
           }
          ],
          "table": [
           {
            "cells": {
             "fill": {
              "color": "#EBF0F8"
             },
             "line": {
              "color": "white"
             }
            },
            "header": {
             "fill": {
              "color": "#C8D4E3"
             },
             "line": {
              "color": "white"
             }
            },
            "type": "table"
           }
          ]
         },
         "layout": {
          "annotationdefaults": {
           "arrowcolor": "#2a3f5f",
           "arrowhead": 0,
           "arrowwidth": 1
          },
          "autotypenumbers": "strict",
          "coloraxis": {
           "colorbar": {
            "outlinewidth": 0,
            "ticks": ""
           }
          },
          "colorscale": {
           "diverging": [
            [
             0,
             "#8e0152"
            ],
            [
             0.1,
             "#c51b7d"
            ],
            [
             0.2,
             "#de77ae"
            ],
            [
             0.3,
             "#f1b6da"
            ],
            [
             0.4,
             "#fde0ef"
            ],
            [
             0.5,
             "#f7f7f7"
            ],
            [
             0.6,
             "#e6f5d0"
            ],
            [
             0.7,
             "#b8e186"
            ],
            [
             0.8,
             "#7fbc41"
            ],
            [
             0.9,
             "#4d9221"
            ],
            [
             1,
             "#276419"
            ]
           ],
           "sequential": [
            [
             0,
             "#0d0887"
            ],
            [
             0.1111111111111111,
             "#46039f"
            ],
            [
             0.2222222222222222,
             "#7201a8"
            ],
            [
             0.3333333333333333,
             "#9c179e"
            ],
            [
             0.4444444444444444,
             "#bd3786"
            ],
            [
             0.5555555555555556,
             "#d8576b"
            ],
            [
             0.6666666666666666,
             "#ed7953"
            ],
            [
             0.7777777777777778,
             "#fb9f3a"
            ],
            [
             0.8888888888888888,
             "#fdca26"
            ],
            [
             1,
             "#f0f921"
            ]
           ],
           "sequentialminus": [
            [
             0,
             "#0d0887"
            ],
            [
             0.1111111111111111,
             "#46039f"
            ],
            [
             0.2222222222222222,
             "#7201a8"
            ],
            [
             0.3333333333333333,
             "#9c179e"
            ],
            [
             0.4444444444444444,
             "#bd3786"
            ],
            [
             0.5555555555555556,
             "#d8576b"
            ],
            [
             0.6666666666666666,
             "#ed7953"
            ],
            [
             0.7777777777777778,
             "#fb9f3a"
            ],
            [
             0.8888888888888888,
             "#fdca26"
            ],
            [
             1,
             "#f0f921"
            ]
           ]
          },
          "colorway": [
           "#636efa",
           "#EF553B",
           "#00cc96",
           "#ab63fa",
           "#FFA15A",
           "#19d3f3",
           "#FF6692",
           "#B6E880",
           "#FF97FF",
           "#FECB52"
          ],
          "font": {
           "color": "#2a3f5f"
          },
          "geo": {
           "bgcolor": "white",
           "lakecolor": "white",
           "landcolor": "#E5ECF6",
           "showlakes": true,
           "showland": true,
           "subunitcolor": "white"
          },
          "hoverlabel": {
           "align": "left"
          },
          "hovermode": "closest",
          "mapbox": {
           "style": "light"
          },
          "paper_bgcolor": "white",
          "plot_bgcolor": "#E5ECF6",
          "polar": {
           "angularaxis": {
            "gridcolor": "white",
            "linecolor": "white",
            "ticks": ""
           },
           "bgcolor": "#E5ECF6",
           "radialaxis": {
            "gridcolor": "white",
            "linecolor": "white",
            "ticks": ""
           }
          },
          "scene": {
           "xaxis": {
            "backgroundcolor": "#E5ECF6",
            "gridcolor": "white",
            "gridwidth": 2,
            "linecolor": "white",
            "showbackground": true,
            "ticks": "",
            "zerolinecolor": "white"
           },
           "yaxis": {
            "backgroundcolor": "#E5ECF6",
            "gridcolor": "white",
            "gridwidth": 2,
            "linecolor": "white",
            "showbackground": true,
            "ticks": "",
            "zerolinecolor": "white"
           },
           "zaxis": {
            "backgroundcolor": "#E5ECF6",
            "gridcolor": "white",
            "gridwidth": 2,
            "linecolor": "white",
            "showbackground": true,
            "ticks": "",
            "zerolinecolor": "white"
           }
          },
          "shapedefaults": {
           "line": {
            "color": "#2a3f5f"
           }
          },
          "ternary": {
           "aaxis": {
            "gridcolor": "white",
            "linecolor": "white",
            "ticks": ""
           },
           "baxis": {
            "gridcolor": "white",
            "linecolor": "white",
            "ticks": ""
           },
           "bgcolor": "#E5ECF6",
           "caxis": {
            "gridcolor": "white",
            "linecolor": "white",
            "ticks": ""
           }
          },
          "title": {
           "x": 0.05
          },
          "xaxis": {
           "automargin": true,
           "gridcolor": "white",
           "linecolor": "white",
           "ticks": "",
           "title": {
            "standoff": 15
           },
           "zerolinecolor": "white",
           "zerolinewidth": 2
          },
          "yaxis": {
           "automargin": true,
           "gridcolor": "white",
           "linecolor": "white",
           "ticks": "",
           "title": {
            "standoff": 15
           },
           "zerolinecolor": "white",
           "zerolinewidth": 2
          }
         }
        },
        "width": 1000,
        "xaxis": {
         "anchor": "y",
         "domain": [
          0,
          0.94
         ],
         "linecolor": "rgb(0, 0, 0)",
         "linewidth": 2,
         "showline": true,
         "tickcolor": "rgb(0, 0, 0)",
         "tickfont": {
          "color": "rgb(0, 0, 0)",
          "family": "Lato",
          "size": 18
         },
         "tickmode": "array",
         "ticks": "outside",
         "ticktext": [
          2016,
          2017,
          2018,
          2019,
          2020,
          2021,
          2022,
          2023
         ],
         "tickvals": [
          2016,
          2017,
          2018,
          2019,
          2020,
          2021,
          2022,
          2023
         ]
        },
        "yaxis": {
         "anchor": "x",
         "domain": [
          0,
          1
         ],
         "dtick": 4,
         "tick0": 0,
         "tickcolor": "blue",
         "tickfont": {
          "color": "blue",
          "family": "Lato",
          "size": 18
         },
         "ticks": "outside",
         "title": {
          "font": {
           "color": "blue",
           "family": "Lato",
           "size": 18
          },
          "text": "Coverage Area (ha)"
         },
         "zeroline": false
        },
        "yaxis2": {
         "anchor": "x",
         "overlaying": "y",
         "side": "right",
         "tickcolor": "red",
         "tickfont": {
          "color": "red",
          "family": "Lato",
          "size": 18
         },
         "ticks": "outside",
         "title": {
          "font": {
           "color": "red",
           "family": "Lato",
           "size": 18
          },
          "text": "Annual Sea Surface Temperature (°C)"
         },
         "zeroline": false
        }
       }
      }
     },
     "metadata": {},
     "output_type": "display_data"
    }
   ],
   "source": [
    "# Create subplots with shared x-axis\n",
    "fig = make_subplots(specs=[[{\"secondary_y\": True}]])\n",
    "\n",
    "# Add bar plot for total area on the left y-axis\n",
    "fig.add_trace(\n",
    "    go.Bar(\n",
    "        x=df['year'], \n",
    "        y=df['total_area'], \n",
    "        name='Coverage Area (ha)', \n",
    "        marker_color='blue', \n",
    "        opacity=0.7\n",
    "    ),\n",
    "    secondary_y=False,\n",
    ")\n",
    "\n",
    "# Add trend line for total area on the left y-axis\n",
    "fig.add_trace(\n",
    "    go.Scatter(\n",
    "        x=df['year'],\n",
    "        y=df['trend_line'],\n",
    "        name=f'Trend Line; Slope: {slope:.2f} ha/year',\n",
    "        mode='lines',\n",
    "        line=dict(color='black', dash='dash')\n",
    "    ),\n",
    "    secondary_y=False,\n",
    ")\n",
    "\n",
    "# Add line plot for temperature on the right y-axis\n",
    "fig.add_trace(\n",
    "    go.Scatter(\n",
    "        x=df['year'], \n",
    "        y=df['degC'], \n",
    "        name='Sea Surface Temperature (°C)', \n",
    "        mode='lines',\n",
    "        line=dict(color='red', width=2)\n",
    "    ),\n",
    "    secondary_y=True,\n",
    ")\n",
    "\n",
    "# Create axis objects\n",
    "fig.update_layout(\n",
    "    xaxis=dict(\n",
    "        tickmode='array',\n",
    "        tickvals=df['year'],\n",
    "        ticktext=df['year'],\n",
    "        showline=True,\n",
    "        linecolor='rgb(0, 0, 0)',\n",
    "        linewidth=2,\n",
    "        ticks='outside',\n",
    "        tickcolor='rgb(0, 0, 0)',\n",
    "        tickfont=dict(\n",
    "            family='Lato',\n",
    "            size=18,\n",
    "            color='rgb(0, 0, 0)'\n",
    "        )\n",
    "    ),\n",
    "    yaxis=dict(\n",
    "        title='Coverage Area (ha)',\n",
    "        titlefont=dict(\n",
    "            family='Lato',\n",
    "            size=18,\n",
    "            color='blue'\n",
    "        ),\n",
    "        zeroline=False,\n",
    "        ticks='outside',\n",
    "        tickcolor='blue',\n",
    "        tickfont=dict(\n",
    "            family='Lato',\n",
    "            size=18,\n",
    "            color='blue'\n",
    "        ),\n",
    "        tick0=0, \n",
    "        dtick=4\n",
    "    ),\n",
    "    yaxis2=dict(\n",
    "        title='Annual Sea Surface Temperature (°C)',\n",
    "        titlefont=dict(\n",
    "            family='Lato',\n",
    "            size=18,\n",
    "            color='red'\n",
    "        ),\n",
    "        overlaying='y',\n",
    "        side='right',\n",
    "        zeroline=False,\n",
    "        ticks='outside',\n",
    "        tickcolor='red',\n",
    "        tickfont=dict(\n",
    "            family='Lato',\n",
    "            size=18,\n",
    "            color='red'\n",
    "        )\n",
    "    ),\n",
    "    plot_bgcolor='white',\n",
    "    height=600,\n",
    "    width=1000\n",
    ")\n",
    "\n",
    "# Add legend\n",
    "fig.update_layout(\n",
    "    legend=dict(\n",
    "        x=0.675,\n",
    "        y=1,\n",
    "        traceorder='normal',\n",
    "        font=dict(\n",
    "            family='Lato',\n",
    "            size=16,\n",
    "            color='black'\n",
    "        )\n",
    "    )\n",
    ")\n",
    "\n",
    "# Display the plot\n",
    "fig.show()\n",
    "\n",
    "# Save the figure as a PNG file\n",
    "fig.write_image(os.path.join(img_path, 'coverage_sst.png'), engine=\"kaleido\", scale=6)"
   ]
  },
  {
   "cell_type": "code",
   "execution_count": 41,
   "metadata": {},
   "outputs": [
    {
     "name": "stdout",
     "output_type": "stream",
     "text": [
      "Correlation coefficient: -0.4323960008209777\n"
     ]
    }
   ],
   "source": [
    "correlation = df['degC'].corr(df['total_area'])\n",
    "print(f'Correlation coefficient: {correlation}')"
   ]
  },
  {
   "cell_type": "markdown",
   "metadata": {},
   "source": [
    "# Climate Variables"
   ]
  },
  {
   "cell_type": "markdown",
   "metadata": {},
   "source": [
    "## ONI"
   ]
  },
  {
   "cell_type": "code",
   "execution_count": 86,
   "metadata": {},
   "outputs": [],
   "source": [
    "climate_vars_path = os.path.join(base_dir, 'data', 'raw', 'climate_variables')\n",
    "oni_file = os.path.join(climate_vars_path, 'ONI_2016_2023.csv')\n",
    "df = pd.read_csv(oni_file)"
   ]
  },
  {
   "cell_type": "code",
   "execution_count": 87,
   "metadata": {},
   "outputs": [
    {
     "data": {
      "application/vnd.plotly.v1+json": {
       "config": {
        "plotlyServerURL": "https://plot.ly"
       },
       "data": [
        {
         "marker": {
          "color": [
           "red",
           "red",
           "red",
           "blue",
           "blue",
           "blue",
           "blue",
           "red",
           "red",
           "red",
           "blue",
           "blue",
           "blue",
           "blue",
           "blue",
           "red",
           "red",
           "red",
           "red",
           "red",
           "red",
           "red",
           "red",
           "red",
           "red",
           "red",
           "blue",
           "blue",
           "blue",
           "blue",
           "blue",
           "blue",
           "blue",
           "blue",
           "blue",
           "blue",
           "blue",
           "blue",
           "blue",
           "blue",
           "blue",
           "blue",
           "blue",
           "blue",
           "red",
           "red",
           "red",
           "red"
          ]
         },
         "type": "bar",
         "x": [
          "2016-01-01T00:00:00",
          "2016-03-01T00:00:00",
          "2016-05-01T00:00:00",
          "2016-07-01T00:00:00",
          "2016-09-01T00:00:00",
          "2016-11-01T00:00:00",
          "2017-01-01T00:00:00",
          "2017-03-01T00:00:00",
          "2017-05-01T00:00:00",
          "2017-07-01T00:00:00",
          "2017-09-01T00:00:00",
          "2017-11-01T00:00:00",
          "2018-01-01T00:00:00",
          "2018-03-01T00:00:00",
          "2018-05-01T00:00:00",
          "2018-07-01T00:00:00",
          "2018-09-01T00:00:00",
          "2018-11-01T00:00:00",
          "2019-01-01T00:00:00",
          "2019-03-01T00:00:00",
          "2019-05-01T00:00:00",
          "2019-07-01T00:00:00",
          "2019-09-01T00:00:00",
          "2019-11-01T00:00:00",
          "2020-01-01T00:00:00",
          "2020-03-01T00:00:00",
          "2020-05-01T00:00:00",
          "2020-07-01T00:00:00",
          "2020-09-01T00:00:00",
          "2020-11-01T00:00:00",
          "2021-01-01T00:00:00",
          "2021-03-01T00:00:00",
          "2021-05-01T00:00:00",
          "2021-07-01T00:00:00",
          "2021-09-01T00:00:00",
          "2021-11-01T00:00:00",
          "2022-01-01T00:00:00",
          "2022-03-01T00:00:00",
          "2022-05-01T00:00:00",
          "2022-07-01T00:00:00",
          "2022-09-01T00:00:00",
          "2022-11-01T00:00:00",
          "2023-01-01T00:00:00",
          "2023-03-01T00:00:00",
          "2023-05-01T00:00:00",
          "2023-07-01T00:00:00",
          "2023-09-01T00:00:00",
          "2023-11-01T00:00:00"
         ],
         "y": [
          2.5,
          1.6,
          0.4,
          -0.4,
          -0.6,
          -0.7,
          -0.3,
          0.1,
          0.3,
          0.1,
          -0.4,
          -0.8,
          -0.9,
          -0.7,
          -0.2,
          0.1,
          0.5,
          0.9,
          0.7,
          0.7,
          0.5,
          0.3,
          0.2,
          0.5,
          0.5,
          0.4,
          -0.1,
          -0.4,
          -0.9,
          -1.3,
          -1,
          -0.8,
          -0.5,
          -0.4,
          -0.7,
          -1,
          -1,
          -1,
          -1,
          -0.8,
          -1,
          -0.9,
          -0.7,
          -0.1,
          0.5,
          1.1,
          1.6,
          1.9
         ]
        }
       ],
       "layout": {
        "annotations": [
         {
          "font": {
           "color": "black",
           "family": "Lato",
           "size": 24,
           "weight": "bold"
          },
          "showarrow": false,
          "text": "(a)",
          "x": -0.05,
          "xanchor": "left",
          "xref": "paper",
          "y": 1.1,
          "yanchor": "top",
          "yref": "paper"
         },
         {
          "bgcolor": "white",
          "font": {
           "color": "black",
           "family": "Lato",
           "size": 14
          },
          "showarrow": false,
          "text": "2016",
          "x": "2016-06-01T00:00:00",
          "y": -1.6
         },
         {
          "bgcolor": "white",
          "font": {
           "color": "black",
           "family": "Lato",
           "size": 14
          },
          "showarrow": false,
          "text": "2017",
          "x": "2017-06-01T04:00:00",
          "y": -1.6
         },
         {
          "bgcolor": "white",
          "font": {
           "color": "black",
           "family": "Lato",
           "size": 14
          },
          "showarrow": false,
          "text": "2018",
          "x": "2018-06-01T04:00:00",
          "y": -1.6
         },
         {
          "bgcolor": "white",
          "font": {
           "color": "black",
           "family": "Lato",
           "size": 14
          },
          "showarrow": false,
          "text": "2019",
          "x": "2019-06-01T04:00:00",
          "y": -1.6
         },
         {
          "bgcolor": "white",
          "font": {
           "color": "black",
           "family": "Lato",
           "size": 14
          },
          "showarrow": false,
          "text": "2020",
          "x": "2020-06-01T00:00:00",
          "y": -1.6
         },
         {
          "bgcolor": "white",
          "font": {
           "color": "black",
           "family": "Lato",
           "size": 14
          },
          "showarrow": false,
          "text": "2021",
          "x": "2021-06-01T04:00:00",
          "y": -1.6
         },
         {
          "bgcolor": "white",
          "font": {
           "color": "black",
           "family": "Lato",
           "size": 14
          },
          "showarrow": false,
          "text": "2022",
          "x": "2022-06-01T04:00:00",
          "y": -1.6
         },
         {
          "bgcolor": "white",
          "font": {
           "color": "black",
           "family": "Lato",
           "size": 14
          },
          "showarrow": false,
          "text": "2023",
          "x": "2023-06-01T04:00:00",
          "y": -1.6
         }
        ],
        "height": 600,
        "plot_bgcolor": "white",
        "shapes": [
         {
          "line": {
           "color": "black",
           "dash": "dot",
           "width": 1
          },
          "type": "line",
          "x0": "2016-01-01T00:00:00",
          "x1": "2016-11-01T00:00:00",
          "y0": -1.6,
          "y1": -1.6
         },
         {
          "line": {
           "color": "black",
           "dash": "dot",
           "width": 1
          },
          "type": "line",
          "x0": "2017-01-01T00:00:00",
          "x1": "2017-11-01T00:00:00",
          "y0": -1.6,
          "y1": -1.6
         },
         {
          "line": {
           "color": "black",
           "dash": "dot",
           "width": 1
          },
          "type": "line",
          "x0": "2018-01-01T00:00:00",
          "x1": "2018-11-01T00:00:00",
          "y0": -1.6,
          "y1": -1.6
         },
         {
          "line": {
           "color": "black",
           "dash": "dot",
           "width": 1
          },
          "type": "line",
          "x0": "2019-01-01T00:00:00",
          "x1": "2019-11-01T00:00:00",
          "y0": -1.6,
          "y1": -1.6
         },
         {
          "line": {
           "color": "black",
           "dash": "dot",
           "width": 1
          },
          "type": "line",
          "x0": "2020-01-01T00:00:00",
          "x1": "2020-11-01T00:00:00",
          "y0": -1.6,
          "y1": -1.6
         },
         {
          "line": {
           "color": "black",
           "dash": "dot",
           "width": 1
          },
          "type": "line",
          "x0": "2021-01-01T00:00:00",
          "x1": "2021-11-01T00:00:00",
          "y0": -1.6,
          "y1": -1.6
         },
         {
          "line": {
           "color": "black",
           "dash": "dot",
           "width": 1
          },
          "type": "line",
          "x0": "2022-01-01T00:00:00",
          "x1": "2022-11-01T00:00:00",
          "y0": -1.6,
          "y1": -1.6
         },
         {
          "line": {
           "color": "black",
           "dash": "dot",
           "width": 1
          },
          "type": "line",
          "x0": "2023-01-01T00:00:00",
          "x1": "2023-11-01T00:00:00",
          "y0": -1.6,
          "y1": -1.6
         }
        ],
        "showlegend": false,
        "template": {
         "data": {
          "bar": [
           {
            "error_x": {
             "color": "#2a3f5f"
            },
            "error_y": {
             "color": "#2a3f5f"
            },
            "marker": {
             "line": {
              "color": "#E5ECF6",
              "width": 0.5
             },
             "pattern": {
              "fillmode": "overlay",
              "size": 10,
              "solidity": 0.2
             }
            },
            "type": "bar"
           }
          ],
          "barpolar": [
           {
            "marker": {
             "line": {
              "color": "#E5ECF6",
              "width": 0.5
             },
             "pattern": {
              "fillmode": "overlay",
              "size": 10,
              "solidity": 0.2
             }
            },
            "type": "barpolar"
           }
          ],
          "carpet": [
           {
            "aaxis": {
             "endlinecolor": "#2a3f5f",
             "gridcolor": "white",
             "linecolor": "white",
             "minorgridcolor": "white",
             "startlinecolor": "#2a3f5f"
            },
            "baxis": {
             "endlinecolor": "#2a3f5f",
             "gridcolor": "white",
             "linecolor": "white",
             "minorgridcolor": "white",
             "startlinecolor": "#2a3f5f"
            },
            "type": "carpet"
           }
          ],
          "choropleth": [
           {
            "colorbar": {
             "outlinewidth": 0,
             "ticks": ""
            },
            "type": "choropleth"
           }
          ],
          "contour": [
           {
            "colorbar": {
             "outlinewidth": 0,
             "ticks": ""
            },
            "colorscale": [
             [
              0,
              "#0d0887"
             ],
             [
              0.1111111111111111,
              "#46039f"
             ],
             [
              0.2222222222222222,
              "#7201a8"
             ],
             [
              0.3333333333333333,
              "#9c179e"
             ],
             [
              0.4444444444444444,
              "#bd3786"
             ],
             [
              0.5555555555555556,
              "#d8576b"
             ],
             [
              0.6666666666666666,
              "#ed7953"
             ],
             [
              0.7777777777777778,
              "#fb9f3a"
             ],
             [
              0.8888888888888888,
              "#fdca26"
             ],
             [
              1,
              "#f0f921"
             ]
            ],
            "type": "contour"
           }
          ],
          "contourcarpet": [
           {
            "colorbar": {
             "outlinewidth": 0,
             "ticks": ""
            },
            "type": "contourcarpet"
           }
          ],
          "heatmap": [
           {
            "colorbar": {
             "outlinewidth": 0,
             "ticks": ""
            },
            "colorscale": [
             [
              0,
              "#0d0887"
             ],
             [
              0.1111111111111111,
              "#46039f"
             ],
             [
              0.2222222222222222,
              "#7201a8"
             ],
             [
              0.3333333333333333,
              "#9c179e"
             ],
             [
              0.4444444444444444,
              "#bd3786"
             ],
             [
              0.5555555555555556,
              "#d8576b"
             ],
             [
              0.6666666666666666,
              "#ed7953"
             ],
             [
              0.7777777777777778,
              "#fb9f3a"
             ],
             [
              0.8888888888888888,
              "#fdca26"
             ],
             [
              1,
              "#f0f921"
             ]
            ],
            "type": "heatmap"
           }
          ],
          "heatmapgl": [
           {
            "colorbar": {
             "outlinewidth": 0,
             "ticks": ""
            },
            "colorscale": [
             [
              0,
              "#0d0887"
             ],
             [
              0.1111111111111111,
              "#46039f"
             ],
             [
              0.2222222222222222,
              "#7201a8"
             ],
             [
              0.3333333333333333,
              "#9c179e"
             ],
             [
              0.4444444444444444,
              "#bd3786"
             ],
             [
              0.5555555555555556,
              "#d8576b"
             ],
             [
              0.6666666666666666,
              "#ed7953"
             ],
             [
              0.7777777777777778,
              "#fb9f3a"
             ],
             [
              0.8888888888888888,
              "#fdca26"
             ],
             [
              1,
              "#f0f921"
             ]
            ],
            "type": "heatmapgl"
           }
          ],
          "histogram": [
           {
            "marker": {
             "pattern": {
              "fillmode": "overlay",
              "size": 10,
              "solidity": 0.2
             }
            },
            "type": "histogram"
           }
          ],
          "histogram2d": [
           {
            "colorbar": {
             "outlinewidth": 0,
             "ticks": ""
            },
            "colorscale": [
             [
              0,
              "#0d0887"
             ],
             [
              0.1111111111111111,
              "#46039f"
             ],
             [
              0.2222222222222222,
              "#7201a8"
             ],
             [
              0.3333333333333333,
              "#9c179e"
             ],
             [
              0.4444444444444444,
              "#bd3786"
             ],
             [
              0.5555555555555556,
              "#d8576b"
             ],
             [
              0.6666666666666666,
              "#ed7953"
             ],
             [
              0.7777777777777778,
              "#fb9f3a"
             ],
             [
              0.8888888888888888,
              "#fdca26"
             ],
             [
              1,
              "#f0f921"
             ]
            ],
            "type": "histogram2d"
           }
          ],
          "histogram2dcontour": [
           {
            "colorbar": {
             "outlinewidth": 0,
             "ticks": ""
            },
            "colorscale": [
             [
              0,
              "#0d0887"
             ],
             [
              0.1111111111111111,
              "#46039f"
             ],
             [
              0.2222222222222222,
              "#7201a8"
             ],
             [
              0.3333333333333333,
              "#9c179e"
             ],
             [
              0.4444444444444444,
              "#bd3786"
             ],
             [
              0.5555555555555556,
              "#d8576b"
             ],
             [
              0.6666666666666666,
              "#ed7953"
             ],
             [
              0.7777777777777778,
              "#fb9f3a"
             ],
             [
              0.8888888888888888,
              "#fdca26"
             ],
             [
              1,
              "#f0f921"
             ]
            ],
            "type": "histogram2dcontour"
           }
          ],
          "mesh3d": [
           {
            "colorbar": {
             "outlinewidth": 0,
             "ticks": ""
            },
            "type": "mesh3d"
           }
          ],
          "parcoords": [
           {
            "line": {
             "colorbar": {
              "outlinewidth": 0,
              "ticks": ""
             }
            },
            "type": "parcoords"
           }
          ],
          "pie": [
           {
            "automargin": true,
            "type": "pie"
           }
          ],
          "scatter": [
           {
            "fillpattern": {
             "fillmode": "overlay",
             "size": 10,
             "solidity": 0.2
            },
            "type": "scatter"
           }
          ],
          "scatter3d": [
           {
            "line": {
             "colorbar": {
              "outlinewidth": 0,
              "ticks": ""
             }
            },
            "marker": {
             "colorbar": {
              "outlinewidth": 0,
              "ticks": ""
             }
            },
            "type": "scatter3d"
           }
          ],
          "scattercarpet": [
           {
            "marker": {
             "colorbar": {
              "outlinewidth": 0,
              "ticks": ""
             }
            },
            "type": "scattercarpet"
           }
          ],
          "scattergeo": [
           {
            "marker": {
             "colorbar": {
              "outlinewidth": 0,
              "ticks": ""
             }
            },
            "type": "scattergeo"
           }
          ],
          "scattergl": [
           {
            "marker": {
             "colorbar": {
              "outlinewidth": 0,
              "ticks": ""
             }
            },
            "type": "scattergl"
           }
          ],
          "scattermapbox": [
           {
            "marker": {
             "colorbar": {
              "outlinewidth": 0,
              "ticks": ""
             }
            },
            "type": "scattermapbox"
           }
          ],
          "scatterpolar": [
           {
            "marker": {
             "colorbar": {
              "outlinewidth": 0,
              "ticks": ""
             }
            },
            "type": "scatterpolar"
           }
          ],
          "scatterpolargl": [
           {
            "marker": {
             "colorbar": {
              "outlinewidth": 0,
              "ticks": ""
             }
            },
            "type": "scatterpolargl"
           }
          ],
          "scatterternary": [
           {
            "marker": {
             "colorbar": {
              "outlinewidth": 0,
              "ticks": ""
             }
            },
            "type": "scatterternary"
           }
          ],
          "surface": [
           {
            "colorbar": {
             "outlinewidth": 0,
             "ticks": ""
            },
            "colorscale": [
             [
              0,
              "#0d0887"
             ],
             [
              0.1111111111111111,
              "#46039f"
             ],
             [
              0.2222222222222222,
              "#7201a8"
             ],
             [
              0.3333333333333333,
              "#9c179e"
             ],
             [
              0.4444444444444444,
              "#bd3786"
             ],
             [
              0.5555555555555556,
              "#d8576b"
             ],
             [
              0.6666666666666666,
              "#ed7953"
             ],
             [
              0.7777777777777778,
              "#fb9f3a"
             ],
             [
              0.8888888888888888,
              "#fdca26"
             ],
             [
              1,
              "#f0f921"
             ]
            ],
            "type": "surface"
           }
          ],
          "table": [
           {
            "cells": {
             "fill": {
              "color": "#EBF0F8"
             },
             "line": {
              "color": "white"
             }
            },
            "header": {
             "fill": {
              "color": "#C8D4E3"
             },
             "line": {
              "color": "white"
             }
            },
            "type": "table"
           }
          ]
         },
         "layout": {
          "annotationdefaults": {
           "arrowcolor": "#2a3f5f",
           "arrowhead": 0,
           "arrowwidth": 1
          },
          "autotypenumbers": "strict",
          "coloraxis": {
           "colorbar": {
            "outlinewidth": 0,
            "ticks": ""
           }
          },
          "colorscale": {
           "diverging": [
            [
             0,
             "#8e0152"
            ],
            [
             0.1,
             "#c51b7d"
            ],
            [
             0.2,
             "#de77ae"
            ],
            [
             0.3,
             "#f1b6da"
            ],
            [
             0.4,
             "#fde0ef"
            ],
            [
             0.5,
             "#f7f7f7"
            ],
            [
             0.6,
             "#e6f5d0"
            ],
            [
             0.7,
             "#b8e186"
            ],
            [
             0.8,
             "#7fbc41"
            ],
            [
             0.9,
             "#4d9221"
            ],
            [
             1,
             "#276419"
            ]
           ],
           "sequential": [
            [
             0,
             "#0d0887"
            ],
            [
             0.1111111111111111,
             "#46039f"
            ],
            [
             0.2222222222222222,
             "#7201a8"
            ],
            [
             0.3333333333333333,
             "#9c179e"
            ],
            [
             0.4444444444444444,
             "#bd3786"
            ],
            [
             0.5555555555555556,
             "#d8576b"
            ],
            [
             0.6666666666666666,
             "#ed7953"
            ],
            [
             0.7777777777777778,
             "#fb9f3a"
            ],
            [
             0.8888888888888888,
             "#fdca26"
            ],
            [
             1,
             "#f0f921"
            ]
           ],
           "sequentialminus": [
            [
             0,
             "#0d0887"
            ],
            [
             0.1111111111111111,
             "#46039f"
            ],
            [
             0.2222222222222222,
             "#7201a8"
            ],
            [
             0.3333333333333333,
             "#9c179e"
            ],
            [
             0.4444444444444444,
             "#bd3786"
            ],
            [
             0.5555555555555556,
             "#d8576b"
            ],
            [
             0.6666666666666666,
             "#ed7953"
            ],
            [
             0.7777777777777778,
             "#fb9f3a"
            ],
            [
             0.8888888888888888,
             "#fdca26"
            ],
            [
             1,
             "#f0f921"
            ]
           ]
          },
          "colorway": [
           "#636efa",
           "#EF553B",
           "#00cc96",
           "#ab63fa",
           "#FFA15A",
           "#19d3f3",
           "#FF6692",
           "#B6E880",
           "#FF97FF",
           "#FECB52"
          ],
          "font": {
           "color": "#2a3f5f"
          },
          "geo": {
           "bgcolor": "white",
           "lakecolor": "white",
           "landcolor": "#E5ECF6",
           "showlakes": true,
           "showland": true,
           "subunitcolor": "white"
          },
          "hoverlabel": {
           "align": "left"
          },
          "hovermode": "closest",
          "mapbox": {
           "style": "light"
          },
          "paper_bgcolor": "white",
          "plot_bgcolor": "#E5ECF6",
          "polar": {
           "angularaxis": {
            "gridcolor": "white",
            "linecolor": "white",
            "ticks": ""
           },
           "bgcolor": "#E5ECF6",
           "radialaxis": {
            "gridcolor": "white",
            "linecolor": "white",
            "ticks": ""
           }
          },
          "scene": {
           "xaxis": {
            "backgroundcolor": "#E5ECF6",
            "gridcolor": "white",
            "gridwidth": 2,
            "linecolor": "white",
            "showbackground": true,
            "ticks": "",
            "zerolinecolor": "white"
           },
           "yaxis": {
            "backgroundcolor": "#E5ECF6",
            "gridcolor": "white",
            "gridwidth": 2,
            "linecolor": "white",
            "showbackground": true,
            "ticks": "",
            "zerolinecolor": "white"
           },
           "zaxis": {
            "backgroundcolor": "#E5ECF6",
            "gridcolor": "white",
            "gridwidth": 2,
            "linecolor": "white",
            "showbackground": true,
            "ticks": "",
            "zerolinecolor": "white"
           }
          },
          "shapedefaults": {
           "line": {
            "color": "#2a3f5f"
           }
          },
          "ternary": {
           "aaxis": {
            "gridcolor": "white",
            "linecolor": "white",
            "ticks": ""
           },
           "baxis": {
            "gridcolor": "white",
            "linecolor": "white",
            "ticks": ""
           },
           "bgcolor": "#E5ECF6",
           "caxis": {
            "gridcolor": "white",
            "linecolor": "white",
            "ticks": ""
           }
          },
          "title": {
           "x": 0.05
          },
          "xaxis": {
           "automargin": true,
           "gridcolor": "white",
           "linecolor": "white",
           "ticks": "",
           "title": {
            "standoff": 15
           },
           "zerolinecolor": "white",
           "zerolinewidth": 2
          },
          "yaxis": {
           "automargin": true,
           "gridcolor": "white",
           "linecolor": "white",
           "ticks": "",
           "title": {
            "standoff": 15
           },
           "zerolinecolor": "white",
           "zerolinewidth": 2
          }
         }
        },
        "width": 1000,
        "xaxis": {
         "gridcolor": "lightgray",
         "linecolor": "black",
         "linewidth": 2,
         "showline": true,
         "tickangle": -45,
         "tickfont": {
          "color": "black",
          "family": "Lato",
          "size": 14
         },
         "tickmode": "array",
         "ticktext": [
          "DJF",
          "FMA",
          "AMJ",
          "JJA",
          "ASO",
          "OND",
          "DJF",
          "FMA",
          "AMJ",
          "JJA",
          "ASO",
          "OND",
          "DJF",
          "FMA",
          "AMJ",
          "JJA",
          "ASO",
          "OND",
          "DJF",
          "FMA",
          "AMJ",
          "JJA",
          "ASO",
          "OND",
          "DJF",
          "FMA",
          "AMJ",
          "JJA",
          "ASO",
          "OND",
          "DJF",
          "FMA",
          "AMJ",
          "JJA",
          "ASO",
          "OND",
          "DJF",
          "FMA",
          "AMJ",
          "JJA",
          "ASO",
          "OND",
          "DJF",
          "FMA",
          "AMJ",
          "JJA",
          "ASO",
          "OND"
         ],
         "tickvals": [
          "2016-01-01T00:00:00",
          "2016-03-01T00:00:00",
          "2016-05-01T00:00:00",
          "2016-07-01T00:00:00",
          "2016-09-01T00:00:00",
          "2016-11-01T00:00:00",
          "2017-01-01T00:00:00",
          "2017-03-01T00:00:00",
          "2017-05-01T00:00:00",
          "2017-07-01T00:00:00",
          "2017-09-01T00:00:00",
          "2017-11-01T00:00:00",
          "2018-01-01T00:00:00",
          "2018-03-01T00:00:00",
          "2018-05-01T00:00:00",
          "2018-07-01T00:00:00",
          "2018-09-01T00:00:00",
          "2018-11-01T00:00:00",
          "2019-01-01T00:00:00",
          "2019-03-01T00:00:00",
          "2019-05-01T00:00:00",
          "2019-07-01T00:00:00",
          "2019-09-01T00:00:00",
          "2019-11-01T00:00:00",
          "2020-01-01T00:00:00",
          "2020-03-01T00:00:00",
          "2020-05-01T00:00:00",
          "2020-07-01T00:00:00",
          "2020-09-01T00:00:00",
          "2020-11-01T00:00:00",
          "2021-01-01T00:00:00",
          "2021-03-01T00:00:00",
          "2021-05-01T00:00:00",
          "2021-07-01T00:00:00",
          "2021-09-01T00:00:00",
          "2021-11-01T00:00:00",
          "2022-01-01T00:00:00",
          "2022-03-01T00:00:00",
          "2022-05-01T00:00:00",
          "2022-07-01T00:00:00",
          "2022-09-01T00:00:00",
          "2022-11-01T00:00:00",
          "2023-01-01T00:00:00",
          "2023-03-01T00:00:00",
          "2023-05-01T00:00:00",
          "2023-07-01T00:00:00",
          "2023-09-01T00:00:00",
          "2023-11-01T00:00:00"
         ],
         "title": {
          "font": {
           "color": "black",
           "family": "Lato",
           "size": 24
          },
          "text": "Periods"
         }
        },
        "yaxis": {
         "dtick": 0.25,
         "gridcolor": "lightgray",
         "tickfont": {
          "color": "black",
          "family": "Lato",
          "size": 14
         },
         "title": {
          "font": {
           "color": "black",
           "family": "Lato",
           "size": 24
          },
          "text": "Oceanic Niño Index"
         }
        }
       }
      }
     },
     "metadata": {},
     "output_type": "display_data"
    }
   ],
   "source": [
    "# Melt the dataframe to long format\n",
    "df_long = df.melt(id_vars=['Year'], var_name='Period', value_name='Value')\n",
    "\n",
    "# Define the desired periods\n",
    "desired_periods = ['DJF', 'FMA', 'AMJ', 'JJA', 'ASO', 'OND']\n",
    "\n",
    "# Create a new datetime column based on Year and Period\n",
    "df_long['Date'] = pd.to_datetime(df_long['Year'].astype(str) + '-' + df_long['Period'].map(\n",
    "    {'DJF': '01', 'JFM': '02', 'FMA': '03', 'MAM': '04', 'AMJ': '05', 'MJJ': '06',\n",
    "     'JJA': '07', 'JAS': '08', 'ASO': '09', 'SON': '10', 'OND': '11', 'NDJ': '12'}))\n",
    "\n",
    "# Filter to keep only the desired periods\n",
    "df_filtered = df_long[df_long['Period'].isin(desired_periods)]\n",
    "\n",
    "# Sort by Date\n",
    "df_filtered = df_filtered.sort_values('Date')\n",
    "\n",
    "# Assign colors based on Value\n",
    "colors = ['red' if value > 0 else 'blue' for value in df_filtered['Value']]\n",
    "\n",
    "# Font styles\n",
    "title_font_style = dict(\n",
    "    family='Lato',\n",
    "    color='black',\n",
    "    size=24\n",
    ")\n",
    "\n",
    "font_style = dict(\n",
    "    family='Lato',\n",
    "    color='black',\n",
    "    size=14\n",
    ")\n",
    "\n",
    "# Plotting with Plotly\n",
    "fig = go.Figure()\n",
    "\n",
    "# Adding bar trace\n",
    "fig.add_trace(\n",
    "    go.Bar(\n",
    "        x=df_filtered['Date'],\n",
    "        y=df_filtered['Value'],\n",
    "        marker_color=colors\n",
    "    )\n",
    ")\n",
    "\n",
    "# Customizing the layout\n",
    "fig.update_layout(\n",
    "    xaxis=dict(\n",
    "        title='Periods',\n",
    "        tickmode='array',\n",
    "        tickvals=df_filtered['Date'], \n",
    "        ticktext=df_filtered['Period'],\n",
    "        titlefont=title_font_style,\n",
    "        tickfont=font_style,\n",
    "        tickangle=-45,\n",
    "        showline=True,\n",
    "        linecolor='black',\n",
    "        linewidth=2,\n",
    "        gridcolor='lightgray'\n",
    "    ),\n",
    "    yaxis=dict(\n",
    "        title='Oceanic Niño Index',\n",
    "        titlefont=title_font_style,\n",
    "        tickfont=font_style,\n",
    "        dtick=.25,\n",
    "        gridcolor='lightgray'\n",
    "    ),\n",
    "    showlegend=False,\n",
    "    plot_bgcolor='white',\n",
    "    height=600,\n",
    "    width=1000\n",
    ")\n",
    "\n",
    "# Add annotation to the top-left corner\n",
    "fig.add_annotation(\n",
    "    text=\"(a)\",\n",
    "    xref=\"paper\", yref=\"paper\",\n",
    "    x=-.05, y=1.1,\n",
    "    xanchor=\"left\", yanchor=\"top\",\n",
    "    showarrow=False,\n",
    "    font=dict(\n",
    "        family='Lato',\n",
    "        color='black',\n",
    "        weight='bold',\n",
    "        size=24\n",
    "    )\n",
    ")\n",
    "\n",
    "# Add annotations for years and horizontal extents\n",
    "for year in df_filtered['Year'].unique():\n",
    "    # Get the corresponding dates for the year\n",
    "    year_dates = df_filtered[df_filtered['Year'] == year]['Date']\n",
    "    start_date = year_dates.min()\n",
    "    end_date = year_dates.max()\n",
    "    mid_date = year_dates.mean()\n",
    "\n",
    "    # Add annotation for year label\n",
    "    fig.add_annotation(\n",
    "        x=mid_date,\n",
    "        y=min(df_filtered['Value']) - 0.3,\n",
    "        text=str(year),\n",
    "        showarrow=False,\n",
    "        font=font_style,\n",
    "        bgcolor='white',\n",
    "    )\n",
    "\n",
    "    # Add a horizontal extent line\n",
    "    fig.add_shape(\n",
    "        type=\"line\",\n",
    "        x0=start_date,\n",
    "        x1=end_date,\n",
    "        y0=min(df_filtered['Value']) - 0.3,\n",
    "        y1=min(df_filtered['Value']) - 0.3,\n",
    "        line=dict(\n",
    "            color=\"black\",\n",
    "            width=1,\n",
    "            dash='dot'\n",
    "        )\n",
    "    )\n",
    "\n",
    "# Show the figure\n",
    "fig.show()\n",
    "\n",
    "# Save the figure as a PNG file\n",
    "fig.write_image(os.path.join(img_path, 'oni.png'), engine=\"kaleido\", scale=6)"
   ]
  },
  {
   "cell_type": "markdown",
   "metadata": {},
   "source": [
    "## IOD"
   ]
  },
  {
   "cell_type": "code",
   "execution_count": 77,
   "metadata": {},
   "outputs": [],
   "source": [
    "climate_vars_path = os.path.join(base_dir, 'data', 'raw', 'climate_variables')\n",
    "iod_file = os.path.join(climate_vars_path, 'IOD_2016_2023.csv')\n",
    "df = pd.read_csv(iod_file)"
   ]
  },
  {
   "cell_type": "code",
   "execution_count": 78,
   "metadata": {},
   "outputs": [
    {
     "data": {
      "application/vnd.plotly.v1+json": {
       "config": {
        "plotlyServerURL": "https://plot.ly"
       },
       "data": [
        {
         "marker": {
          "color": [
           "blue",
           "red",
           "blue",
           "blue",
           "blue",
           "blue",
           "red",
           "red",
           "red",
           "red",
           "red",
           "red",
           "red",
           "red",
           "red",
           "red",
           "red",
           "red",
           "red",
           "red",
           "red",
           "red",
           "red",
           "red",
           "red",
           "red",
           "red",
           "red",
           "blue",
           "red",
           "red",
           "red",
           "red",
           "blue",
           "blue",
           "blue",
           "blue",
           "blue",
           "blue",
           "blue",
           "blue",
           "blue",
           "red",
           "red",
           "red",
           "red",
           "red",
           "red"
          ]
         },
         "type": "bar",
         "x": [
          "2016-01-01T00:00:00",
          "2016-03-01T00:00:00",
          "2016-05-01T00:00:00",
          "2016-07-01T00:00:00",
          "2016-09-01T00:00:00",
          "2016-11-01T00:00:00",
          "2017-01-01T00:00:00",
          "2017-03-01T00:00:00",
          "2017-05-01T00:00:00",
          "2017-07-01T00:00:00",
          "2017-09-01T00:00:00",
          "2017-11-01T00:00:00",
          "2018-01-01T00:00:00",
          "2018-03-01T00:00:00",
          "2018-05-01T00:00:00",
          "2018-07-01T00:00:00",
          "2018-09-01T00:00:00",
          "2018-11-01T00:00:00",
          "2019-01-01T00:00:00",
          "2019-03-01T00:00:00",
          "2019-05-01T00:00:00",
          "2019-07-01T00:00:00",
          "2019-09-01T00:00:00",
          "2019-11-01T00:00:00",
          "2020-01-01T00:00:00",
          "2020-03-01T00:00:00",
          "2020-05-01T00:00:00",
          "2020-07-01T00:00:00",
          "2020-09-01T00:00:00",
          "2020-11-01T00:00:00",
          "2021-01-01T00:00:00",
          "2021-03-01T00:00:00",
          "2021-05-01T00:00:00",
          "2021-07-01T00:00:00",
          "2021-09-01T00:00:00",
          "2021-11-01T00:00:00",
          "2022-01-01T00:00:00",
          "2022-03-01T00:00:00",
          "2022-05-01T00:00:00",
          "2022-07-01T00:00:00",
          "2022-09-01T00:00:00",
          "2022-11-01T00:00:00",
          "2023-01-01T00:00:00",
          "2023-03-01T00:00:00",
          "2023-05-01T00:00:00",
          "2023-07-01T00:00:00",
          "2023-09-01T00:00:00",
          "2023-11-01T00:00:00"
         ],
         "y": [
          -0.05133333333333332,
          0.009,
          -0.1366666666666667,
          -0.5483333333333333,
          -0.4176666666666667,
          -0.3546666666666667,
          0.04133333333333334,
          0.319,
          0.48633333333333334,
          0.431,
          0.133,
          0.13799999999999998,
          0.10799999999999998,
          0.003999999999999999,
          0.06466666666666666,
          0.10999999999999999,
          0.4703333333333333,
          0.498,
          0.3486666666666667,
          0.29933333333333334,
          0.4673333333333334,
          0.5459999999999999,
          0.7643333333333334,
          0.6806666666666666,
          0.08566666666666667,
          0.020666666666666667,
          0.247,
          0.19699999999999998,
          -0.09966666666666667,
          0.04133333333333333,
          0.057999999999999996,
          0.253,
          0.08566666666666667,
          -0.10966666666666668,
          -0.08266666666666667,
          -0.04733333333333333,
          -0.077,
          -0.08133333333333333,
          -0.17500000000000002,
          -0.25866666666666666,
          -0.41966666666666663,
          -0.3506666666666667,
          0.37233333333333335,
          0.37733333333333335,
          0.556,
          0.6626666666666666,
          0.8583333333333334,
          0.8583333333333334
         ]
        }
       ],
       "layout": {
        "annotations": [
         {
          "font": {
           "color": "black",
           "family": "Lato",
           "size": 24,
           "weight": "bold"
          },
          "showarrow": false,
          "text": "(b)",
          "x": -0.05,
          "xanchor": "left",
          "xref": "paper",
          "y": 1.1,
          "yanchor": "top",
          "yref": "paper"
         },
         {
          "bgcolor": "white",
          "font": {
           "color": "black",
           "family": "Lato",
           "size": 14
          },
          "showarrow": false,
          "text": "2016",
          "x": "2016-06-01T00:00:00",
          "y": -0.5983333333333334
         },
         {
          "bgcolor": "white",
          "font": {
           "color": "black",
           "family": "Lato",
           "size": 14
          },
          "showarrow": false,
          "text": "2017",
          "x": "2017-06-01T04:00:00",
          "y": -0.5983333333333334
         },
         {
          "bgcolor": "white",
          "font": {
           "color": "black",
           "family": "Lato",
           "size": 14
          },
          "showarrow": false,
          "text": "2018",
          "x": "2018-06-01T04:00:00",
          "y": -0.5983333333333334
         },
         {
          "bgcolor": "white",
          "font": {
           "color": "black",
           "family": "Lato",
           "size": 14
          },
          "showarrow": false,
          "text": "2019",
          "x": "2019-06-01T04:00:00",
          "y": -0.5983333333333334
         },
         {
          "bgcolor": "white",
          "font": {
           "color": "black",
           "family": "Lato",
           "size": 14
          },
          "showarrow": false,
          "text": "2020",
          "x": "2020-06-01T00:00:00",
          "y": -0.5983333333333334
         },
         {
          "bgcolor": "white",
          "font": {
           "color": "black",
           "family": "Lato",
           "size": 14
          },
          "showarrow": false,
          "text": "2021",
          "x": "2021-06-01T04:00:00",
          "y": -0.5983333333333334
         },
         {
          "bgcolor": "white",
          "font": {
           "color": "black",
           "family": "Lato",
           "size": 14
          },
          "showarrow": false,
          "text": "2022",
          "x": "2022-06-01T04:00:00",
          "y": -0.5983333333333334
         },
         {
          "bgcolor": "white",
          "font": {
           "color": "black",
           "family": "Lato",
           "size": 14
          },
          "showarrow": false,
          "text": "2023",
          "x": "2023-06-01T04:00:00",
          "y": -0.5983333333333334
         }
        ],
        "height": 600,
        "plot_bgcolor": "white",
        "shapes": [
         {
          "line": {
           "color": "black",
           "dash": "dot",
           "width": 1
          },
          "type": "line",
          "x0": "2016-01-01T00:00:00",
          "x1": "2016-11-01T00:00:00",
          "y0": -0.5983333333333334,
          "y1": -0.5983333333333334
         },
         {
          "line": {
           "color": "black",
           "dash": "dot",
           "width": 1
          },
          "type": "line",
          "x0": "2017-01-01T00:00:00",
          "x1": "2017-11-01T00:00:00",
          "y0": -0.5983333333333334,
          "y1": -0.5983333333333334
         },
         {
          "line": {
           "color": "black",
           "dash": "dot",
           "width": 1
          },
          "type": "line",
          "x0": "2018-01-01T00:00:00",
          "x1": "2018-11-01T00:00:00",
          "y0": -0.5983333333333334,
          "y1": -0.5983333333333334
         },
         {
          "line": {
           "color": "black",
           "dash": "dot",
           "width": 1
          },
          "type": "line",
          "x0": "2019-01-01T00:00:00",
          "x1": "2019-11-01T00:00:00",
          "y0": -0.5983333333333334,
          "y1": -0.5983333333333334
         },
         {
          "line": {
           "color": "black",
           "dash": "dot",
           "width": 1
          },
          "type": "line",
          "x0": "2020-01-01T00:00:00",
          "x1": "2020-11-01T00:00:00",
          "y0": -0.5983333333333334,
          "y1": -0.5983333333333334
         },
         {
          "line": {
           "color": "black",
           "dash": "dot",
           "width": 1
          },
          "type": "line",
          "x0": "2021-01-01T00:00:00",
          "x1": "2021-11-01T00:00:00",
          "y0": -0.5983333333333334,
          "y1": -0.5983333333333334
         },
         {
          "line": {
           "color": "black",
           "dash": "dot",
           "width": 1
          },
          "type": "line",
          "x0": "2022-01-01T00:00:00",
          "x1": "2022-11-01T00:00:00",
          "y0": -0.5983333333333334,
          "y1": -0.5983333333333334
         },
         {
          "line": {
           "color": "black",
           "dash": "dot",
           "width": 1
          },
          "type": "line",
          "x0": "2023-01-01T00:00:00",
          "x1": "2023-11-01T00:00:00",
          "y0": -0.5983333333333334,
          "y1": -0.5983333333333334
         }
        ],
        "showlegend": false,
        "template": {
         "data": {
          "bar": [
           {
            "error_x": {
             "color": "#2a3f5f"
            },
            "error_y": {
             "color": "#2a3f5f"
            },
            "marker": {
             "line": {
              "color": "#E5ECF6",
              "width": 0.5
             },
             "pattern": {
              "fillmode": "overlay",
              "size": 10,
              "solidity": 0.2
             }
            },
            "type": "bar"
           }
          ],
          "barpolar": [
           {
            "marker": {
             "line": {
              "color": "#E5ECF6",
              "width": 0.5
             },
             "pattern": {
              "fillmode": "overlay",
              "size": 10,
              "solidity": 0.2
             }
            },
            "type": "barpolar"
           }
          ],
          "carpet": [
           {
            "aaxis": {
             "endlinecolor": "#2a3f5f",
             "gridcolor": "white",
             "linecolor": "white",
             "minorgridcolor": "white",
             "startlinecolor": "#2a3f5f"
            },
            "baxis": {
             "endlinecolor": "#2a3f5f",
             "gridcolor": "white",
             "linecolor": "white",
             "minorgridcolor": "white",
             "startlinecolor": "#2a3f5f"
            },
            "type": "carpet"
           }
          ],
          "choropleth": [
           {
            "colorbar": {
             "outlinewidth": 0,
             "ticks": ""
            },
            "type": "choropleth"
           }
          ],
          "contour": [
           {
            "colorbar": {
             "outlinewidth": 0,
             "ticks": ""
            },
            "colorscale": [
             [
              0,
              "#0d0887"
             ],
             [
              0.1111111111111111,
              "#46039f"
             ],
             [
              0.2222222222222222,
              "#7201a8"
             ],
             [
              0.3333333333333333,
              "#9c179e"
             ],
             [
              0.4444444444444444,
              "#bd3786"
             ],
             [
              0.5555555555555556,
              "#d8576b"
             ],
             [
              0.6666666666666666,
              "#ed7953"
             ],
             [
              0.7777777777777778,
              "#fb9f3a"
             ],
             [
              0.8888888888888888,
              "#fdca26"
             ],
             [
              1,
              "#f0f921"
             ]
            ],
            "type": "contour"
           }
          ],
          "contourcarpet": [
           {
            "colorbar": {
             "outlinewidth": 0,
             "ticks": ""
            },
            "type": "contourcarpet"
           }
          ],
          "heatmap": [
           {
            "colorbar": {
             "outlinewidth": 0,
             "ticks": ""
            },
            "colorscale": [
             [
              0,
              "#0d0887"
             ],
             [
              0.1111111111111111,
              "#46039f"
             ],
             [
              0.2222222222222222,
              "#7201a8"
             ],
             [
              0.3333333333333333,
              "#9c179e"
             ],
             [
              0.4444444444444444,
              "#bd3786"
             ],
             [
              0.5555555555555556,
              "#d8576b"
             ],
             [
              0.6666666666666666,
              "#ed7953"
             ],
             [
              0.7777777777777778,
              "#fb9f3a"
             ],
             [
              0.8888888888888888,
              "#fdca26"
             ],
             [
              1,
              "#f0f921"
             ]
            ],
            "type": "heatmap"
           }
          ],
          "heatmapgl": [
           {
            "colorbar": {
             "outlinewidth": 0,
             "ticks": ""
            },
            "colorscale": [
             [
              0,
              "#0d0887"
             ],
             [
              0.1111111111111111,
              "#46039f"
             ],
             [
              0.2222222222222222,
              "#7201a8"
             ],
             [
              0.3333333333333333,
              "#9c179e"
             ],
             [
              0.4444444444444444,
              "#bd3786"
             ],
             [
              0.5555555555555556,
              "#d8576b"
             ],
             [
              0.6666666666666666,
              "#ed7953"
             ],
             [
              0.7777777777777778,
              "#fb9f3a"
             ],
             [
              0.8888888888888888,
              "#fdca26"
             ],
             [
              1,
              "#f0f921"
             ]
            ],
            "type": "heatmapgl"
           }
          ],
          "histogram": [
           {
            "marker": {
             "pattern": {
              "fillmode": "overlay",
              "size": 10,
              "solidity": 0.2
             }
            },
            "type": "histogram"
           }
          ],
          "histogram2d": [
           {
            "colorbar": {
             "outlinewidth": 0,
             "ticks": ""
            },
            "colorscale": [
             [
              0,
              "#0d0887"
             ],
             [
              0.1111111111111111,
              "#46039f"
             ],
             [
              0.2222222222222222,
              "#7201a8"
             ],
             [
              0.3333333333333333,
              "#9c179e"
             ],
             [
              0.4444444444444444,
              "#bd3786"
             ],
             [
              0.5555555555555556,
              "#d8576b"
             ],
             [
              0.6666666666666666,
              "#ed7953"
             ],
             [
              0.7777777777777778,
              "#fb9f3a"
             ],
             [
              0.8888888888888888,
              "#fdca26"
             ],
             [
              1,
              "#f0f921"
             ]
            ],
            "type": "histogram2d"
           }
          ],
          "histogram2dcontour": [
           {
            "colorbar": {
             "outlinewidth": 0,
             "ticks": ""
            },
            "colorscale": [
             [
              0,
              "#0d0887"
             ],
             [
              0.1111111111111111,
              "#46039f"
             ],
             [
              0.2222222222222222,
              "#7201a8"
             ],
             [
              0.3333333333333333,
              "#9c179e"
             ],
             [
              0.4444444444444444,
              "#bd3786"
             ],
             [
              0.5555555555555556,
              "#d8576b"
             ],
             [
              0.6666666666666666,
              "#ed7953"
             ],
             [
              0.7777777777777778,
              "#fb9f3a"
             ],
             [
              0.8888888888888888,
              "#fdca26"
             ],
             [
              1,
              "#f0f921"
             ]
            ],
            "type": "histogram2dcontour"
           }
          ],
          "mesh3d": [
           {
            "colorbar": {
             "outlinewidth": 0,
             "ticks": ""
            },
            "type": "mesh3d"
           }
          ],
          "parcoords": [
           {
            "line": {
             "colorbar": {
              "outlinewidth": 0,
              "ticks": ""
             }
            },
            "type": "parcoords"
           }
          ],
          "pie": [
           {
            "automargin": true,
            "type": "pie"
           }
          ],
          "scatter": [
           {
            "fillpattern": {
             "fillmode": "overlay",
             "size": 10,
             "solidity": 0.2
            },
            "type": "scatter"
           }
          ],
          "scatter3d": [
           {
            "line": {
             "colorbar": {
              "outlinewidth": 0,
              "ticks": ""
             }
            },
            "marker": {
             "colorbar": {
              "outlinewidth": 0,
              "ticks": ""
             }
            },
            "type": "scatter3d"
           }
          ],
          "scattercarpet": [
           {
            "marker": {
             "colorbar": {
              "outlinewidth": 0,
              "ticks": ""
             }
            },
            "type": "scattercarpet"
           }
          ],
          "scattergeo": [
           {
            "marker": {
             "colorbar": {
              "outlinewidth": 0,
              "ticks": ""
             }
            },
            "type": "scattergeo"
           }
          ],
          "scattergl": [
           {
            "marker": {
             "colorbar": {
              "outlinewidth": 0,
              "ticks": ""
             }
            },
            "type": "scattergl"
           }
          ],
          "scattermapbox": [
           {
            "marker": {
             "colorbar": {
              "outlinewidth": 0,
              "ticks": ""
             }
            },
            "type": "scattermapbox"
           }
          ],
          "scatterpolar": [
           {
            "marker": {
             "colorbar": {
              "outlinewidth": 0,
              "ticks": ""
             }
            },
            "type": "scatterpolar"
           }
          ],
          "scatterpolargl": [
           {
            "marker": {
             "colorbar": {
              "outlinewidth": 0,
              "ticks": ""
             }
            },
            "type": "scatterpolargl"
           }
          ],
          "scatterternary": [
           {
            "marker": {
             "colorbar": {
              "outlinewidth": 0,
              "ticks": ""
             }
            },
            "type": "scatterternary"
           }
          ],
          "surface": [
           {
            "colorbar": {
             "outlinewidth": 0,
             "ticks": ""
            },
            "colorscale": [
             [
              0,
              "#0d0887"
             ],
             [
              0.1111111111111111,
              "#46039f"
             ],
             [
              0.2222222222222222,
              "#7201a8"
             ],
             [
              0.3333333333333333,
              "#9c179e"
             ],
             [
              0.4444444444444444,
              "#bd3786"
             ],
             [
              0.5555555555555556,
              "#d8576b"
             ],
             [
              0.6666666666666666,
              "#ed7953"
             ],
             [
              0.7777777777777778,
              "#fb9f3a"
             ],
             [
              0.8888888888888888,
              "#fdca26"
             ],
             [
              1,
              "#f0f921"
             ]
            ],
            "type": "surface"
           }
          ],
          "table": [
           {
            "cells": {
             "fill": {
              "color": "#EBF0F8"
             },
             "line": {
              "color": "white"
             }
            },
            "header": {
             "fill": {
              "color": "#C8D4E3"
             },
             "line": {
              "color": "white"
             }
            },
            "type": "table"
           }
          ]
         },
         "layout": {
          "annotationdefaults": {
           "arrowcolor": "#2a3f5f",
           "arrowhead": 0,
           "arrowwidth": 1
          },
          "autotypenumbers": "strict",
          "coloraxis": {
           "colorbar": {
            "outlinewidth": 0,
            "ticks": ""
           }
          },
          "colorscale": {
           "diverging": [
            [
             0,
             "#8e0152"
            ],
            [
             0.1,
             "#c51b7d"
            ],
            [
             0.2,
             "#de77ae"
            ],
            [
             0.3,
             "#f1b6da"
            ],
            [
             0.4,
             "#fde0ef"
            ],
            [
             0.5,
             "#f7f7f7"
            ],
            [
             0.6,
             "#e6f5d0"
            ],
            [
             0.7,
             "#b8e186"
            ],
            [
             0.8,
             "#7fbc41"
            ],
            [
             0.9,
             "#4d9221"
            ],
            [
             1,
             "#276419"
            ]
           ],
           "sequential": [
            [
             0,
             "#0d0887"
            ],
            [
             0.1111111111111111,
             "#46039f"
            ],
            [
             0.2222222222222222,
             "#7201a8"
            ],
            [
             0.3333333333333333,
             "#9c179e"
            ],
            [
             0.4444444444444444,
             "#bd3786"
            ],
            [
             0.5555555555555556,
             "#d8576b"
            ],
            [
             0.6666666666666666,
             "#ed7953"
            ],
            [
             0.7777777777777778,
             "#fb9f3a"
            ],
            [
             0.8888888888888888,
             "#fdca26"
            ],
            [
             1,
             "#f0f921"
            ]
           ],
           "sequentialminus": [
            [
             0,
             "#0d0887"
            ],
            [
             0.1111111111111111,
             "#46039f"
            ],
            [
             0.2222222222222222,
             "#7201a8"
            ],
            [
             0.3333333333333333,
             "#9c179e"
            ],
            [
             0.4444444444444444,
             "#bd3786"
            ],
            [
             0.5555555555555556,
             "#d8576b"
            ],
            [
             0.6666666666666666,
             "#ed7953"
            ],
            [
             0.7777777777777778,
             "#fb9f3a"
            ],
            [
             0.8888888888888888,
             "#fdca26"
            ],
            [
             1,
             "#f0f921"
            ]
           ]
          },
          "colorway": [
           "#636efa",
           "#EF553B",
           "#00cc96",
           "#ab63fa",
           "#FFA15A",
           "#19d3f3",
           "#FF6692",
           "#B6E880",
           "#FF97FF",
           "#FECB52"
          ],
          "font": {
           "color": "#2a3f5f"
          },
          "geo": {
           "bgcolor": "white",
           "lakecolor": "white",
           "landcolor": "#E5ECF6",
           "showlakes": true,
           "showland": true,
           "subunitcolor": "white"
          },
          "hoverlabel": {
           "align": "left"
          },
          "hovermode": "closest",
          "mapbox": {
           "style": "light"
          },
          "paper_bgcolor": "white",
          "plot_bgcolor": "#E5ECF6",
          "polar": {
           "angularaxis": {
            "gridcolor": "white",
            "linecolor": "white",
            "ticks": ""
           },
           "bgcolor": "#E5ECF6",
           "radialaxis": {
            "gridcolor": "white",
            "linecolor": "white",
            "ticks": ""
           }
          },
          "scene": {
           "xaxis": {
            "backgroundcolor": "#E5ECF6",
            "gridcolor": "white",
            "gridwidth": 2,
            "linecolor": "white",
            "showbackground": true,
            "ticks": "",
            "zerolinecolor": "white"
           },
           "yaxis": {
            "backgroundcolor": "#E5ECF6",
            "gridcolor": "white",
            "gridwidth": 2,
            "linecolor": "white",
            "showbackground": true,
            "ticks": "",
            "zerolinecolor": "white"
           },
           "zaxis": {
            "backgroundcolor": "#E5ECF6",
            "gridcolor": "white",
            "gridwidth": 2,
            "linecolor": "white",
            "showbackground": true,
            "ticks": "",
            "zerolinecolor": "white"
           }
          },
          "shapedefaults": {
           "line": {
            "color": "#2a3f5f"
           }
          },
          "ternary": {
           "aaxis": {
            "gridcolor": "white",
            "linecolor": "white",
            "ticks": ""
           },
           "baxis": {
            "gridcolor": "white",
            "linecolor": "white",
            "ticks": ""
           },
           "bgcolor": "#E5ECF6",
           "caxis": {
            "gridcolor": "white",
            "linecolor": "white",
            "ticks": ""
           }
          },
          "title": {
           "x": 0.05
          },
          "xaxis": {
           "automargin": true,
           "gridcolor": "white",
           "linecolor": "white",
           "ticks": "",
           "title": {
            "standoff": 15
           },
           "zerolinecolor": "white",
           "zerolinewidth": 2
          },
          "yaxis": {
           "automargin": true,
           "gridcolor": "white",
           "linecolor": "white",
           "ticks": "",
           "title": {
            "standoff": 15
           },
           "zerolinecolor": "white",
           "zerolinewidth": 2
          }
         }
        },
        "width": 1000,
        "xaxis": {
         "gridcolor": "lightgray",
         "linecolor": "black",
         "linewidth": 2,
         "showline": true,
         "tickangle": -45,
         "tickfont": {
          "color": "black",
          "family": "Lato",
          "size": 14
         },
         "tickmode": "array",
         "ticktext": [
          "DJF",
          "FMA",
          "AMJ",
          "JJA",
          "ASO",
          "OND",
          "DJF",
          "FMA",
          "AMJ",
          "JJA",
          "ASO",
          "OND",
          "DJF",
          "FMA",
          "AMJ",
          "JJA",
          "ASO",
          "OND",
          "DJF",
          "FMA",
          "AMJ",
          "JJA",
          "ASO",
          "OND",
          "DJF",
          "FMA",
          "AMJ",
          "JJA",
          "ASO",
          "OND",
          "DJF",
          "FMA",
          "AMJ",
          "JJA",
          "ASO",
          "OND",
          "DJF",
          "FMA",
          "AMJ",
          "JJA",
          "ASO",
          "OND",
          "DJF",
          "FMA",
          "AMJ",
          "JJA",
          "ASO",
          "OND"
         ],
         "tickvals": [
          "2016-01-01T00:00:00",
          "2016-03-01T00:00:00",
          "2016-05-01T00:00:00",
          "2016-07-01T00:00:00",
          "2016-09-01T00:00:00",
          "2016-11-01T00:00:00",
          "2017-01-01T00:00:00",
          "2017-03-01T00:00:00",
          "2017-05-01T00:00:00",
          "2017-07-01T00:00:00",
          "2017-09-01T00:00:00",
          "2017-11-01T00:00:00",
          "2018-01-01T00:00:00",
          "2018-03-01T00:00:00",
          "2018-05-01T00:00:00",
          "2018-07-01T00:00:00",
          "2018-09-01T00:00:00",
          "2018-11-01T00:00:00",
          "2019-01-01T00:00:00",
          "2019-03-01T00:00:00",
          "2019-05-01T00:00:00",
          "2019-07-01T00:00:00",
          "2019-09-01T00:00:00",
          "2019-11-01T00:00:00",
          "2020-01-01T00:00:00",
          "2020-03-01T00:00:00",
          "2020-05-01T00:00:00",
          "2020-07-01T00:00:00",
          "2020-09-01T00:00:00",
          "2020-11-01T00:00:00",
          "2021-01-01T00:00:00",
          "2021-03-01T00:00:00",
          "2021-05-01T00:00:00",
          "2021-07-01T00:00:00",
          "2021-09-01T00:00:00",
          "2021-11-01T00:00:00",
          "2022-01-01T00:00:00",
          "2022-03-01T00:00:00",
          "2022-05-01T00:00:00",
          "2022-07-01T00:00:00",
          "2022-09-01T00:00:00",
          "2022-11-01T00:00:00",
          "2023-01-01T00:00:00",
          "2023-03-01T00:00:00",
          "2023-05-01T00:00:00",
          "2023-07-01T00:00:00",
          "2023-09-01T00:00:00",
          "2023-11-01T00:00:00"
         ],
         "title": {
          "font": {
           "color": "black",
           "family": "Lato",
           "size": 24
          },
          "text": "Periods"
         }
        },
        "yaxis": {
         "dtick": 0.25,
         "gridcolor": "lightgray",
         "tickfont": {
          "color": "black",
          "family": "Lato",
          "size": 14
         },
         "title": {
          "font": {
           "color": "black",
           "family": "Lato",
           "size": 24
          },
          "text": "Dipole Mode Index"
         }
        }
       }
      }
     },
     "metadata": {},
     "output_type": "display_data"
    }
   ],
   "source": [
    "# Define the desired periods and calculate the mean for each period\n",
    "df['DJF'] = df[['Dec', 'Jan', 'Feb']].mean(axis=1)\n",
    "df['FMA'] = df[['Feb', 'Mar', 'Apr']].mean(axis=1)\n",
    "df['AMJ'] = df[['Apr', 'May', 'Jun']].mean(axis=1)\n",
    "df['JJA'] = df[['Jun', 'Jul', 'Aug']].mean(axis=1)\n",
    "df['ASO'] = df[['Aug', 'Sep', 'Oct']].mean(axis=1)\n",
    "df['OND'] = df[['Oct', 'Nov', 'Dec']].mean(axis=1)\n",
    "\n",
    "# Melt the dataframe to long format\n",
    "df_long = df.melt(id_vars=['Year'], value_vars=['DJF', 'FMA', 'AMJ', 'JJA', 'ASO', 'OND'],\n",
    "                  var_name='Period', value_name='Value')\n",
    "\n",
    "# Create a new datetime column based on Year and Period\n",
    "df_long['Date'] = pd.to_datetime(df_long['Year'].astype(str) + '-' + df_long['Period'].map(\n",
    "    {'DJF': '01', 'FMA': '03', 'AMJ': '05', 'JJA': '07', 'ASO': '09', 'OND': '11'}\n",
    "))\n",
    "\n",
    "# Sort by Date\n",
    "df_filtered = df_long.sort_values('Date')\n",
    "\n",
    "# Assign colors based on Value\n",
    "colors = ['red' if value > 0 else 'blue' for value in df_filtered['Value']]\n",
    "\n",
    "# Font styles\n",
    "title_font_style = dict(\n",
    "    family='Lato',\n",
    "    color='black',\n",
    "    size=24\n",
    ")\n",
    "\n",
    "font_style = dict(\n",
    "    family='Lato',\n",
    "    color='black',\n",
    "    size=14\n",
    ")\n",
    "\n",
    "# Plotting with Plotly\n",
    "fig = go.Figure()\n",
    "\n",
    "# Adding bar trace\n",
    "fig.add_trace(\n",
    "    go.Bar(\n",
    "        x=df_filtered['Date'],\n",
    "        y=df_filtered['Value'],\n",
    "        marker_color=colors\n",
    "    )\n",
    ")\n",
    "\n",
    "# Customizing the layout\n",
    "fig.update_layout(\n",
    "    xaxis=dict(\n",
    "        title='Periods',\n",
    "        tickmode='array',\n",
    "        tickvals=df_filtered['Date'], \n",
    "        ticktext=df_filtered['Period'],\n",
    "        titlefont=title_font_style,\n",
    "        tickfont=font_style,\n",
    "        tickangle=-45,\n",
    "        showline=True,\n",
    "        linecolor='black',\n",
    "        linewidth=2,\n",
    "        gridcolor='lightgray'\n",
    "    ),\n",
    "    yaxis=dict(\n",
    "        title='Dipole Mode Index',\n",
    "        titlefont=title_font_style,\n",
    "        tickfont=font_style,\n",
    "        dtick=0.25,\n",
    "        gridcolor='lightgray'\n",
    "    ),\n",
    "    showlegend=False,\n",
    "    plot_bgcolor='white',\n",
    "    height=600,\n",
    "    width=1000\n",
    ")\n",
    "\n",
    "# Add annotation to the top-left corner\n",
    "fig.add_annotation(\n",
    "    text=\"(b)\",\n",
    "    xref=\"paper\", yref=\"paper\",\n",
    "    x=-.05, y=1.1,\n",
    "    xanchor=\"left\", yanchor=\"top\",\n",
    "    showarrow=False,\n",
    "    font=dict(\n",
    "        family='Lato',\n",
    "        color='black',\n",
    "        weight='bold',\n",
    "        size=24\n",
    "    )\n",
    ")\n",
    "\n",
    "# Add annotations for years and horizontal extents\n",
    "for year in df_filtered['Year'].unique():\n",
    "    # Get the corresponding dates for the year\n",
    "    year_dates = df_filtered[df_filtered['Year'] == year]['Date']\n",
    "    start_date = year_dates.min()\n",
    "    end_date = year_dates.max()\n",
    "    mid_date = year_dates.mean()\n",
    "\n",
    "    # Add annotation for year label\n",
    "    fig.add_annotation(\n",
    "        x=mid_date,\n",
    "        y=min(df_filtered['Value']) - 0.05,\n",
    "        text=str(year),\n",
    "        showarrow=False,\n",
    "        font=font_style,\n",
    "        bgcolor='white',\n",
    "    )\n",
    "\n",
    "    # Add a horizontal extent line\n",
    "    fig.add_shape(\n",
    "        type=\"line\",\n",
    "        x0=start_date,\n",
    "        x1=end_date,\n",
    "        y0=min(df_filtered['Value'])- 0.05,\n",
    "        y1=min(df_filtered['Value'])- 0.05,\n",
    "        line=dict(\n",
    "            color=\"black\",\n",
    "            width=1,\n",
    "            dash='dot'\n",
    "        )\n",
    "    )\n",
    "\n",
    "# Show the figure\n",
    "fig.show()\n",
    "\n",
    "# Save the figure as a PNG file\n",
    "fig.write_image(os.path.join(img_path, 'dmi_standard.png'), engine=\"kaleido\", scale=6)"
   ]
  },
  {
   "cell_type": "markdown",
   "metadata": {},
   "source": [
    "# Ground Truth Validation"
   ]
  },
  {
   "cell_type": "code",
   "execution_count": 19,
   "metadata": {},
   "outputs": [],
   "source": [
    "gdf = gpd.read_file(shapefile_ground_truth)\n",
    "\n",
    "class_map = {'Lamun': 1, 'Terumbu': 2, 'Pasir': 3}\n",
    "gdf['Class'] = gdf['Class_Objc'].map(class_map)\n",
    "\n",
    "gdf = gdf[['Name', 'ID', 'Class_Objc', 'Class', 'geometry']]"
   ]
  },
  {
   "cell_type": "code",
   "execution_count": 21,
   "metadata": {},
   "outputs": [],
   "source": [
    "def reclassify(data_array):\n",
    "    \"\"\"_summary_\n",
    "\n",
    "    Args:\n",
    "        data_array (_type_): _description_\n",
    "\n",
    "    Returns:\n",
    "        _type_: _description_\n",
    "    \"\"\"\n",
    "    np_array = data_array.values\n",
    "\n",
    "    np_array = np.copy(np_array)  # Create a copy to avoid modifying the original data\n",
    "    np_array[np.isnan(np_array)] = np.nan  # Preserve NaN values\n",
    "    np_array[np_array == 1] = 1\n",
    "    np_array[np_array == 2] = 1\n",
    "    np_array[np_array == 3] = 2\n",
    "    np_array[np_array == 4] = 3\n",
    "\n",
    "    return xr.DataArray(\n",
    "        np_array, dims=data_array.dims, coords=data_array.coords, attrs=data_array.attrs\n",
    "    )"
   ]
  },
  {
   "cell_type": "code",
   "execution_count": 22,
   "metadata": {},
   "outputs": [],
   "source": [
    "ds = da.isel(time=6).to_dataset()\n",
    "ds = ds[['y', 'x', 'predictions']]\n",
    "\n",
    "ground_point = bm.labeled_samples(ds, gdf,'Class')\n",
    "\n",
    "ground_point['predictions'] = reclassify(ground_point['predictions'])\n",
    "\n",
    "y_pred = ground_point['predictions'].values.flatten()\n",
    "y_true = ground_point['label'].values.flatten()\n",
    "\n",
    "mask = ~np.isnan(y_pred) & ~np.isnan(y_true)\n",
    "\n",
    "y_pred = y_pred[mask]\n",
    "y_true = y_true[mask]"
   ]
  },
  {
   "cell_type": "code",
   "execution_count": 23,
   "metadata": {},
   "outputs": [
    {
     "name": "stdout",
     "output_type": "stream",
     "text": [
      "              precision    recall  f1-score   support\n",
      "\n",
      "         1.0       0.88      0.76      0.81        29\n",
      "         2.0       0.54      0.93      0.68        27\n",
      "         3.0       0.87      0.43      0.58        30\n",
      "\n",
      "    accuracy                           0.70        86\n",
      "   macro avg       0.76      0.71      0.69        86\n",
      "weighted avg       0.77      0.70      0.69        86\n",
      "\n",
      "[[22  6  1]\n",
      " [ 1 25  1]\n",
      " [ 2 15 13]]\n",
      "\n",
      "accuracy score:0.6976744186046512\n",
      "cohen's kappa:0.5509138381201044\n"
     ]
    }
   ],
   "source": [
    "from sklearn.metrics import classification_report, confusion_matrix, accuracy_score, cohen_kappa_score\n",
    "\n",
    "print(classification_report(y_true, y_pred))\n",
    "print(f\"{confusion_matrix(y_true, y_pred)}\\n\")\n",
    "print(f\"accuracy score:{accuracy_score(y_true, y_pred)}\")\n",
    "print(f\"cohen's kappa:{cohen_kappa_score(y_true, y_pred)}\")"
   ]
  },
  {
   "cell_type": "markdown",
   "metadata": {},
   "source": [
    "# Relative Surface Reflectance"
   ]
  },
  {
   "cell_type": "code",
   "execution_count": 79,
   "metadata": {},
   "outputs": [],
   "source": [
    "df = data[\n",
    "    ['blue', 'green', 'red', 'red_edge', 'nir', 'swir1', 'swir2','predictions']\n",
    "    ].to_dask_dataframe()\n",
    "\n",
    "df = df.reset_index().dropna(subset=['predictions']).drop(\n",
    "    columns=['index', 'y', 'x', 'transverse_mercator']\n",
    ")\n",
    "\n",
    "df['predictions'] = df['predictions'].astype(int)\n",
    "\n",
    "agg_df = (\n",
    "    df.groupby(['time', 'predictions'])\n",
    "    .agg(['mean', 'std'])\n",
    "    .reset_index()\n",
    ")\n",
    "\n",
    "agg_df.columns = ['_'.join(col).strip('_') for col in agg_df.columns.values]\n",
    "\n",
    "agg_df['year'] = agg_df['time'].dt.year"
   ]
  },
  {
   "cell_type": "code",
   "execution_count": 80,
   "metadata": {},
   "outputs": [],
   "source": [
    "# Separate mean and std columns\n",
    "mean_cols = [col for col in agg_df.columns if 'mean' in col and col not in ['time_mean', 'year_mean']]\n",
    "std_cols = [col for col in agg_df.columns if 'std' in col and col not in ['time_std', 'year_std']]\n",
    "\n",
    "# Exclude 'time' and 'year' from the mean_df for both mean and std data\n",
    "mean_df = agg_df[['predictions'] + mean_cols].groupby('predictions').mean().reset_index().compute()\n",
    "std_df = agg_df[['predictions'] + std_cols].groupby('predictions').mean().reset_index().compute()\n",
    "\n",
    "# Optionally, if you need both mean and std in a single DataFrame\n",
    "combined_df = mean_df.merge(std_df, on='predictions', suffixes=('_mean', '_std'))"
   ]
  },
  {
   "cell_type": "code",
   "execution_count": 85,
   "metadata": {},
   "outputs": [
    {
     "data": {
      "application/vnd.plotly.v1+json": {
       "config": {
        "plotlyServerURL": "https://plot.ly"
       },
       "data": [
        {
         "line": {
          "color": "#508D69"
         },
         "marker": {
          "color": "#508D69"
         },
         "mode": "markers+lines",
         "name": "Dense Seagrass",
         "type": "scatter",
         "x": [
          "blue",
          "green",
          "red",
          "red_edge",
          "nir",
          "swir1",
          "swir2"
         ],
         "y": [
          0.08143826121037334,
          0.10405036966718642,
          0.06850634974180839,
          0.07235817579104628,
          0.02586945670204502,
          0.012861317282252852,
          0.010047446508198042
         ]
        },
        {
         "line": {
          "color": "#9ADE7B"
         },
         "marker": {
          "color": "#9ADE7B"
         },
         "mode": "markers+lines",
         "name": "Sparse Seagrass",
         "type": "scatter",
         "x": [
          "blue",
          "green",
          "red",
          "red_edge",
          "nir",
          "swir1",
          "swir2"
         ],
         "y": [
          0.10109680809804371,
          0.12650944332549435,
          0.07711168366622144,
          0.06989073661891004,
          0.015798914417965916,
          0.008376785778297324,
          0.007988365595005322
         ]
        },
        {
         "line": {
          "color": "#FF6464"
         },
         "marker": {
          "color": "#FF6464"
         },
         "mode": "markers+lines",
         "name": "Coral Rubble",
         "type": "scatter",
         "x": [
          "blue",
          "green",
          "red",
          "red_edge",
          "nir",
          "swir1",
          "swir2"
         ],
         "y": [
          0.08576820333002244,
          0.09615471018756107,
          0.039100568079316785,
          0.03050432387491807,
          0.01058808287056396,
          0.009653673740417206,
          0.009048872923648116
         ]
        },
        {
         "line": {
          "color": "#FFE162"
         },
         "marker": {
          "color": "#FFE162"
         },
         "mode": "markers+lines",
         "name": "Sand",
         "type": "scatter",
         "x": [
          "blue",
          "green",
          "red",
          "red_edge",
          "nir",
          "swir1",
          "swir2"
         ],
         "y": [
          0.12799065788855676,
          0.15748538250134925,
          0.0934576424113847,
          0.07705668247341169,
          0.02021624843060726,
          0.011321749995027882,
          0.009688732857247011
         ]
        }
       ],
       "layout": {
        "annotations": [
         {
          "font": {
           "color": "black",
           "family": "Lato",
           "size": 24,
           "weight": "bold"
          },
          "showarrow": false,
          "text": "(a)",
          "x": -0.15,
          "xanchor": "left",
          "xref": "paper",
          "y": 1.2,
          "yanchor": "top",
          "yref": "paper"
         }
        ],
        "height": 600,
        "legend": {
         "font": {
          "color": "black",
          "family": "Lato",
          "size": 14
         },
         "title": {
          "text": "Label"
         },
         "traceorder": "normal",
         "x": 0.7,
         "y": 1
        },
        "template": {
         "data": {
          "bar": [
           {
            "error_x": {
             "color": "rgb(36,36,36)"
            },
            "error_y": {
             "color": "rgb(36,36,36)"
            },
            "marker": {
             "line": {
              "color": "white",
              "width": 0.5
             },
             "pattern": {
              "fillmode": "overlay",
              "size": 10,
              "solidity": 0.2
             }
            },
            "type": "bar"
           }
          ],
          "barpolar": [
           {
            "marker": {
             "line": {
              "color": "white",
              "width": 0.5
             },
             "pattern": {
              "fillmode": "overlay",
              "size": 10,
              "solidity": 0.2
             }
            },
            "type": "barpolar"
           }
          ],
          "carpet": [
           {
            "aaxis": {
             "endlinecolor": "rgb(36,36,36)",
             "gridcolor": "white",
             "linecolor": "white",
             "minorgridcolor": "white",
             "startlinecolor": "rgb(36,36,36)"
            },
            "baxis": {
             "endlinecolor": "rgb(36,36,36)",
             "gridcolor": "white",
             "linecolor": "white",
             "minorgridcolor": "white",
             "startlinecolor": "rgb(36,36,36)"
            },
            "type": "carpet"
           }
          ],
          "choropleth": [
           {
            "colorbar": {
             "outlinewidth": 1,
             "tickcolor": "rgb(36,36,36)",
             "ticks": "outside"
            },
            "type": "choropleth"
           }
          ],
          "contour": [
           {
            "colorbar": {
             "outlinewidth": 1,
             "tickcolor": "rgb(36,36,36)",
             "ticks": "outside"
            },
            "colorscale": [
             [
              0,
              "#440154"
             ],
             [
              0.1111111111111111,
              "#482878"
             ],
             [
              0.2222222222222222,
              "#3e4989"
             ],
             [
              0.3333333333333333,
              "#31688e"
             ],
             [
              0.4444444444444444,
              "#26828e"
             ],
             [
              0.5555555555555556,
              "#1f9e89"
             ],
             [
              0.6666666666666666,
              "#35b779"
             ],
             [
              0.7777777777777778,
              "#6ece58"
             ],
             [
              0.8888888888888888,
              "#b5de2b"
             ],
             [
              1,
              "#fde725"
             ]
            ],
            "type": "contour"
           }
          ],
          "contourcarpet": [
           {
            "colorbar": {
             "outlinewidth": 1,
             "tickcolor": "rgb(36,36,36)",
             "ticks": "outside"
            },
            "type": "contourcarpet"
           }
          ],
          "heatmap": [
           {
            "colorbar": {
             "outlinewidth": 1,
             "tickcolor": "rgb(36,36,36)",
             "ticks": "outside"
            },
            "colorscale": [
             [
              0,
              "#440154"
             ],
             [
              0.1111111111111111,
              "#482878"
             ],
             [
              0.2222222222222222,
              "#3e4989"
             ],
             [
              0.3333333333333333,
              "#31688e"
             ],
             [
              0.4444444444444444,
              "#26828e"
             ],
             [
              0.5555555555555556,
              "#1f9e89"
             ],
             [
              0.6666666666666666,
              "#35b779"
             ],
             [
              0.7777777777777778,
              "#6ece58"
             ],
             [
              0.8888888888888888,
              "#b5de2b"
             ],
             [
              1,
              "#fde725"
             ]
            ],
            "type": "heatmap"
           }
          ],
          "heatmapgl": [
           {
            "colorbar": {
             "outlinewidth": 1,
             "tickcolor": "rgb(36,36,36)",
             "ticks": "outside"
            },
            "colorscale": [
             [
              0,
              "#440154"
             ],
             [
              0.1111111111111111,
              "#482878"
             ],
             [
              0.2222222222222222,
              "#3e4989"
             ],
             [
              0.3333333333333333,
              "#31688e"
             ],
             [
              0.4444444444444444,
              "#26828e"
             ],
             [
              0.5555555555555556,
              "#1f9e89"
             ],
             [
              0.6666666666666666,
              "#35b779"
             ],
             [
              0.7777777777777778,
              "#6ece58"
             ],
             [
              0.8888888888888888,
              "#b5de2b"
             ],
             [
              1,
              "#fde725"
             ]
            ],
            "type": "heatmapgl"
           }
          ],
          "histogram": [
           {
            "marker": {
             "line": {
              "color": "white",
              "width": 0.6
             }
            },
            "type": "histogram"
           }
          ],
          "histogram2d": [
           {
            "colorbar": {
             "outlinewidth": 1,
             "tickcolor": "rgb(36,36,36)",
             "ticks": "outside"
            },
            "colorscale": [
             [
              0,
              "#440154"
             ],
             [
              0.1111111111111111,
              "#482878"
             ],
             [
              0.2222222222222222,
              "#3e4989"
             ],
             [
              0.3333333333333333,
              "#31688e"
             ],
             [
              0.4444444444444444,
              "#26828e"
             ],
             [
              0.5555555555555556,
              "#1f9e89"
             ],
             [
              0.6666666666666666,
              "#35b779"
             ],
             [
              0.7777777777777778,
              "#6ece58"
             ],
             [
              0.8888888888888888,
              "#b5de2b"
             ],
             [
              1,
              "#fde725"
             ]
            ],
            "type": "histogram2d"
           }
          ],
          "histogram2dcontour": [
           {
            "colorbar": {
             "outlinewidth": 1,
             "tickcolor": "rgb(36,36,36)",
             "ticks": "outside"
            },
            "colorscale": [
             [
              0,
              "#440154"
             ],
             [
              0.1111111111111111,
              "#482878"
             ],
             [
              0.2222222222222222,
              "#3e4989"
             ],
             [
              0.3333333333333333,
              "#31688e"
             ],
             [
              0.4444444444444444,
              "#26828e"
             ],
             [
              0.5555555555555556,
              "#1f9e89"
             ],
             [
              0.6666666666666666,
              "#35b779"
             ],
             [
              0.7777777777777778,
              "#6ece58"
             ],
             [
              0.8888888888888888,
              "#b5de2b"
             ],
             [
              1,
              "#fde725"
             ]
            ],
            "type": "histogram2dcontour"
           }
          ],
          "mesh3d": [
           {
            "colorbar": {
             "outlinewidth": 1,
             "tickcolor": "rgb(36,36,36)",
             "ticks": "outside"
            },
            "type": "mesh3d"
           }
          ],
          "parcoords": [
           {
            "line": {
             "colorbar": {
              "outlinewidth": 1,
              "tickcolor": "rgb(36,36,36)",
              "ticks": "outside"
             }
            },
            "type": "parcoords"
           }
          ],
          "pie": [
           {
            "automargin": true,
            "type": "pie"
           }
          ],
          "scatter": [
           {
            "fillpattern": {
             "fillmode": "overlay",
             "size": 10,
             "solidity": 0.2
            },
            "type": "scatter"
           }
          ],
          "scatter3d": [
           {
            "line": {
             "colorbar": {
              "outlinewidth": 1,
              "tickcolor": "rgb(36,36,36)",
              "ticks": "outside"
             }
            },
            "marker": {
             "colorbar": {
              "outlinewidth": 1,
              "tickcolor": "rgb(36,36,36)",
              "ticks": "outside"
             }
            },
            "type": "scatter3d"
           }
          ],
          "scattercarpet": [
           {
            "marker": {
             "colorbar": {
              "outlinewidth": 1,
              "tickcolor": "rgb(36,36,36)",
              "ticks": "outside"
             }
            },
            "type": "scattercarpet"
           }
          ],
          "scattergeo": [
           {
            "marker": {
             "colorbar": {
              "outlinewidth": 1,
              "tickcolor": "rgb(36,36,36)",
              "ticks": "outside"
             }
            },
            "type": "scattergeo"
           }
          ],
          "scattergl": [
           {
            "marker": {
             "colorbar": {
              "outlinewidth": 1,
              "tickcolor": "rgb(36,36,36)",
              "ticks": "outside"
             }
            },
            "type": "scattergl"
           }
          ],
          "scattermapbox": [
           {
            "marker": {
             "colorbar": {
              "outlinewidth": 1,
              "tickcolor": "rgb(36,36,36)",
              "ticks": "outside"
             }
            },
            "type": "scattermapbox"
           }
          ],
          "scatterpolar": [
           {
            "marker": {
             "colorbar": {
              "outlinewidth": 1,
              "tickcolor": "rgb(36,36,36)",
              "ticks": "outside"
             }
            },
            "type": "scatterpolar"
           }
          ],
          "scatterpolargl": [
           {
            "marker": {
             "colorbar": {
              "outlinewidth": 1,
              "tickcolor": "rgb(36,36,36)",
              "ticks": "outside"
             }
            },
            "type": "scatterpolargl"
           }
          ],
          "scatterternary": [
           {
            "marker": {
             "colorbar": {
              "outlinewidth": 1,
              "tickcolor": "rgb(36,36,36)",
              "ticks": "outside"
             }
            },
            "type": "scatterternary"
           }
          ],
          "surface": [
           {
            "colorbar": {
             "outlinewidth": 1,
             "tickcolor": "rgb(36,36,36)",
             "ticks": "outside"
            },
            "colorscale": [
             [
              0,
              "#440154"
             ],
             [
              0.1111111111111111,
              "#482878"
             ],
             [
              0.2222222222222222,
              "#3e4989"
             ],
             [
              0.3333333333333333,
              "#31688e"
             ],
             [
              0.4444444444444444,
              "#26828e"
             ],
             [
              0.5555555555555556,
              "#1f9e89"
             ],
             [
              0.6666666666666666,
              "#35b779"
             ],
             [
              0.7777777777777778,
              "#6ece58"
             ],
             [
              0.8888888888888888,
              "#b5de2b"
             ],
             [
              1,
              "#fde725"
             ]
            ],
            "type": "surface"
           }
          ],
          "table": [
           {
            "cells": {
             "fill": {
              "color": "rgb(237,237,237)"
             },
             "line": {
              "color": "white"
             }
            },
            "header": {
             "fill": {
              "color": "rgb(217,217,217)"
             },
             "line": {
              "color": "white"
             }
            },
            "type": "table"
           }
          ]
         },
         "layout": {
          "annotationdefaults": {
           "arrowhead": 0,
           "arrowwidth": 1
          },
          "autotypenumbers": "strict",
          "coloraxis": {
           "colorbar": {
            "outlinewidth": 1,
            "tickcolor": "rgb(36,36,36)",
            "ticks": "outside"
           }
          },
          "colorscale": {
           "diverging": [
            [
             0,
             "rgb(103,0,31)"
            ],
            [
             0.1,
             "rgb(178,24,43)"
            ],
            [
             0.2,
             "rgb(214,96,77)"
            ],
            [
             0.3,
             "rgb(244,165,130)"
            ],
            [
             0.4,
             "rgb(253,219,199)"
            ],
            [
             0.5,
             "rgb(247,247,247)"
            ],
            [
             0.6,
             "rgb(209,229,240)"
            ],
            [
             0.7,
             "rgb(146,197,222)"
            ],
            [
             0.8,
             "rgb(67,147,195)"
            ],
            [
             0.9,
             "rgb(33,102,172)"
            ],
            [
             1,
             "rgb(5,48,97)"
            ]
           ],
           "sequential": [
            [
             0,
             "#440154"
            ],
            [
             0.1111111111111111,
             "#482878"
            ],
            [
             0.2222222222222222,
             "#3e4989"
            ],
            [
             0.3333333333333333,
             "#31688e"
            ],
            [
             0.4444444444444444,
             "#26828e"
            ],
            [
             0.5555555555555556,
             "#1f9e89"
            ],
            [
             0.6666666666666666,
             "#35b779"
            ],
            [
             0.7777777777777778,
             "#6ece58"
            ],
            [
             0.8888888888888888,
             "#b5de2b"
            ],
            [
             1,
             "#fde725"
            ]
           ],
           "sequentialminus": [
            [
             0,
             "#440154"
            ],
            [
             0.1111111111111111,
             "#482878"
            ],
            [
             0.2222222222222222,
             "#3e4989"
            ],
            [
             0.3333333333333333,
             "#31688e"
            ],
            [
             0.4444444444444444,
             "#26828e"
            ],
            [
             0.5555555555555556,
             "#1f9e89"
            ],
            [
             0.6666666666666666,
             "#35b779"
            ],
            [
             0.7777777777777778,
             "#6ece58"
            ],
            [
             0.8888888888888888,
             "#b5de2b"
            ],
            [
             1,
             "#fde725"
            ]
           ]
          },
          "colorway": [
           "#1F77B4",
           "#FF7F0E",
           "#2CA02C",
           "#D62728",
           "#9467BD",
           "#8C564B",
           "#E377C2",
           "#7F7F7F",
           "#BCBD22",
           "#17BECF"
          ],
          "font": {
           "color": "rgb(36,36,36)"
          },
          "geo": {
           "bgcolor": "white",
           "lakecolor": "white",
           "landcolor": "white",
           "showlakes": true,
           "showland": true,
           "subunitcolor": "white"
          },
          "hoverlabel": {
           "align": "left"
          },
          "hovermode": "closest",
          "mapbox": {
           "style": "light"
          },
          "paper_bgcolor": "white",
          "plot_bgcolor": "white",
          "polar": {
           "angularaxis": {
            "gridcolor": "rgb(232,232,232)",
            "linecolor": "rgb(36,36,36)",
            "showgrid": false,
            "showline": true,
            "ticks": "outside"
           },
           "bgcolor": "white",
           "radialaxis": {
            "gridcolor": "rgb(232,232,232)",
            "linecolor": "rgb(36,36,36)",
            "showgrid": false,
            "showline": true,
            "ticks": "outside"
           }
          },
          "scene": {
           "xaxis": {
            "backgroundcolor": "white",
            "gridcolor": "rgb(232,232,232)",
            "gridwidth": 2,
            "linecolor": "rgb(36,36,36)",
            "showbackground": true,
            "showgrid": false,
            "showline": true,
            "ticks": "outside",
            "zeroline": false,
            "zerolinecolor": "rgb(36,36,36)"
           },
           "yaxis": {
            "backgroundcolor": "white",
            "gridcolor": "rgb(232,232,232)",
            "gridwidth": 2,
            "linecolor": "rgb(36,36,36)",
            "showbackground": true,
            "showgrid": false,
            "showline": true,
            "ticks": "outside",
            "zeroline": false,
            "zerolinecolor": "rgb(36,36,36)"
           },
           "zaxis": {
            "backgroundcolor": "white",
            "gridcolor": "rgb(232,232,232)",
            "gridwidth": 2,
            "linecolor": "rgb(36,36,36)",
            "showbackground": true,
            "showgrid": false,
            "showline": true,
            "ticks": "outside",
            "zeroline": false,
            "zerolinecolor": "rgb(36,36,36)"
           }
          },
          "shapedefaults": {
           "fillcolor": "black",
           "line": {
            "width": 0
           },
           "opacity": 0.3
          },
          "ternary": {
           "aaxis": {
            "gridcolor": "rgb(232,232,232)",
            "linecolor": "rgb(36,36,36)",
            "showgrid": false,
            "showline": true,
            "ticks": "outside"
           },
           "baxis": {
            "gridcolor": "rgb(232,232,232)",
            "linecolor": "rgb(36,36,36)",
            "showgrid": false,
            "showline": true,
            "ticks": "outside"
           },
           "bgcolor": "white",
           "caxis": {
            "gridcolor": "rgb(232,232,232)",
            "linecolor": "rgb(36,36,36)",
            "showgrid": false,
            "showline": true,
            "ticks": "outside"
           }
          },
          "title": {
           "x": 0.05
          },
          "xaxis": {
           "automargin": true,
           "gridcolor": "rgb(232,232,232)",
           "linecolor": "rgb(36,36,36)",
           "showgrid": false,
           "showline": true,
           "ticks": "outside",
           "title": {
            "standoff": 15
           },
           "zeroline": false,
           "zerolinecolor": "rgb(36,36,36)"
          },
          "yaxis": {
           "automargin": true,
           "gridcolor": "rgb(232,232,232)",
           "linecolor": "rgb(36,36,36)",
           "showgrid": false,
           "showline": true,
           "ticks": "outside",
           "title": {
            "standoff": 15
           },
           "zeroline": false,
           "zerolinecolor": "rgb(36,36,36)"
          }
         }
        },
        "width": 600,
        "xaxis": {
         "tickfont": {
          "color": "black",
          "family": "Lato",
          "size": 14
         },
         "title": {
          "font": {
           "color": "black",
           "family": "Lato",
           "size": 18
          },
          "text": "Bands"
         }
        },
        "yaxis": {
         "tickfont": {
          "color": "black",
          "family": "Lato",
          "size": 14
         },
         "title": {
          "font": {
           "color": "black",
           "family": "Lato",
           "size": 18
          },
          "text": "Reflectance"
         }
        }
       }
      }
     },
     "metadata": {},
     "output_type": "display_data"
    },
    {
     "data": {
      "application/vnd.plotly.v1+json": {
       "config": {
        "plotlyServerURL": "https://plot.ly"
       },
       "data": [
        {
         "line": {
          "color": "#508D69"
         },
         "marker": {
          "color": "#508D69"
         },
         "mode": "markers+lines",
         "name": "Dense Seagrass",
         "type": "scatter",
         "x": [
          "blue",
          "green",
          "red",
          "red_edge",
          "nir",
          "swir1",
          "swir2"
         ],
         "y": [
          0.018374507153747117,
          0.02448183036504895,
          0.01997652440609847,
          0.018055246172947764,
          0.013033006248132526,
          0.014854904433935825,
          0.009558289742041818
         ]
        },
        {
         "line": {
          "color": "#9ADE7B"
         },
         "marker": {
          "color": "#9ADE7B"
         },
         "mode": "markers+lines",
         "name": "Sparse Seagrass",
         "type": "scatter",
         "x": [
          "blue",
          "green",
          "red",
          "red_edge",
          "nir",
          "swir1",
          "swir2"
         ],
         "y": [
          0.01480948195499825,
          0.018710292235593676,
          0.014604789407274204,
          0.01420930264017265,
          0.006961075868416667,
          0.0022775931382036504,
          0.001826894691129552
         ]
        },
        {
         "line": {
          "color": "#FF6464"
         },
         "marker": {
          "color": "#FF6464"
         },
         "mode": "markers+lines",
         "name": "Coral Rubble",
         "type": "scatter",
         "x": [
          "blue",
          "green",
          "red",
          "red_edge",
          "nir",
          "swir1",
          "swir2"
         ],
         "y": [
          0.018333131007168255,
          0.020960832787147717,
          0.012783051538559957,
          0.012813723871284797,
          0.0035433281164522954,
          0.0031505425452058814,
          0.002347406566245944
         ]
        },
        {
         "line": {
          "color": "#FFE162"
         },
         "marker": {
          "color": "#FFE162"
         },
         "mode": "markers+lines",
         "name": "Sand",
         "type": "scatter",
         "x": [
          "blue",
          "green",
          "red",
          "red_edge",
          "nir",
          "swir1",
          "swir2"
         ],
         "y": [
          0.023380314776937586,
          0.028919312834127492,
          0.026017780895087047,
          0.026170390688596307,
          0.01657900389484454,
          0.008947783040713411,
          0.005487110896716715
         ]
        }
       ],
       "layout": {
        "annotations": [
         {
          "font": {
           "color": "black",
           "family": "Lato",
           "size": 24,
           "weight": "bold"
          },
          "showarrow": false,
          "text": "(b)",
          "x": -0.15,
          "xanchor": "left",
          "xref": "paper",
          "y": 1.2,
          "yanchor": "top",
          "yref": "paper"
         }
        ],
        "height": 600,
        "legend": {
         "font": {
          "color": "black",
          "family": "Lato",
          "size": 14
         },
         "title": {
          "text": "Label"
         },
         "traceorder": "normal",
         "x": 0.7,
         "y": 1
        },
        "template": {
         "data": {
          "bar": [
           {
            "error_x": {
             "color": "rgb(36,36,36)"
            },
            "error_y": {
             "color": "rgb(36,36,36)"
            },
            "marker": {
             "line": {
              "color": "white",
              "width": 0.5
             },
             "pattern": {
              "fillmode": "overlay",
              "size": 10,
              "solidity": 0.2
             }
            },
            "type": "bar"
           }
          ],
          "barpolar": [
           {
            "marker": {
             "line": {
              "color": "white",
              "width": 0.5
             },
             "pattern": {
              "fillmode": "overlay",
              "size": 10,
              "solidity": 0.2
             }
            },
            "type": "barpolar"
           }
          ],
          "carpet": [
           {
            "aaxis": {
             "endlinecolor": "rgb(36,36,36)",
             "gridcolor": "white",
             "linecolor": "white",
             "minorgridcolor": "white",
             "startlinecolor": "rgb(36,36,36)"
            },
            "baxis": {
             "endlinecolor": "rgb(36,36,36)",
             "gridcolor": "white",
             "linecolor": "white",
             "minorgridcolor": "white",
             "startlinecolor": "rgb(36,36,36)"
            },
            "type": "carpet"
           }
          ],
          "choropleth": [
           {
            "colorbar": {
             "outlinewidth": 1,
             "tickcolor": "rgb(36,36,36)",
             "ticks": "outside"
            },
            "type": "choropleth"
           }
          ],
          "contour": [
           {
            "colorbar": {
             "outlinewidth": 1,
             "tickcolor": "rgb(36,36,36)",
             "ticks": "outside"
            },
            "colorscale": [
             [
              0,
              "#440154"
             ],
             [
              0.1111111111111111,
              "#482878"
             ],
             [
              0.2222222222222222,
              "#3e4989"
             ],
             [
              0.3333333333333333,
              "#31688e"
             ],
             [
              0.4444444444444444,
              "#26828e"
             ],
             [
              0.5555555555555556,
              "#1f9e89"
             ],
             [
              0.6666666666666666,
              "#35b779"
             ],
             [
              0.7777777777777778,
              "#6ece58"
             ],
             [
              0.8888888888888888,
              "#b5de2b"
             ],
             [
              1,
              "#fde725"
             ]
            ],
            "type": "contour"
           }
          ],
          "contourcarpet": [
           {
            "colorbar": {
             "outlinewidth": 1,
             "tickcolor": "rgb(36,36,36)",
             "ticks": "outside"
            },
            "type": "contourcarpet"
           }
          ],
          "heatmap": [
           {
            "colorbar": {
             "outlinewidth": 1,
             "tickcolor": "rgb(36,36,36)",
             "ticks": "outside"
            },
            "colorscale": [
             [
              0,
              "#440154"
             ],
             [
              0.1111111111111111,
              "#482878"
             ],
             [
              0.2222222222222222,
              "#3e4989"
             ],
             [
              0.3333333333333333,
              "#31688e"
             ],
             [
              0.4444444444444444,
              "#26828e"
             ],
             [
              0.5555555555555556,
              "#1f9e89"
             ],
             [
              0.6666666666666666,
              "#35b779"
             ],
             [
              0.7777777777777778,
              "#6ece58"
             ],
             [
              0.8888888888888888,
              "#b5de2b"
             ],
             [
              1,
              "#fde725"
             ]
            ],
            "type": "heatmap"
           }
          ],
          "heatmapgl": [
           {
            "colorbar": {
             "outlinewidth": 1,
             "tickcolor": "rgb(36,36,36)",
             "ticks": "outside"
            },
            "colorscale": [
             [
              0,
              "#440154"
             ],
             [
              0.1111111111111111,
              "#482878"
             ],
             [
              0.2222222222222222,
              "#3e4989"
             ],
             [
              0.3333333333333333,
              "#31688e"
             ],
             [
              0.4444444444444444,
              "#26828e"
             ],
             [
              0.5555555555555556,
              "#1f9e89"
             ],
             [
              0.6666666666666666,
              "#35b779"
             ],
             [
              0.7777777777777778,
              "#6ece58"
             ],
             [
              0.8888888888888888,
              "#b5de2b"
             ],
             [
              1,
              "#fde725"
             ]
            ],
            "type": "heatmapgl"
           }
          ],
          "histogram": [
           {
            "marker": {
             "line": {
              "color": "white",
              "width": 0.6
             }
            },
            "type": "histogram"
           }
          ],
          "histogram2d": [
           {
            "colorbar": {
             "outlinewidth": 1,
             "tickcolor": "rgb(36,36,36)",
             "ticks": "outside"
            },
            "colorscale": [
             [
              0,
              "#440154"
             ],
             [
              0.1111111111111111,
              "#482878"
             ],
             [
              0.2222222222222222,
              "#3e4989"
             ],
             [
              0.3333333333333333,
              "#31688e"
             ],
             [
              0.4444444444444444,
              "#26828e"
             ],
             [
              0.5555555555555556,
              "#1f9e89"
             ],
             [
              0.6666666666666666,
              "#35b779"
             ],
             [
              0.7777777777777778,
              "#6ece58"
             ],
             [
              0.8888888888888888,
              "#b5de2b"
             ],
             [
              1,
              "#fde725"
             ]
            ],
            "type": "histogram2d"
           }
          ],
          "histogram2dcontour": [
           {
            "colorbar": {
             "outlinewidth": 1,
             "tickcolor": "rgb(36,36,36)",
             "ticks": "outside"
            },
            "colorscale": [
             [
              0,
              "#440154"
             ],
             [
              0.1111111111111111,
              "#482878"
             ],
             [
              0.2222222222222222,
              "#3e4989"
             ],
             [
              0.3333333333333333,
              "#31688e"
             ],
             [
              0.4444444444444444,
              "#26828e"
             ],
             [
              0.5555555555555556,
              "#1f9e89"
             ],
             [
              0.6666666666666666,
              "#35b779"
             ],
             [
              0.7777777777777778,
              "#6ece58"
             ],
             [
              0.8888888888888888,
              "#b5de2b"
             ],
             [
              1,
              "#fde725"
             ]
            ],
            "type": "histogram2dcontour"
           }
          ],
          "mesh3d": [
           {
            "colorbar": {
             "outlinewidth": 1,
             "tickcolor": "rgb(36,36,36)",
             "ticks": "outside"
            },
            "type": "mesh3d"
           }
          ],
          "parcoords": [
           {
            "line": {
             "colorbar": {
              "outlinewidth": 1,
              "tickcolor": "rgb(36,36,36)",
              "ticks": "outside"
             }
            },
            "type": "parcoords"
           }
          ],
          "pie": [
           {
            "automargin": true,
            "type": "pie"
           }
          ],
          "scatter": [
           {
            "fillpattern": {
             "fillmode": "overlay",
             "size": 10,
             "solidity": 0.2
            },
            "type": "scatter"
           }
          ],
          "scatter3d": [
           {
            "line": {
             "colorbar": {
              "outlinewidth": 1,
              "tickcolor": "rgb(36,36,36)",
              "ticks": "outside"
             }
            },
            "marker": {
             "colorbar": {
              "outlinewidth": 1,
              "tickcolor": "rgb(36,36,36)",
              "ticks": "outside"
             }
            },
            "type": "scatter3d"
           }
          ],
          "scattercarpet": [
           {
            "marker": {
             "colorbar": {
              "outlinewidth": 1,
              "tickcolor": "rgb(36,36,36)",
              "ticks": "outside"
             }
            },
            "type": "scattercarpet"
           }
          ],
          "scattergeo": [
           {
            "marker": {
             "colorbar": {
              "outlinewidth": 1,
              "tickcolor": "rgb(36,36,36)",
              "ticks": "outside"
             }
            },
            "type": "scattergeo"
           }
          ],
          "scattergl": [
           {
            "marker": {
             "colorbar": {
              "outlinewidth": 1,
              "tickcolor": "rgb(36,36,36)",
              "ticks": "outside"
             }
            },
            "type": "scattergl"
           }
          ],
          "scattermapbox": [
           {
            "marker": {
             "colorbar": {
              "outlinewidth": 1,
              "tickcolor": "rgb(36,36,36)",
              "ticks": "outside"
             }
            },
            "type": "scattermapbox"
           }
          ],
          "scatterpolar": [
           {
            "marker": {
             "colorbar": {
              "outlinewidth": 1,
              "tickcolor": "rgb(36,36,36)",
              "ticks": "outside"
             }
            },
            "type": "scatterpolar"
           }
          ],
          "scatterpolargl": [
           {
            "marker": {
             "colorbar": {
              "outlinewidth": 1,
              "tickcolor": "rgb(36,36,36)",
              "ticks": "outside"
             }
            },
            "type": "scatterpolargl"
           }
          ],
          "scatterternary": [
           {
            "marker": {
             "colorbar": {
              "outlinewidth": 1,
              "tickcolor": "rgb(36,36,36)",
              "ticks": "outside"
             }
            },
            "type": "scatterternary"
           }
          ],
          "surface": [
           {
            "colorbar": {
             "outlinewidth": 1,
             "tickcolor": "rgb(36,36,36)",
             "ticks": "outside"
            },
            "colorscale": [
             [
              0,
              "#440154"
             ],
             [
              0.1111111111111111,
              "#482878"
             ],
             [
              0.2222222222222222,
              "#3e4989"
             ],
             [
              0.3333333333333333,
              "#31688e"
             ],
             [
              0.4444444444444444,
              "#26828e"
             ],
             [
              0.5555555555555556,
              "#1f9e89"
             ],
             [
              0.6666666666666666,
              "#35b779"
             ],
             [
              0.7777777777777778,
              "#6ece58"
             ],
             [
              0.8888888888888888,
              "#b5de2b"
             ],
             [
              1,
              "#fde725"
             ]
            ],
            "type": "surface"
           }
          ],
          "table": [
           {
            "cells": {
             "fill": {
              "color": "rgb(237,237,237)"
             },
             "line": {
              "color": "white"
             }
            },
            "header": {
             "fill": {
              "color": "rgb(217,217,217)"
             },
             "line": {
              "color": "white"
             }
            },
            "type": "table"
           }
          ]
         },
         "layout": {
          "annotationdefaults": {
           "arrowhead": 0,
           "arrowwidth": 1
          },
          "autotypenumbers": "strict",
          "coloraxis": {
           "colorbar": {
            "outlinewidth": 1,
            "tickcolor": "rgb(36,36,36)",
            "ticks": "outside"
           }
          },
          "colorscale": {
           "diverging": [
            [
             0,
             "rgb(103,0,31)"
            ],
            [
             0.1,
             "rgb(178,24,43)"
            ],
            [
             0.2,
             "rgb(214,96,77)"
            ],
            [
             0.3,
             "rgb(244,165,130)"
            ],
            [
             0.4,
             "rgb(253,219,199)"
            ],
            [
             0.5,
             "rgb(247,247,247)"
            ],
            [
             0.6,
             "rgb(209,229,240)"
            ],
            [
             0.7,
             "rgb(146,197,222)"
            ],
            [
             0.8,
             "rgb(67,147,195)"
            ],
            [
             0.9,
             "rgb(33,102,172)"
            ],
            [
             1,
             "rgb(5,48,97)"
            ]
           ],
           "sequential": [
            [
             0,
             "#440154"
            ],
            [
             0.1111111111111111,
             "#482878"
            ],
            [
             0.2222222222222222,
             "#3e4989"
            ],
            [
             0.3333333333333333,
             "#31688e"
            ],
            [
             0.4444444444444444,
             "#26828e"
            ],
            [
             0.5555555555555556,
             "#1f9e89"
            ],
            [
             0.6666666666666666,
             "#35b779"
            ],
            [
             0.7777777777777778,
             "#6ece58"
            ],
            [
             0.8888888888888888,
             "#b5de2b"
            ],
            [
             1,
             "#fde725"
            ]
           ],
           "sequentialminus": [
            [
             0,
             "#440154"
            ],
            [
             0.1111111111111111,
             "#482878"
            ],
            [
             0.2222222222222222,
             "#3e4989"
            ],
            [
             0.3333333333333333,
             "#31688e"
            ],
            [
             0.4444444444444444,
             "#26828e"
            ],
            [
             0.5555555555555556,
             "#1f9e89"
            ],
            [
             0.6666666666666666,
             "#35b779"
            ],
            [
             0.7777777777777778,
             "#6ece58"
            ],
            [
             0.8888888888888888,
             "#b5de2b"
            ],
            [
             1,
             "#fde725"
            ]
           ]
          },
          "colorway": [
           "#1F77B4",
           "#FF7F0E",
           "#2CA02C",
           "#D62728",
           "#9467BD",
           "#8C564B",
           "#E377C2",
           "#7F7F7F",
           "#BCBD22",
           "#17BECF"
          ],
          "font": {
           "color": "rgb(36,36,36)"
          },
          "geo": {
           "bgcolor": "white",
           "lakecolor": "white",
           "landcolor": "white",
           "showlakes": true,
           "showland": true,
           "subunitcolor": "white"
          },
          "hoverlabel": {
           "align": "left"
          },
          "hovermode": "closest",
          "mapbox": {
           "style": "light"
          },
          "paper_bgcolor": "white",
          "plot_bgcolor": "white",
          "polar": {
           "angularaxis": {
            "gridcolor": "rgb(232,232,232)",
            "linecolor": "rgb(36,36,36)",
            "showgrid": false,
            "showline": true,
            "ticks": "outside"
           },
           "bgcolor": "white",
           "radialaxis": {
            "gridcolor": "rgb(232,232,232)",
            "linecolor": "rgb(36,36,36)",
            "showgrid": false,
            "showline": true,
            "ticks": "outside"
           }
          },
          "scene": {
           "xaxis": {
            "backgroundcolor": "white",
            "gridcolor": "rgb(232,232,232)",
            "gridwidth": 2,
            "linecolor": "rgb(36,36,36)",
            "showbackground": true,
            "showgrid": false,
            "showline": true,
            "ticks": "outside",
            "zeroline": false,
            "zerolinecolor": "rgb(36,36,36)"
           },
           "yaxis": {
            "backgroundcolor": "white",
            "gridcolor": "rgb(232,232,232)",
            "gridwidth": 2,
            "linecolor": "rgb(36,36,36)",
            "showbackground": true,
            "showgrid": false,
            "showline": true,
            "ticks": "outside",
            "zeroline": false,
            "zerolinecolor": "rgb(36,36,36)"
           },
           "zaxis": {
            "backgroundcolor": "white",
            "gridcolor": "rgb(232,232,232)",
            "gridwidth": 2,
            "linecolor": "rgb(36,36,36)",
            "showbackground": true,
            "showgrid": false,
            "showline": true,
            "ticks": "outside",
            "zeroline": false,
            "zerolinecolor": "rgb(36,36,36)"
           }
          },
          "shapedefaults": {
           "fillcolor": "black",
           "line": {
            "width": 0
           },
           "opacity": 0.3
          },
          "ternary": {
           "aaxis": {
            "gridcolor": "rgb(232,232,232)",
            "linecolor": "rgb(36,36,36)",
            "showgrid": false,
            "showline": true,
            "ticks": "outside"
           },
           "baxis": {
            "gridcolor": "rgb(232,232,232)",
            "linecolor": "rgb(36,36,36)",
            "showgrid": false,
            "showline": true,
            "ticks": "outside"
           },
           "bgcolor": "white",
           "caxis": {
            "gridcolor": "rgb(232,232,232)",
            "linecolor": "rgb(36,36,36)",
            "showgrid": false,
            "showline": true,
            "ticks": "outside"
           }
          },
          "title": {
           "x": 0.05
          },
          "xaxis": {
           "automargin": true,
           "gridcolor": "rgb(232,232,232)",
           "linecolor": "rgb(36,36,36)",
           "showgrid": false,
           "showline": true,
           "ticks": "outside",
           "title": {
            "standoff": 15
           },
           "zeroline": false,
           "zerolinecolor": "rgb(36,36,36)"
          },
          "yaxis": {
           "automargin": true,
           "gridcolor": "rgb(232,232,232)",
           "linecolor": "rgb(36,36,36)",
           "showgrid": false,
           "showline": true,
           "ticks": "outside",
           "title": {
            "standoff": 15
           },
           "zeroline": false,
           "zerolinecolor": "rgb(36,36,36)"
          }
         }
        },
        "width": 600,
        "xaxis": {
         "tickfont": {
          "color": "black",
          "family": "Lato",
          "size": 14
         },
         "title": {
          "font": {
           "color": "black",
           "family": "Lato",
           "size": 18
          },
          "text": "Bands"
         }
        },
        "yaxis": {
         "tickfont": {
          "color": "black",
          "family": "Lato",
          "size": 14
         },
         "title": {
          "font": {
           "color": "black",
           "family": "Lato",
           "size": 18
          },
          "text": "Reflectance"
         }
        }
       }
      }
     },
     "metadata": {},
     "output_type": "display_data"
    }
   ],
   "source": [
    "# Font styles\n",
    "title_font_style = dict(\n",
    "    family='Lato',\n",
    "    color='black',\n",
    "    size=18\n",
    ")\n",
    "\n",
    "font_style = dict(\n",
    "    family='Lato',\n",
    "    color='black',\n",
    "    size=14\n",
    ")\n",
    "\n",
    "color_map = {\n",
    "    1: '#508D69',\n",
    "    2: '#9ADE7B',\n",
    "    3: '#FF6464',\n",
    "    4: '#FFE162'\n",
    "}\n",
    "\n",
    "labels = {\n",
    "    1: 'Dense Seagrass', \n",
    "    2: 'Sparse Seagrass', \n",
    "    3: 'Coral Rubble', \n",
    "    4: 'Sand'\n",
    "}\n",
    "\n",
    "# Plot for Mean Reflectance Profiles\n",
    "fig_mean = go.Figure()\n",
    "\n",
    "for class_level in mean_df['predictions'].unique():\n",
    "    data_class_mean = mean_df[mean_df['predictions'] == class_level]\n",
    "    fig_mean.add_trace(\n",
    "        go.Scatter(\n",
    "            x=['blue', 'green', 'red', 'red_edge', 'nir', 'swir1', 'swir2'],\n",
    "            y=[\n",
    "                data_class_mean['blue_mean'].values[0],\n",
    "                data_class_mean['green_mean'].values[0],\n",
    "                data_class_mean['red_mean'].values[0],\n",
    "                data_class_mean['red_edge_mean'].values[0],\n",
    "                data_class_mean['nir_mean'].values[0],\n",
    "                data_class_mean['swir1_mean'].values[0],\n",
    "                data_class_mean['swir2_mean'].values[0]\n",
    "            ],\n",
    "            mode='markers+lines',\n",
    "            name=labels.get(class_level, \"Unknown Class\"),\n",
    "            line=dict(color=color_map.get(class_level, 'black')),\n",
    "            marker=dict(color=color_map.get(class_level, 'black'))\n",
    "        )\n",
    "    )\n",
    "\n",
    "# Add annotation (a) for Mean Plot\n",
    "fig_mean.add_annotation(\n",
    "    text=\"(a)\",\n",
    "    xref=\"paper\", yref=\"paper\",\n",
    "    x=-0.15, y=1.2,\n",
    "    xanchor=\"left\", yanchor=\"top\",\n",
    "    showarrow=False,\n",
    "    font=dict(\n",
    "        family='Lato',\n",
    "        color='black',\n",
    "        weight='bold',\n",
    "        size=24\n",
    "    )\n",
    ")\n",
    "\n",
    "# Update layout for Mean Plot\n",
    "fig_mean.update_layout(\n",
    "    xaxis=dict(\n",
    "        title='Bands',\n",
    "        titlefont=title_font_style,\n",
    "        tickfont=font_style\n",
    "    ),\n",
    "    yaxis=dict(\n",
    "        title='Reflectance',\n",
    "        titlefont=title_font_style,\n",
    "        tickfont=font_style\n",
    "    ),\n",
    "    legend_title='Label',\n",
    "    legend=dict(\n",
    "        x=0.7,\n",
    "        y=1,\n",
    "        traceorder='normal',\n",
    "        font=font_style\n",
    "    ),\n",
    "    template='simple_white',\n",
    "    height=600,\n",
    "    width=600\n",
    ")\n",
    "\n",
    "fig_mean.show()\n",
    "\n",
    "# Save Mean Plot\n",
    "fig_mean.write_image(\n",
    "    os.path.join(img_path, 'reflectance_profiles_mean.png'), \n",
    "    engine=\"kaleido\", scale=6\n",
    ")\n",
    "\n",
    "\n",
    "# Plot for Standard Deviation Reflectance Profiles\n",
    "fig_std = go.Figure()\n",
    "\n",
    "for class_level in std_df['predictions'].unique():\n",
    "    data_class_std = std_df[std_df['predictions'] == class_level]\n",
    "    fig_std.add_trace(\n",
    "        go.Scatter(\n",
    "            x=['blue', 'green', 'red', 'red_edge', 'nir', 'swir1', 'swir2'],\n",
    "            y=[\n",
    "                data_class_std['blue_std'].values[0],\n",
    "                data_class_std['green_std'].values[0],\n",
    "                data_class_std['red_std'].values[0],\n",
    "                data_class_std['red_edge_std'].values[0],\n",
    "                data_class_std['nir_std'].values[0],\n",
    "                data_class_std['swir1_std'].values[0],\n",
    "                data_class_std['swir2_std'].values[0]\n",
    "            ],\n",
    "            mode='markers+lines',\n",
    "            name=labels.get(class_level, \"Unknown Class\"),\n",
    "            line=dict(color=color_map.get(class_level, 'black')),\n",
    "            marker=dict(color=color_map.get(class_level, 'black'))\n",
    "        )\n",
    "    )\n",
    "\n",
    "# Add annotation (b) for Std Plot\n",
    "fig_std.add_annotation(\n",
    "    text=\"(b)\",\n",
    "    xref=\"paper\", yref=\"paper\",\n",
    "    x=-0.15, y=1.2,\n",
    "    xanchor=\"left\", yanchor=\"top\",\n",
    "    showarrow=False,\n",
    "    font=dict(\n",
    "        family='Lato',\n",
    "        color='black',\n",
    "        weight='bold',\n",
    "        size=24\n",
    "    )\n",
    ")\n",
    "\n",
    "# Update layout for Std Plot\n",
    "fig_std.update_layout(\n",
    "    xaxis=dict(\n",
    "        title='Bands',\n",
    "        titlefont=title_font_style,\n",
    "        tickfont=font_style\n",
    "    ),\n",
    "    yaxis=dict(\n",
    "        title='Reflectance',\n",
    "        titlefont=title_font_style,\n",
    "        tickfont=font_style\n",
    "    ),\n",
    "    legend_title='Label',\n",
    "    legend=dict(\n",
    "        x=0.7,\n",
    "        y=1,\n",
    "        traceorder='normal',\n",
    "        font=font_style\n",
    "    ),\n",
    "    template='simple_white',\n",
    "    height=600,\n",
    "    width=600\n",
    ")\n",
    "\n",
    "fig_std.show()\n",
    "\n",
    "# Save Std Plot\n",
    "fig_std.write_image(\n",
    "    os.path.join(img_path, 'reflectance_profiles_std.png'), \n",
    "    engine=\"kaleido\", scale=6\n",
    ")"
   ]
  },
  {
   "cell_type": "markdown",
   "metadata": {},
   "source": [
    "# Plot the Predicted"
   ]
  },
  {
   "cell_type": "code",
   "execution_count": 15,
   "metadata": {},
   "outputs": [],
   "source": [
    "def plot_time_series(dataset, data_variable, output_dir, font_family='Lato'):\n",
    "    font_properties = font_manager.FontProperties(\n",
    "        family=font_family\n",
    "    )\n",
    "    \n",
    "    labels = ['denseSeagrass', 'sparseSeagrass', 'coralRubble', 'sand']\n",
    "    colors = ['#508D69', '#9ADE7B', '#FF6464', '#FFE162']\n",
    "    cmap = mcolors.ListedColormap(colors)\n",
    "    bounds = [1.0, 2.0, 3.0, 4.0, 5.0]\n",
    "    norm = mcolors.BoundaryNorm(bounds, cmap.N)\n",
    "\n",
    "    proj = ccrs.UTM(zone=50, southern_hemisphere=True)\n",
    "      \n",
    "    for i in range(len(dataset[data_variable].time)):\n",
    "        plt.figure(figsize=(10, 6))\n",
    "        ax = plt.axes(projection=proj)\n",
    "        \n",
    "        selected_data = dataset[data_variable].isel(time=i)\n",
    "        selected_data.plot(ax=ax, cmap=cmap, norm=norm, add_colorbar=False, transform=proj)\n",
    "        \n",
    "        ax.set_aspect('equal', adjustable='datalim')\n",
    "        ax.xaxis.set_visible(True)\n",
    "        ax.yaxis.set_visible(True)\n",
    "        \n",
    "        ax.set_aspect('equal', adjustable='datalim')\n",
    "        ax.xaxis.set_visible(True)\n",
    "        ax.yaxis.set_visible(True)\n",
    "\n",
    "        ax.set_title('')\n",
    "        year = selected_data.time.dt.year.values\n",
    "        annotation_text = f'{year}'\n",
    "\n",
    "        ax.annotate(annotation_text, xy=(0.02, 0.98), xycoords='axes fraction', fontsize=16,\n",
    "                    ha='left', va='top', font_properties = font_properties)\n",
    "\n",
    "        handles = [plt.Line2D([0], [0], marker='o', color='w', label=label,\n",
    "                            markersize=15, markerfacecolor=color)\n",
    "                for label, color in zip(labels, colors)]\n",
    "\n",
    "        ax.legend(handles=handles, loc='lower center', bbox_to_anchor=(0.5, -0.005),\n",
    "                            ncol=len(labels), frameon=False, prop = font_properties)\n",
    "        \n",
    "        plt.tick_params(\n",
    "            labelfontfamily=font_family, grid_alpha=0.5\n",
    "        )\n",
    "        \n",
    "        plt.grid(True)\n",
    "        \n",
    "        plt.savefig(\n",
    "            f'{output_dir}/benthic_classification_{year}.png',\n",
    "            dpi=300, bbox_inches='tight'\n",
    "        )\n",
    "        plt.close()"
   ]
  },
  {
   "cell_type": "code",
   "execution_count": 16,
   "metadata": {},
   "outputs": [],
   "source": [
    "ds = da.to_dataset()\n",
    "ds = ds[['y', 'x', 'predictions']]\n",
    "\n",
    "plot_time_series(ds, 'predictions', img_path)"
   ]
  },
  {
   "cell_type": "markdown",
   "metadata": {},
   "source": [
    "# Changes"
   ]
  },
  {
   "cell_type": "code",
   "execution_count": 39,
   "metadata": {},
   "outputs": [],
   "source": [
    "def classify_changes_per_year(dataset):\n",
    "    \"\"\"_summary_\n",
    "\n",
    "    Args:\n",
    "        dataset (_type_): _description_\n",
    "\n",
    "    Returns:\n",
    "        _type_: _description_\n",
    "    \"\"\"\n",
    "    class_data = dataset['predictions'].values\n",
    "\n",
    "    coords = {\n",
    "        'x': dataset['x'].values,\n",
    "        'y': dataset['y'].values,\n",
    "        'time': dataset['time'].values\n",
    "    }\n",
    "    \n",
    "    change_maps = {}\n",
    "    \n",
    "    change_categories = {\n",
    "        (2, 1): 1,  # sparseSeagrass to denseSeagrass (density gain)\n",
    "        (2, 2): 2,  # unchanged (consistent seagrass)\n",
    "        (2, 3): 3,  # sparseSeagrass to coralRubble (loss)\n",
    "        (2, 4): 3,  # sparseSeagrass to sand (loss)\n",
    "        (3, 2): 4,  # coralRubble to sparseSeagrass (gain)\n",
    "        (4, 2): 4,  # sand to sparseSeagrass (gain)\n",
    "        (4, 4): 0,  # sand remains sand (absence)\n",
    "        (3, 3): 0,  # coralRubble remains coralRubble (absence)\n",
    "    }\n",
    "\n",
    "    for i in range(1, len(dataset['time'])):\n",
    "        prev_class = class_data[i-1, :, :]\n",
    "        curr_class = class_data[i, :, :]\n",
    "\n",
    "        change_map = np.full(prev_class.shape, np.nan)\n",
    "\n",
    "        for (prev, curr), value in change_categories.items():\n",
    "            change_map[(prev_class == prev) & (curr_class == curr)] = value\n",
    "        \n",
    "        year_pair = f\"{str(dataset['time'][i-1].values)[:4]}_{str(dataset['time'][i].values)[:4]}\"\n",
    "        change_maps[year_pair] = change_map\n",
    "\n",
    "    changes_data = {\n",
    "        year_pair: (['y', 'x'], change_map) for year_pair, change_map in change_maps.items()\n",
    "    }\n",
    "   \n",
    "    return xr.Dataset(\n",
    "        data_vars=changes_data,\n",
    "        coords={\n",
    "            'x': ('x', coords['x']),\n",
    "            'y': ('y', coords['y'])\n",
    "        }\n",
    "    )"
   ]
  },
  {
   "cell_type": "code",
   "execution_count": 40,
   "metadata": {},
   "outputs": [],
   "source": [
    "ds = da.to_dataset()\n",
    "ds = ds[['y', 'x', 'predictions']]\n",
    "\n",
    "changes_ds = classify_changes_per_year(ds)"
   ]
  },
  {
   "cell_type": "code",
   "execution_count": 43,
   "metadata": {},
   "outputs": [],
   "source": [
    "def plot_changes(dataset, output_dir, font_family='Lato'):\n",
    "    \"\"\"_summary_\n",
    "\n",
    "    Args:\n",
    "        dataset (_type_): _description_\n",
    "        output_dir (_type_): _description_\n",
    "        font_family (str, optional): _description_. Defaults to 'Lato'.\n",
    "    \"\"\"\n",
    "    font_properties = font_manager.FontProperties(family=font_family)\n",
    "\n",
    "    labels = ['Consistent Absence', 'Density Gain', 'Consistent Seagrass', \n",
    "              'Loss', 'Gain']\n",
    "    colors = ['#B4B4B8', '#508D69', '#D2DE32', '#FF6464', '#9ADE7B']\n",
    "    cmap = mcolors.ListedColormap(colors)\n",
    "    bounds = [0.0, 1.0, 2.0, 3.0, 4.0, 5.0]\n",
    "    norm = mcolors.BoundaryNorm(bounds, cmap.N)\n",
    "\n",
    "    proj = ccrs.UTM(zone=50, southern_hemisphere=True)\n",
    "\n",
    "    # Loop over each data variable in the dataset\n",
    "    for var_name in dataset.data_vars:\n",
    "        # Create the figure and axes\n",
    "        plt.figure(figsize=(10, 8))\n",
    "        ax = plt.axes(projection=proj)\n",
    "\n",
    "        # Select data for plotting\n",
    "        selected_data = dataset[var_name]\n",
    "\n",
    "        # Plot the selected data with the defined colormap and normalization\n",
    "        selected_data.plot(ax=ax, cmap=cmap, norm=norm, add_colorbar=False, transform=proj)\n",
    "\n",
    "        # Extract the variable names for annotation\n",
    "        variable_names = var_name.split('_')\n",
    "\n",
    "        # Set equal aspect ratio for the plot\n",
    "        ax.set_aspect('equal', adjustable='datalim')\n",
    "\n",
    "        # Remove the title from the plot\n",
    "        ax.set_title('')\n",
    "\n",
    "        # Add annotation to the plot\n",
    "        ax.annotate(f'Changes from {variable_names[0]} to {variable_names[1]}', xy=(0.02, 0.98), xycoords='axes fraction', fontsize=12,\n",
    "                    ha='left', va='top', font_properties=font_properties)\n",
    "\n",
    "        # Create legend with custom labels and colors\n",
    "        handles = [plt.Line2D([0], [0], marker='o', color='w', label=label,\n",
    "                              markersize=15, markerfacecolor=color)\n",
    "                   for label, color in zip(labels, colors)]\n",
    "\n",
    "        # Add legend to the plot with specified properties\n",
    "        legend = ax.legend(handles=handles, loc='lower center', bbox_to_anchor=(0.5, -0.005),\n",
    "                            ncol=len(labels), frameon=False, prop=font_properties)\n",
    "\n",
    "        # Save the plot to the specified directory with the variable name in the filename\n",
    "        plt.savefig(f'{output_dir}/changes_{var_name}.png', dpi=300, bbox_inches='tight')\n",
    "\n",
    "        # Close the plot to avoid overlapping in the loop\n",
    "        plt.close()"
   ]
  },
  {
   "cell_type": "code",
   "execution_count": 45,
   "metadata": {},
   "outputs": [],
   "source": [
    "plot_changes(changes_ds, img_path)  "
   ]
  },
  {
   "cell_type": "code",
   "execution_count": 76,
   "metadata": {},
   "outputs": [
    {
     "data": {
      "text/html": [
       "<div><svg style=\"position: absolute; width: 0; height: 0; overflow: hidden\">\n",
       "<defs>\n",
       "<symbol id=\"icon-database\" viewBox=\"0 0 32 32\">\n",
       "<path d=\"M16 0c-8.837 0-16 2.239-16 5v4c0 2.761 7.163 5 16 5s16-2.239 16-5v-4c0-2.761-7.163-5-16-5z\"></path>\n",
       "<path d=\"M16 17c-8.837 0-16-2.239-16-5v6c0 2.761 7.163 5 16 5s16-2.239 16-5v-6c0 2.761-7.163 5-16 5z\"></path>\n",
       "<path d=\"M16 26c-8.837 0-16-2.239-16-5v6c0 2.761 7.163 5 16 5s16-2.239 16-5v-6c0 2.761-7.163 5-16 5z\"></path>\n",
       "</symbol>\n",
       "<symbol id=\"icon-file-text2\" viewBox=\"0 0 32 32\">\n",
       "<path d=\"M28.681 7.159c-0.694-0.947-1.662-2.053-2.724-3.116s-2.169-2.030-3.116-2.724c-1.612-1.182-2.393-1.319-2.841-1.319h-15.5c-1.378 0-2.5 1.121-2.5 2.5v27c0 1.378 1.122 2.5 2.5 2.5h23c1.378 0 2.5-1.122 2.5-2.5v-19.5c0-0.448-0.137-1.23-1.319-2.841zM24.543 5.457c0.959 0.959 1.712 1.825 2.268 2.543h-4.811v-4.811c0.718 0.556 1.584 1.309 2.543 2.268zM28 29.5c0 0.271-0.229 0.5-0.5 0.5h-23c-0.271 0-0.5-0.229-0.5-0.5v-27c0-0.271 0.229-0.5 0.5-0.5 0 0 15.499-0 15.5 0v7c0 0.552 0.448 1 1 1h7v19.5z\"></path>\n",
       "<path d=\"M23 26h-14c-0.552 0-1-0.448-1-1s0.448-1 1-1h14c0.552 0 1 0.448 1 1s-0.448 1-1 1z\"></path>\n",
       "<path d=\"M23 22h-14c-0.552 0-1-0.448-1-1s0.448-1 1-1h14c0.552 0 1 0.448 1 1s-0.448 1-1 1z\"></path>\n",
       "<path d=\"M23 18h-14c-0.552 0-1-0.448-1-1s0.448-1 1-1h14c0.552 0 1 0.448 1 1s-0.448 1-1 1z\"></path>\n",
       "</symbol>\n",
       "</defs>\n",
       "</svg>\n",
       "<style>/* CSS stylesheet for displaying xarray objects in jupyterlab.\n",
       " *\n",
       " */\n",
       "\n",
       ":root {\n",
       "  --xr-font-color0: var(--jp-content-font-color0, rgba(0, 0, 0, 1));\n",
       "  --xr-font-color2: var(--jp-content-font-color2, rgba(0, 0, 0, 0.54));\n",
       "  --xr-font-color3: var(--jp-content-font-color3, rgba(0, 0, 0, 0.38));\n",
       "  --xr-border-color: var(--jp-border-color2, #e0e0e0);\n",
       "  --xr-disabled-color: var(--jp-layout-color3, #bdbdbd);\n",
       "  --xr-background-color: var(--jp-layout-color0, white);\n",
       "  --xr-background-color-row-even: var(--jp-layout-color1, white);\n",
       "  --xr-background-color-row-odd: var(--jp-layout-color2, #eeeeee);\n",
       "}\n",
       "\n",
       "html[theme=dark],\n",
       "body[data-theme=dark],\n",
       "body.vscode-dark {\n",
       "  --xr-font-color0: rgba(255, 255, 255, 1);\n",
       "  --xr-font-color2: rgba(255, 255, 255, 0.54);\n",
       "  --xr-font-color3: rgba(255, 255, 255, 0.38);\n",
       "  --xr-border-color: #1F1F1F;\n",
       "  --xr-disabled-color: #515151;\n",
       "  --xr-background-color: #111111;\n",
       "  --xr-background-color-row-even: #111111;\n",
       "  --xr-background-color-row-odd: #313131;\n",
       "}\n",
       "\n",
       ".xr-wrap {\n",
       "  display: block !important;\n",
       "  min-width: 300px;\n",
       "  max-width: 700px;\n",
       "}\n",
       "\n",
       ".xr-text-repr-fallback {\n",
       "  /* fallback to plain text repr when CSS is not injected (untrusted notebook) */\n",
       "  display: none;\n",
       "}\n",
       "\n",
       ".xr-header {\n",
       "  padding-top: 6px;\n",
       "  padding-bottom: 6px;\n",
       "  margin-bottom: 4px;\n",
       "  border-bottom: solid 1px var(--xr-border-color);\n",
       "}\n",
       "\n",
       ".xr-header > div,\n",
       ".xr-header > ul {\n",
       "  display: inline;\n",
       "  margin-top: 0;\n",
       "  margin-bottom: 0;\n",
       "}\n",
       "\n",
       ".xr-obj-type,\n",
       ".xr-array-name {\n",
       "  margin-left: 2px;\n",
       "  margin-right: 10px;\n",
       "}\n",
       "\n",
       ".xr-obj-type {\n",
       "  color: var(--xr-font-color2);\n",
       "}\n",
       "\n",
       ".xr-sections {\n",
       "  padding-left: 0 !important;\n",
       "  display: grid;\n",
       "  grid-template-columns: 150px auto auto 1fr 20px 20px;\n",
       "}\n",
       "\n",
       ".xr-section-item {\n",
       "  display: contents;\n",
       "}\n",
       "\n",
       ".xr-section-item input {\n",
       "  display: none;\n",
       "}\n",
       "\n",
       ".xr-section-item input + label {\n",
       "  color: var(--xr-disabled-color);\n",
       "}\n",
       "\n",
       ".xr-section-item input:enabled + label {\n",
       "  cursor: pointer;\n",
       "  color: var(--xr-font-color2);\n",
       "}\n",
       "\n",
       ".xr-section-item input:enabled + label:hover {\n",
       "  color: var(--xr-font-color0);\n",
       "}\n",
       "\n",
       ".xr-section-summary {\n",
       "  grid-column: 1;\n",
       "  color: var(--xr-font-color2);\n",
       "  font-weight: 500;\n",
       "}\n",
       "\n",
       ".xr-section-summary > span {\n",
       "  display: inline-block;\n",
       "  padding-left: 0.5em;\n",
       "}\n",
       "\n",
       ".xr-section-summary-in:disabled + label {\n",
       "  color: var(--xr-font-color2);\n",
       "}\n",
       "\n",
       ".xr-section-summary-in + label:before {\n",
       "  display: inline-block;\n",
       "  content: '►';\n",
       "  font-size: 11px;\n",
       "  width: 15px;\n",
       "  text-align: center;\n",
       "}\n",
       "\n",
       ".xr-section-summary-in:disabled + label:before {\n",
       "  color: var(--xr-disabled-color);\n",
       "}\n",
       "\n",
       ".xr-section-summary-in:checked + label:before {\n",
       "  content: '▼';\n",
       "}\n",
       "\n",
       ".xr-section-summary-in:checked + label > span {\n",
       "  display: none;\n",
       "}\n",
       "\n",
       ".xr-section-summary,\n",
       ".xr-section-inline-details {\n",
       "  padding-top: 4px;\n",
       "  padding-bottom: 4px;\n",
       "}\n",
       "\n",
       ".xr-section-inline-details {\n",
       "  grid-column: 2 / -1;\n",
       "}\n",
       "\n",
       ".xr-section-details {\n",
       "  display: none;\n",
       "  grid-column: 1 / -1;\n",
       "  margin-bottom: 5px;\n",
       "}\n",
       "\n",
       ".xr-section-summary-in:checked ~ .xr-section-details {\n",
       "  display: contents;\n",
       "}\n",
       "\n",
       ".xr-array-wrap {\n",
       "  grid-column: 1 / -1;\n",
       "  display: grid;\n",
       "  grid-template-columns: 20px auto;\n",
       "}\n",
       "\n",
       ".xr-array-wrap > label {\n",
       "  grid-column: 1;\n",
       "  vertical-align: top;\n",
       "}\n",
       "\n",
       ".xr-preview {\n",
       "  color: var(--xr-font-color3);\n",
       "}\n",
       "\n",
       ".xr-array-preview,\n",
       ".xr-array-data {\n",
       "  padding: 0 5px !important;\n",
       "  grid-column: 2;\n",
       "}\n",
       "\n",
       ".xr-array-data,\n",
       ".xr-array-in:checked ~ .xr-array-preview {\n",
       "  display: none;\n",
       "}\n",
       "\n",
       ".xr-array-in:checked ~ .xr-array-data,\n",
       ".xr-array-preview {\n",
       "  display: inline-block;\n",
       "}\n",
       "\n",
       ".xr-dim-list {\n",
       "  display: inline-block !important;\n",
       "  list-style: none;\n",
       "  padding: 0 !important;\n",
       "  margin: 0;\n",
       "}\n",
       "\n",
       ".xr-dim-list li {\n",
       "  display: inline-block;\n",
       "  padding: 0;\n",
       "  margin: 0;\n",
       "}\n",
       "\n",
       ".xr-dim-list:before {\n",
       "  content: '(';\n",
       "}\n",
       "\n",
       ".xr-dim-list:after {\n",
       "  content: ')';\n",
       "}\n",
       "\n",
       ".xr-dim-list li:not(:last-child):after {\n",
       "  content: ',';\n",
       "  padding-right: 5px;\n",
       "}\n",
       "\n",
       ".xr-has-index {\n",
       "  font-weight: bold;\n",
       "}\n",
       "\n",
       ".xr-var-list,\n",
       ".xr-var-item {\n",
       "  display: contents;\n",
       "}\n",
       "\n",
       ".xr-var-item > div,\n",
       ".xr-var-item label,\n",
       ".xr-var-item > .xr-var-name span {\n",
       "  background-color: var(--xr-background-color-row-even);\n",
       "  margin-bottom: 0;\n",
       "}\n",
       "\n",
       ".xr-var-item > .xr-var-name:hover span {\n",
       "  padding-right: 5px;\n",
       "}\n",
       "\n",
       ".xr-var-list > li:nth-child(odd) > div,\n",
       ".xr-var-list > li:nth-child(odd) > label,\n",
       ".xr-var-list > li:nth-child(odd) > .xr-var-name span {\n",
       "  background-color: var(--xr-background-color-row-odd);\n",
       "}\n",
       "\n",
       ".xr-var-name {\n",
       "  grid-column: 1;\n",
       "}\n",
       "\n",
       ".xr-var-dims {\n",
       "  grid-column: 2;\n",
       "}\n",
       "\n",
       ".xr-var-dtype {\n",
       "  grid-column: 3;\n",
       "  text-align: right;\n",
       "  color: var(--xr-font-color2);\n",
       "}\n",
       "\n",
       ".xr-var-preview {\n",
       "  grid-column: 4;\n",
       "}\n",
       "\n",
       ".xr-index-preview {\n",
       "  grid-column: 2 / 5;\n",
       "  color: var(--xr-font-color2);\n",
       "}\n",
       "\n",
       ".xr-var-name,\n",
       ".xr-var-dims,\n",
       ".xr-var-dtype,\n",
       ".xr-preview,\n",
       ".xr-attrs dt {\n",
       "  white-space: nowrap;\n",
       "  overflow: hidden;\n",
       "  text-overflow: ellipsis;\n",
       "  padding-right: 10px;\n",
       "}\n",
       "\n",
       ".xr-var-name:hover,\n",
       ".xr-var-dims:hover,\n",
       ".xr-var-dtype:hover,\n",
       ".xr-attrs dt:hover {\n",
       "  overflow: visible;\n",
       "  width: auto;\n",
       "  z-index: 1;\n",
       "}\n",
       "\n",
       ".xr-var-attrs,\n",
       ".xr-var-data,\n",
       ".xr-index-data {\n",
       "  display: none;\n",
       "  background-color: var(--xr-background-color) !important;\n",
       "  padding-bottom: 5px !important;\n",
       "}\n",
       "\n",
       ".xr-var-attrs-in:checked ~ .xr-var-attrs,\n",
       ".xr-var-data-in:checked ~ .xr-var-data,\n",
       ".xr-index-data-in:checked ~ .xr-index-data {\n",
       "  display: block;\n",
       "}\n",
       "\n",
       ".xr-var-data > table {\n",
       "  float: right;\n",
       "}\n",
       "\n",
       ".xr-var-name span,\n",
       ".xr-var-data,\n",
       ".xr-index-name div,\n",
       ".xr-index-data,\n",
       ".xr-attrs {\n",
       "  padding-left: 25px !important;\n",
       "}\n",
       "\n",
       ".xr-attrs,\n",
       ".xr-var-attrs,\n",
       ".xr-var-data,\n",
       ".xr-index-data {\n",
       "  grid-column: 1 / -1;\n",
       "}\n",
       "\n",
       "dl.xr-attrs {\n",
       "  padding: 0;\n",
       "  margin: 0;\n",
       "  display: grid;\n",
       "  grid-template-columns: 125px auto;\n",
       "}\n",
       "\n",
       ".xr-attrs dt,\n",
       ".xr-attrs dd {\n",
       "  padding: 0;\n",
       "  margin: 0;\n",
       "  float: left;\n",
       "  padding-right: 10px;\n",
       "  width: auto;\n",
       "}\n",
       "\n",
       ".xr-attrs dt {\n",
       "  font-weight: normal;\n",
       "  grid-column: 1;\n",
       "}\n",
       "\n",
       ".xr-attrs dt:hover span {\n",
       "  display: inline-block;\n",
       "  background: var(--xr-background-color);\n",
       "  padding-right: 10px;\n",
       "}\n",
       "\n",
       ".xr-attrs dd {\n",
       "  grid-column: 2;\n",
       "  white-space: pre-wrap;\n",
       "  word-break: break-all;\n",
       "}\n",
       "\n",
       ".xr-icon-database,\n",
       ".xr-icon-file-text2,\n",
       ".xr-no-icon {\n",
       "  display: inline-block;\n",
       "  vertical-align: middle;\n",
       "  width: 1em;\n",
       "  height: 1.5em !important;\n",
       "  stroke-width: 0;\n",
       "  stroke: currentColor;\n",
       "  fill: currentColor;\n",
       "}\n",
       "</style><pre class='xr-text-repr-fallback'>&lt;xarray.Dataset&gt; Size: 28MB\n",
       "Dimensions:    (y: 568, x: 885)\n",
       "Coordinates:\n",
       "  * x          (x) float64 7kB 6.716e+05 6.716e+05 ... 6.805e+05 6.805e+05\n",
       "  * y          (y) float64 5kB 9.369e+06 9.369e+06 ... 9.363e+06 9.363e+06\n",
       "Data variables:\n",
       "    2016_2017  (y, x) float64 4MB nan nan nan nan nan ... nan nan nan nan nan\n",
       "    2017_2018  (y, x) float64 4MB nan nan nan nan nan ... nan nan nan nan nan\n",
       "    2018_2019  (y, x) float64 4MB nan nan nan nan nan ... nan nan nan nan nan\n",
       "    2019_2020  (y, x) float64 4MB nan nan nan nan nan ... nan nan nan nan nan\n",
       "    2020_2021  (y, x) float64 4MB nan nan nan nan nan ... nan nan nan nan nan\n",
       "    2021_2022  (y, x) float64 4MB nan nan nan nan nan ... nan nan nan nan nan\n",
       "    2022_2023  (y, x) float64 4MB nan nan nan nan nan ... nan nan nan nan nan</pre><div class='xr-wrap' style='display:none'><div class='xr-header'><div class='xr-obj-type'>xarray.Dataset</div></div><ul class='xr-sections'><li class='xr-section-item'><input id='section-8afe3bfc-3eb3-434c-bfa0-29278ff66e82' class='xr-section-summary-in' type='checkbox' disabled ><label for='section-8afe3bfc-3eb3-434c-bfa0-29278ff66e82' class='xr-section-summary'  title='Expand/collapse section'>Dimensions:</label><div class='xr-section-inline-details'><ul class='xr-dim-list'><li><span class='xr-has-index'>y</span>: 568</li><li><span class='xr-has-index'>x</span>: 885</li></ul></div><div class='xr-section-details'></div></li><li class='xr-section-item'><input id='section-38736851-c54c-4937-a65c-566ecff10216' class='xr-section-summary-in' type='checkbox'  checked><label for='section-38736851-c54c-4937-a65c-566ecff10216' class='xr-section-summary' >Coordinates: <span>(2)</span></label><div class='xr-section-inline-details'></div><div class='xr-section-details'><ul class='xr-var-list'><li class='xr-var-item'><div class='xr-var-name'><span class='xr-has-index'>x</span></div><div class='xr-var-dims'>(x)</div><div class='xr-var-dtype'>float64</div><div class='xr-var-preview xr-preview'>6.716e+05 6.716e+05 ... 6.805e+05</div><input id='attrs-92113f65-cdf7-4515-91fd-67a8a6bf457c' class='xr-var-attrs-in' type='checkbox' disabled><label for='attrs-92113f65-cdf7-4515-91fd-67a8a6bf457c' title='Show/Hide attributes'><svg class='icon xr-icon-file-text2'><use xlink:href='#icon-file-text2'></use></svg></label><input id='data-4fbfed28-d096-4aee-a15a-4f799b76fe07' class='xr-var-data-in' type='checkbox'><label for='data-4fbfed28-d096-4aee-a15a-4f799b76fe07' title='Show/Hide data repr'><svg class='icon xr-icon-database'><use xlink:href='#icon-database'></use></svg></label><div class='xr-var-attrs'><dl class='xr-attrs'></dl></div><div class='xr-var-data'><pre>array([671635., 671645., 671655., ..., 680455., 680465., 680475.])</pre></div></li><li class='xr-var-item'><div class='xr-var-name'><span class='xr-has-index'>y</span></div><div class='xr-var-dims'>(y)</div><div class='xr-var-dtype'>float64</div><div class='xr-var-preview xr-preview'>9.369e+06 9.369e+06 ... 9.363e+06</div><input id='attrs-698c2ae9-456a-4761-aacd-3ea0745b769c' class='xr-var-attrs-in' type='checkbox' disabled><label for='attrs-698c2ae9-456a-4761-aacd-3ea0745b769c' title='Show/Hide attributes'><svg class='icon xr-icon-file-text2'><use xlink:href='#icon-file-text2'></use></svg></label><input id='data-f6719ddb-1288-4b4f-adff-ebd5e3681d2e' class='xr-var-data-in' type='checkbox'><label for='data-f6719ddb-1288-4b4f-adff-ebd5e3681d2e' title='Show/Hide data repr'><svg class='icon xr-icon-database'><use xlink:href='#icon-database'></use></svg></label><div class='xr-var-attrs'><dl class='xr-attrs'></dl></div><div class='xr-var-data'><pre>array([9368895., 9368885., 9368875., ..., 9363245., 9363235., 9363225.])</pre></div></li></ul></div></li><li class='xr-section-item'><input id='section-70c0c93c-543c-428d-8391-aad5f09b256c' class='xr-section-summary-in' type='checkbox'  checked><label for='section-70c0c93c-543c-428d-8391-aad5f09b256c' class='xr-section-summary' >Data variables: <span>(7)</span></label><div class='xr-section-inline-details'></div><div class='xr-section-details'><ul class='xr-var-list'><li class='xr-var-item'><div class='xr-var-name'><span>2016_2017</span></div><div class='xr-var-dims'>(y, x)</div><div class='xr-var-dtype'>float64</div><div class='xr-var-preview xr-preview'>nan nan nan nan ... nan nan nan nan</div><input id='attrs-d85cba03-3087-4d21-9f46-558b6422bd7c' class='xr-var-attrs-in' type='checkbox' disabled><label for='attrs-d85cba03-3087-4d21-9f46-558b6422bd7c' title='Show/Hide attributes'><svg class='icon xr-icon-file-text2'><use xlink:href='#icon-file-text2'></use></svg></label><input id='data-a7d4914c-baa4-4b34-91f5-f7bfc1718c3b' class='xr-var-data-in' type='checkbox'><label for='data-a7d4914c-baa4-4b34-91f5-f7bfc1718c3b' title='Show/Hide data repr'><svg class='icon xr-icon-database'><use xlink:href='#icon-database'></use></svg></label><div class='xr-var-attrs'><dl class='xr-attrs'></dl></div><div class='xr-var-data'><pre>array([[nan, nan, nan, ..., nan, nan, nan],\n",
       "       [nan, nan, nan, ..., nan, nan, nan],\n",
       "       [nan, nan, nan, ..., nan, nan, nan],\n",
       "       ...,\n",
       "       [nan, nan, nan, ..., nan, nan, nan],\n",
       "       [nan, nan, nan, ..., nan, nan, nan],\n",
       "       [nan, nan, nan, ..., nan, nan, nan]])</pre></div></li><li class='xr-var-item'><div class='xr-var-name'><span>2017_2018</span></div><div class='xr-var-dims'>(y, x)</div><div class='xr-var-dtype'>float64</div><div class='xr-var-preview xr-preview'>nan nan nan nan ... nan nan nan nan</div><input id='attrs-bb0beb72-3000-43c3-820c-dd98a2788787' class='xr-var-attrs-in' type='checkbox' disabled><label for='attrs-bb0beb72-3000-43c3-820c-dd98a2788787' title='Show/Hide attributes'><svg class='icon xr-icon-file-text2'><use xlink:href='#icon-file-text2'></use></svg></label><input id='data-142a7ba0-4333-4254-aecb-e07df254c390' class='xr-var-data-in' type='checkbox'><label for='data-142a7ba0-4333-4254-aecb-e07df254c390' title='Show/Hide data repr'><svg class='icon xr-icon-database'><use xlink:href='#icon-database'></use></svg></label><div class='xr-var-attrs'><dl class='xr-attrs'></dl></div><div class='xr-var-data'><pre>array([[nan, nan, nan, ..., nan, nan, nan],\n",
       "       [nan, nan, nan, ..., nan, nan, nan],\n",
       "       [nan, nan, nan, ..., nan, nan, nan],\n",
       "       ...,\n",
       "       [nan, nan, nan, ..., nan, nan, nan],\n",
       "       [nan, nan, nan, ..., nan, nan, nan],\n",
       "       [nan, nan, nan, ..., nan, nan, nan]])</pre></div></li><li class='xr-var-item'><div class='xr-var-name'><span>2018_2019</span></div><div class='xr-var-dims'>(y, x)</div><div class='xr-var-dtype'>float64</div><div class='xr-var-preview xr-preview'>nan nan nan nan ... nan nan nan nan</div><input id='attrs-9df5b6bd-f24b-4fb8-aa64-115235d3a20c' class='xr-var-attrs-in' type='checkbox' disabled><label for='attrs-9df5b6bd-f24b-4fb8-aa64-115235d3a20c' title='Show/Hide attributes'><svg class='icon xr-icon-file-text2'><use xlink:href='#icon-file-text2'></use></svg></label><input id='data-c4dd2896-fd34-4001-9d7e-8f06614d4f5c' class='xr-var-data-in' type='checkbox'><label for='data-c4dd2896-fd34-4001-9d7e-8f06614d4f5c' title='Show/Hide data repr'><svg class='icon xr-icon-database'><use xlink:href='#icon-database'></use></svg></label><div class='xr-var-attrs'><dl class='xr-attrs'></dl></div><div class='xr-var-data'><pre>array([[nan, nan, nan, ..., nan, nan, nan],\n",
       "       [nan, nan, nan, ..., nan, nan, nan],\n",
       "       [nan, nan, nan, ..., nan, nan, nan],\n",
       "       ...,\n",
       "       [nan, nan, nan, ..., nan, nan, nan],\n",
       "       [nan, nan, nan, ..., nan, nan, nan],\n",
       "       [nan, nan, nan, ..., nan, nan, nan]])</pre></div></li><li class='xr-var-item'><div class='xr-var-name'><span>2019_2020</span></div><div class='xr-var-dims'>(y, x)</div><div class='xr-var-dtype'>float64</div><div class='xr-var-preview xr-preview'>nan nan nan nan ... nan nan nan nan</div><input id='attrs-6e2f8f60-30d8-4357-a2bf-5ccac226b580' class='xr-var-attrs-in' type='checkbox' disabled><label for='attrs-6e2f8f60-30d8-4357-a2bf-5ccac226b580' title='Show/Hide attributes'><svg class='icon xr-icon-file-text2'><use xlink:href='#icon-file-text2'></use></svg></label><input id='data-17dbf469-4c29-40ef-ad17-b01fc78229f6' class='xr-var-data-in' type='checkbox'><label for='data-17dbf469-4c29-40ef-ad17-b01fc78229f6' title='Show/Hide data repr'><svg class='icon xr-icon-database'><use xlink:href='#icon-database'></use></svg></label><div class='xr-var-attrs'><dl class='xr-attrs'></dl></div><div class='xr-var-data'><pre>array([[nan, nan, nan, ..., nan, nan, nan],\n",
       "       [nan, nan, nan, ..., nan, nan, nan],\n",
       "       [nan, nan, nan, ..., nan, nan, nan],\n",
       "       ...,\n",
       "       [nan, nan, nan, ..., nan, nan, nan],\n",
       "       [nan, nan, nan, ..., nan, nan, nan],\n",
       "       [nan, nan, nan, ..., nan, nan, nan]])</pre></div></li><li class='xr-var-item'><div class='xr-var-name'><span>2020_2021</span></div><div class='xr-var-dims'>(y, x)</div><div class='xr-var-dtype'>float64</div><div class='xr-var-preview xr-preview'>nan nan nan nan ... nan nan nan nan</div><input id='attrs-7dbab8cd-f2a3-40b4-927e-b3408a0c16bf' class='xr-var-attrs-in' type='checkbox' disabled><label for='attrs-7dbab8cd-f2a3-40b4-927e-b3408a0c16bf' title='Show/Hide attributes'><svg class='icon xr-icon-file-text2'><use xlink:href='#icon-file-text2'></use></svg></label><input id='data-203b86af-f3d3-4289-bb68-611579bb0cc8' class='xr-var-data-in' type='checkbox'><label for='data-203b86af-f3d3-4289-bb68-611579bb0cc8' title='Show/Hide data repr'><svg class='icon xr-icon-database'><use xlink:href='#icon-database'></use></svg></label><div class='xr-var-attrs'><dl class='xr-attrs'></dl></div><div class='xr-var-data'><pre>array([[nan, nan, nan, ..., nan, nan, nan],\n",
       "       [nan, nan, nan, ..., nan, nan, nan],\n",
       "       [nan, nan, nan, ..., nan, nan, nan],\n",
       "       ...,\n",
       "       [nan, nan, nan, ..., nan, nan, nan],\n",
       "       [nan, nan, nan, ..., nan, nan, nan],\n",
       "       [nan, nan, nan, ..., nan, nan, nan]])</pre></div></li><li class='xr-var-item'><div class='xr-var-name'><span>2021_2022</span></div><div class='xr-var-dims'>(y, x)</div><div class='xr-var-dtype'>float64</div><div class='xr-var-preview xr-preview'>nan nan nan nan ... nan nan nan nan</div><input id='attrs-e145fc75-a366-4d3b-a3a1-87a9869dce7c' class='xr-var-attrs-in' type='checkbox' disabled><label for='attrs-e145fc75-a366-4d3b-a3a1-87a9869dce7c' title='Show/Hide attributes'><svg class='icon xr-icon-file-text2'><use xlink:href='#icon-file-text2'></use></svg></label><input id='data-d3cb03d8-c812-4964-8794-ce18d2f97e6e' class='xr-var-data-in' type='checkbox'><label for='data-d3cb03d8-c812-4964-8794-ce18d2f97e6e' title='Show/Hide data repr'><svg class='icon xr-icon-database'><use xlink:href='#icon-database'></use></svg></label><div class='xr-var-attrs'><dl class='xr-attrs'></dl></div><div class='xr-var-data'><pre>array([[nan, nan, nan, ..., nan, nan, nan],\n",
       "       [nan, nan, nan, ..., nan, nan, nan],\n",
       "       [nan, nan, nan, ..., nan, nan, nan],\n",
       "       ...,\n",
       "       [nan, nan, nan, ..., nan, nan, nan],\n",
       "       [nan, nan, nan, ..., nan, nan, nan],\n",
       "       [nan, nan, nan, ..., nan, nan, nan]])</pre></div></li><li class='xr-var-item'><div class='xr-var-name'><span>2022_2023</span></div><div class='xr-var-dims'>(y, x)</div><div class='xr-var-dtype'>float64</div><div class='xr-var-preview xr-preview'>nan nan nan nan ... nan nan nan nan</div><input id='attrs-25054d79-ac15-4f5a-9491-c656a9ab823b' class='xr-var-attrs-in' type='checkbox' disabled><label for='attrs-25054d79-ac15-4f5a-9491-c656a9ab823b' title='Show/Hide attributes'><svg class='icon xr-icon-file-text2'><use xlink:href='#icon-file-text2'></use></svg></label><input id='data-0dd3bb7b-f469-49bd-8d9e-b4c7199ace7c' class='xr-var-data-in' type='checkbox'><label for='data-0dd3bb7b-f469-49bd-8d9e-b4c7199ace7c' title='Show/Hide data repr'><svg class='icon xr-icon-database'><use xlink:href='#icon-database'></use></svg></label><div class='xr-var-attrs'><dl class='xr-attrs'></dl></div><div class='xr-var-data'><pre>array([[nan, nan, nan, ..., nan, nan, nan],\n",
       "       [nan, nan, nan, ..., nan, nan, nan],\n",
       "       [nan, nan, nan, ..., nan, nan, nan],\n",
       "       ...,\n",
       "       [nan, nan, nan, ..., nan, nan, nan],\n",
       "       [nan, nan, nan, ..., nan, nan, nan],\n",
       "       [nan, nan, nan, ..., nan, nan, nan]])</pre></div></li></ul></div></li><li class='xr-section-item'><input id='section-4a0e9f76-4746-4743-b425-5ec1f782f2f9' class='xr-section-summary-in' type='checkbox'  ><label for='section-4a0e9f76-4746-4743-b425-5ec1f782f2f9' class='xr-section-summary' >Indexes: <span>(2)</span></label><div class='xr-section-inline-details'></div><div class='xr-section-details'><ul class='xr-var-list'><li class='xr-var-item'><div class='xr-index-name'><div>x</div></div><div class='xr-index-preview'>PandasIndex</div><div></div><input id='index-f5a98959-4870-43a8-841f-ee589247c412' class='xr-index-data-in' type='checkbox'/><label for='index-f5a98959-4870-43a8-841f-ee589247c412' title='Show/Hide index repr'><svg class='icon xr-icon-database'><use xlink:href='#icon-database'></use></svg></label><div class='xr-index-data'><pre>PandasIndex(Index([671635.0, 671645.0, 671655.0, 671665.0, 671675.0, 671685.0, 671695.0,\n",
       "       671705.0, 671715.0, 671725.0,\n",
       "       ...\n",
       "       680385.0, 680395.0, 680405.0, 680415.0, 680425.0, 680435.0, 680445.0,\n",
       "       680455.0, 680465.0, 680475.0],\n",
       "      dtype=&#x27;float64&#x27;, name=&#x27;x&#x27;, length=885))</pre></div></li><li class='xr-var-item'><div class='xr-index-name'><div>y</div></div><div class='xr-index-preview'>PandasIndex</div><div></div><input id='index-ec3f9901-13eb-443e-83a3-a436a8d5be3d' class='xr-index-data-in' type='checkbox'/><label for='index-ec3f9901-13eb-443e-83a3-a436a8d5be3d' title='Show/Hide index repr'><svg class='icon xr-icon-database'><use xlink:href='#icon-database'></use></svg></label><div class='xr-index-data'><pre>PandasIndex(Index([9368895.0, 9368885.0, 9368875.0, 9368865.0, 9368855.0, 9368845.0,\n",
       "       9368835.0, 9368825.0, 9368815.0, 9368805.0,\n",
       "       ...\n",
       "       9363315.0, 9363305.0, 9363295.0, 9363285.0, 9363275.0, 9363265.0,\n",
       "       9363255.0, 9363245.0, 9363235.0, 9363225.0],\n",
       "      dtype=&#x27;float64&#x27;, name=&#x27;y&#x27;, length=568))</pre></div></li></ul></div></li><li class='xr-section-item'><input id='section-bac124d6-af89-43a7-84b0-5800162af3bb' class='xr-section-summary-in' type='checkbox' disabled ><label for='section-bac124d6-af89-43a7-84b0-5800162af3bb' class='xr-section-summary'  title='Expand/collapse section'>Attributes: <span>(0)</span></label><div class='xr-section-inline-details'></div><div class='xr-section-details'><dl class='xr-attrs'></dl></div></li></ul></div></div>"
      ],
      "text/plain": [
       "<xarray.Dataset> Size: 28MB\n",
       "Dimensions:    (y: 568, x: 885)\n",
       "Coordinates:\n",
       "  * x          (x) float64 7kB 6.716e+05 6.716e+05 ... 6.805e+05 6.805e+05\n",
       "  * y          (y) float64 5kB 9.369e+06 9.369e+06 ... 9.363e+06 9.363e+06\n",
       "Data variables:\n",
       "    2016_2017  (y, x) float64 4MB nan nan nan nan nan ... nan nan nan nan nan\n",
       "    2017_2018  (y, x) float64 4MB nan nan nan nan nan ... nan nan nan nan nan\n",
       "    2018_2019  (y, x) float64 4MB nan nan nan nan nan ... nan nan nan nan nan\n",
       "    2019_2020  (y, x) float64 4MB nan nan nan nan nan ... nan nan nan nan nan\n",
       "    2020_2021  (y, x) float64 4MB nan nan nan nan nan ... nan nan nan nan nan\n",
       "    2021_2022  (y, x) float64 4MB nan nan nan nan nan ... nan nan nan nan nan\n",
       "    2022_2023  (y, x) float64 4MB nan nan nan nan nan ... nan nan nan nan nan"
      ]
     },
     "execution_count": 76,
     "metadata": {},
     "output_type": "execute_result"
    }
   ],
   "source": [
    "changes_ds"
   ]
  },
  {
   "cell_type": "code",
   "execution_count": 103,
   "metadata": {},
   "outputs": [
    {
     "data": {
      "text/html": [
       "<div>\n",
       "<style scoped>\n",
       "    .dataframe tbody tr th:only-of-type {\n",
       "        vertical-align: middle;\n",
       "    }\n",
       "\n",
       "    .dataframe tbody tr th {\n",
       "        vertical-align: top;\n",
       "    }\n",
       "\n",
       "    .dataframe thead th {\n",
       "        text-align: right;\n",
       "    }\n",
       "</style>\n",
       "<table border=\"1\" class=\"dataframe\">\n",
       "  <thead>\n",
       "    <tr style=\"text-align: right;\">\n",
       "      <th>Variable</th>\n",
       "      <th>Value</th>\n",
       "      <th>2016_2017</th>\n",
       "      <th>2017_2018</th>\n",
       "      <th>2018_2019</th>\n",
       "      <th>2019_2020</th>\n",
       "      <th>2020_2021</th>\n",
       "      <th>2021_2022</th>\n",
       "      <th>2022_2023</th>\n",
       "    </tr>\n",
       "  </thead>\n",
       "  <tbody>\n",
       "    <tr>\n",
       "      <th>0</th>\n",
       "      <td>NaN</td>\n",
       "      <td>428339</td>\n",
       "      <td>427681</td>\n",
       "      <td>424874</td>\n",
       "      <td>424130</td>\n",
       "      <td>428653</td>\n",
       "      <td>427800</td>\n",
       "      <td>424290</td>\n",
       "    </tr>\n",
       "    <tr>\n",
       "      <th>1</th>\n",
       "      <td>0.0</td>\n",
       "      <td>48390</td>\n",
       "      <td>53496</td>\n",
       "      <td>55429</td>\n",
       "      <td>57118</td>\n",
       "      <td>53334</td>\n",
       "      <td>52875</td>\n",
       "      <td>57138</td>\n",
       "    </tr>\n",
       "    <tr>\n",
       "      <th>2</th>\n",
       "      <td>1.0</td>\n",
       "      <td>2242</td>\n",
       "      <td>788</td>\n",
       "      <td>517</td>\n",
       "      <td>686</td>\n",
       "      <td>457</td>\n",
       "      <td>271</td>\n",
       "      <td>1678</td>\n",
       "    </tr>\n",
       "    <tr>\n",
       "      <th>3</th>\n",
       "      <td>2.0</td>\n",
       "      <td>11404</td>\n",
       "      <td>9434</td>\n",
       "      <td>11297</td>\n",
       "      <td>12007</td>\n",
       "      <td>11829</td>\n",
       "      <td>12665</td>\n",
       "      <td>11528</td>\n",
       "    </tr>\n",
       "    <tr>\n",
       "      <th>4</th>\n",
       "      <td>3.0</td>\n",
       "      <td>7175</td>\n",
       "      <td>7166</td>\n",
       "      <td>3676</td>\n",
       "      <td>6006</td>\n",
       "      <td>3107</td>\n",
       "      <td>5632</td>\n",
       "      <td>4088</td>\n",
       "    </tr>\n",
       "    <tr>\n",
       "      <th>5</th>\n",
       "      <td>4.0</td>\n",
       "      <td>5130</td>\n",
       "      <td>4115</td>\n",
       "      <td>6887</td>\n",
       "      <td>2733</td>\n",
       "      <td>5300</td>\n",
       "      <td>3437</td>\n",
       "      <td>3958</td>\n",
       "    </tr>\n",
       "  </tbody>\n",
       "</table>\n",
       "</div>"
      ],
      "text/plain": [
       "Variable  Value  2016_2017  2017_2018  2018_2019  2019_2020  2020_2021  \\\n",
       "0           NaN     428339     427681     424874     424130     428653   \n",
       "1           0.0      48390      53496      55429      57118      53334   \n",
       "2           1.0       2242        788        517        686        457   \n",
       "3           2.0      11404       9434      11297      12007      11829   \n",
       "4           3.0       7175       7166       3676       6006       3107   \n",
       "5           4.0       5130       4115       6887       2733       5300   \n",
       "\n",
       "Variable  2021_2022  2022_2023  \n",
       "0            427800     424290  \n",
       "1             52875      57138  \n",
       "2               271       1678  \n",
       "3             12665      11528  \n",
       "4              5632       4088  \n",
       "5              3437       3958  "
      ]
     },
     "execution_count": 103,
     "metadata": {},
     "output_type": "execute_result"
    }
   ],
   "source": [
    "# Initialize a list to store distributions\n",
    "distribution_list = []\n",
    "\n",
    "# Get the names of coordinate variables\n",
    "coord_vars = changes_ds.coords.keys()\n",
    "\n",
    "# Loop through each variable in the changes_ds dataset\n",
    "for var_name in changes_ds.variables:\n",
    "    # Skip coordinate variables\n",
    "    if var_name in coord_vars:\n",
    "        continue\n",
    "    \n",
    "    # Get the unique values and their counts\n",
    "    unique_values, counts = np.unique(changes_ds[var_name].values, return_counts=True)\n",
    "    \n",
    "    # Append to the distribution list as a DataFrame\n",
    "    for value, count in zip(unique_values, counts):\n",
    "        distribution_list.append({'Variable': var_name, 'Value': value, 'Count': count})\n",
    "\n",
    "# Create a DataFrame from the distribution list\n",
    "distribution_df = pd.DataFrame(distribution_list)\n",
    "\n",
    "pivot_df = distribution_df.pivot(index='Value', columns='Variable', values='Count')\n",
    "\n",
    "\n",
    "\n",
    "# # Rename the columns for better clarity (optional)\n",
    "# pivot_df.columns.name = None  # Remove the name of the columns\n",
    "# pivot_df.columns = ['Value'] + list(pivot_df.columns[1:])  # Keeping the first column as 'Value'\n",
    "\n",
    "# Display the transformed DataFrame\n",
    "pivot_df.reset_index()"
   ]
  },
  {
   "cell_type": "code",
   "execution_count": 108,
   "metadata": {},
   "outputs": [
    {
     "data": {
      "text/html": [
       "<div>\n",
       "<style scoped>\n",
       "    .dataframe tbody tr th:only-of-type {\n",
       "        vertical-align: middle;\n",
       "    }\n",
       "\n",
       "    .dataframe tbody tr th {\n",
       "        vertical-align: top;\n",
       "    }\n",
       "\n",
       "    .dataframe thead th {\n",
       "        text-align: right;\n",
       "    }\n",
       "</style>\n",
       "<table border=\"1\" class=\"dataframe\">\n",
       "  <thead>\n",
       "    <tr style=\"text-align: right;\">\n",
       "      <th>index</th>\n",
       "      <th>Category</th>\n",
       "      <th>2016_2017</th>\n",
       "      <th>2017_2018</th>\n",
       "      <th>2018_2019</th>\n",
       "      <th>2019_2020</th>\n",
       "      <th>2020_2021</th>\n",
       "      <th>2021_2022</th>\n",
       "      <th>2022_2023</th>\n",
       "    </tr>\n",
       "  </thead>\n",
       "  <tbody>\n",
       "    <tr>\n",
       "      <th>0</th>\n",
       "      <td>Consistent Absence</td>\n",
       "      <td>483.90</td>\n",
       "      <td>534.96</td>\n",
       "      <td>554.29</td>\n",
       "      <td>571.18</td>\n",
       "      <td>533.34</td>\n",
       "      <td>528.75</td>\n",
       "      <td>571.38</td>\n",
       "    </tr>\n",
       "    <tr>\n",
       "      <th>1</th>\n",
       "      <td>Consistent Seagrass</td>\n",
       "      <td>114.04</td>\n",
       "      <td>94.34</td>\n",
       "      <td>112.97</td>\n",
       "      <td>120.07</td>\n",
       "      <td>118.29</td>\n",
       "      <td>126.65</td>\n",
       "      <td>115.28</td>\n",
       "    </tr>\n",
       "    <tr>\n",
       "      <th>2</th>\n",
       "      <td>Density Gain</td>\n",
       "      <td>22.42</td>\n",
       "      <td>7.88</td>\n",
       "      <td>5.17</td>\n",
       "      <td>6.86</td>\n",
       "      <td>4.57</td>\n",
       "      <td>2.71</td>\n",
       "      <td>16.78</td>\n",
       "    </tr>\n",
       "    <tr>\n",
       "      <th>3</th>\n",
       "      <td>Gain</td>\n",
       "      <td>51.30</td>\n",
       "      <td>41.15</td>\n",
       "      <td>68.87</td>\n",
       "      <td>27.33</td>\n",
       "      <td>53.00</td>\n",
       "      <td>34.37</td>\n",
       "      <td>39.58</td>\n",
       "    </tr>\n",
       "    <tr>\n",
       "      <th>4</th>\n",
       "      <td>Loss</td>\n",
       "      <td>71.75</td>\n",
       "      <td>71.66</td>\n",
       "      <td>36.76</td>\n",
       "      <td>60.06</td>\n",
       "      <td>31.07</td>\n",
       "      <td>56.32</td>\n",
       "      <td>40.88</td>\n",
       "    </tr>\n",
       "    <tr>\n",
       "      <th>5</th>\n",
       "      <td>Net Change</td>\n",
       "      <td>-20.45</td>\n",
       "      <td>-30.51</td>\n",
       "      <td>32.11</td>\n",
       "      <td>-32.73</td>\n",
       "      <td>21.93</td>\n",
       "      <td>-21.95</td>\n",
       "      <td>-1.30</td>\n",
       "    </tr>\n",
       "  </tbody>\n",
       "</table>\n",
       "</div>"
      ],
      "text/plain": [
       "index             Category  2016_2017  2017_2018  2018_2019  2019_2020  \\\n",
       "0       Consistent Absence     483.90     534.96     554.29     571.18   \n",
       "1      Consistent Seagrass     114.04      94.34     112.97     120.07   \n",
       "2             Density Gain      22.42       7.88       5.17       6.86   \n",
       "3                     Gain      51.30      41.15      68.87      27.33   \n",
       "4                     Loss      71.75      71.66      36.76      60.06   \n",
       "5               Net Change     -20.45     -30.51      32.11     -32.73   \n",
       "\n",
       "index  2020_2021  2021_2022  2022_2023  \n",
       "0         533.34     528.75     571.38  \n",
       "1         118.29     126.65     115.28  \n",
       "2           4.57       2.71      16.78  \n",
       "3          53.00      34.37      39.58  \n",
       "4          31.07      56.32      40.88  \n",
       "5          21.93     -21.95      -1.30  "
      ]
     },
     "execution_count": 108,
     "metadata": {},
     "output_type": "execute_result"
    }
   ],
   "source": [
    "# Define pixel resolution in meters (assuming you have a known resolution)\n",
    "pixel_width = abs(changes_ds.x.values[1] - changes_ds.x.values[0])  # x dimension resolution\n",
    "pixel_height = abs(changes_ds.y.values[1] - changes_ds.y.values[0])  # y dimension resolution\n",
    "pixel_area = pixel_width * pixel_height  # area in square meters\n",
    "\n",
    "# Initialize a dictionary to hold areas in hectares for each variable\n",
    "areas_ha = {}\n",
    "\n",
    "# Loop through each variable and calculate areas\n",
    "for var in changes_ds.data_vars:\n",
    "    # Count occurrences of each unique value (NaN, 0, 1, 2, 3, 4)\n",
    "    counts = changes_ds[var].values\n",
    "    unique, counts = np.unique(counts[~np.isnan(counts)], return_counts=True)  # Exclude NaNs\n",
    "\n",
    "    # Create a dictionary to store areas\n",
    "    areas = {}\n",
    "    for value, count in zip(unique, counts):\n",
    "        areas[value] = count * pixel_area / 10000  # Convert to hectares\n",
    "\n",
    "    # Store the areas dictionary in areas_ha\n",
    "    areas_ha[var] = areas\n",
    "    \n",
    "# Create a DataFrame from the areas_ha dictionary\n",
    "area_df = pd.DataFrame.from_dict(areas_ha, orient='index') #.fillna(0)  # Fill NaNs with 0 for better visualization\n",
    "\n",
    "# Map the columns using the column_names dictionary\n",
    "area_df = area_df.rename(columns={0: 'Consistent Absence',\n",
    "                                   1: 'Density Gain',\n",
    "                                   2: 'Consistent Seagrass',\n",
    "                                   3: 'Loss',\n",
    "                                   4: 'Gain'}).reset_index()\n",
    "\n",
    "# Melt the DataFrame to have 'index' and 'Category' as columns\n",
    "melted_df = area_df.melt(id_vars='index', var_name='Category', value_name='Area')\n",
    "\n",
    "# Pivot the melted DataFrame to have years as columns\n",
    "pivoted_df = melted_df.pivot(index='Category', columns='index', values='Area')\n",
    "\n",
    "# Add Net Change calculation\n",
    "pivoted_df.loc['Net Change'] = pivoted_df.loc['Gain'] - pivoted_df.loc['Loss']\n",
    "\n",
    "# Display the pivoted DataFrame\n",
    "pivoted_df = pivoted_df.reset_index()\n",
    "pivoted_df"
   ]
  },
  {
   "cell_type": "markdown",
   "metadata": {},
   "source": [
    "# Plot All Data Vars"
   ]
  },
  {
   "cell_type": "code",
   "execution_count": 31,
   "metadata": {},
   "outputs": [],
   "source": [
    "gdf = gpd.read_file(shapefile_study_area)\n",
    "\n",
    "ds = masked_region(\n",
    "    data, gdf\n",
    ")"
   ]
  },
  {
   "cell_type": "code",
   "execution_count": 32,
   "metadata": {},
   "outputs": [],
   "source": [
    "def plot_all_variables(dataset, output_dir):\n",
    "    \n",
    "    for i in range(len(dataset.time)):\n",
    "        time_step = dataset.time[i].values\n",
    "        \n",
    "        time_str = pd.to_datetime(time_step).strftime(\"%Y%m%d\")\n",
    "\n",
    "        for var in dataset.data_vars:\n",
    "            data = dataset[var].sel(time=time_step)\n",
    "            \n",
    "            fig, ax = plt.subplots(subplot_kw={'projection': ccrs.UTM(zone=50, southern_hemisphere=True)})\n",
    "            ax.set_aspect('equal', adjustable='datalim')\n",
    "\n",
    "            data.plot(ax=ax, robust=True)\n",
    "            \n",
    "            ax.set_title(f'{var.upper()} at {time_str}')\n",
    "\n",
    "            filename = f'{output_dir}/{var.upper()}_{time_str}.png'\n",
    "            plt.savefig(filename, dpi=300, bbox_inches='tight')\n",
    "            \n",
    "            plt.close(fig)"
   ]
  },
  {
   "cell_type": "code",
   "execution_count": 33,
   "metadata": {},
   "outputs": [],
   "source": [
    "vars_img_path = os.path.join(img_path, 'vars_img')\n",
    "plot_all_variables(ds, vars_img_path)"
   ]
  },
  {
   "cell_type": "markdown",
   "metadata": {},
   "source": [
    "# Feature Importance"
   ]
  },
  {
   "cell_type": "code",
   "execution_count": 351,
   "metadata": {},
   "outputs": [],
   "source": [
    "feature_importance_file_path = os.path.join(out_dir, 'csv','feature_important.csv')\n",
    "data = pd.read_csv(feature_importance_file_path)"
   ]
  },
  {
   "cell_type": "code",
   "execution_count": 352,
   "metadata": {},
   "outputs": [],
   "source": [
    "pivot_data = data.pivot(index='Years', columns='Features', values='Importance')"
   ]
  },
  {
   "cell_type": "code",
   "execution_count": null,
   "metadata": {},
   "outputs": [
    {
     "data": {
      "text/plain": [
       "Years\n",
       "2016         [red_edge_sg, awei, green_sg, red_sg, green]\n",
       "2017    [red_edge_sg, red_edge, red, ngrdi_red, green_sg]\n",
       "2018           [red, swir1, red_edge, green, red_edge_sg]\n",
       "2019         [red_edge, red_edge_sg, red, blue_sg, swir1]\n",
       "2020         [red, red_edge, red_edge_sg, nir, ngrdi_red]\n",
       "2021          [red, red_edge, blue, blue_sg, red_edge_sg]\n",
       "2022        [red, red_edge, mndwi, red_edge_sg, green_sg]\n",
       "2023              [red, red_edge, blue, nir, red_edge_sg]\n",
       "dtype: object"
      ]
     },
     "metadata": {},
     "output_type": "display_data"
    }
   ],
   "source": [
    "# 2. Year-wise Comparison\n",
    "top_features_each_year = pivot_data.apply(lambda x: x.nlargest(5).index.tolist(), axis=1)\n",
    "top_features_each_year"
   ]
  },
  {
   "cell_type": "code",
   "execution_count": null,
   "metadata": {},
   "outputs": [
    {
     "data": {
      "image/png": "[encoded data removed]",
      "text/plain": [
       "<Figure size 800x800 with 2 Axes>"
      ]
     },
     "metadata": {},
     "output_type": "display_data"
    }
   ],
   "source": [
    "import seaborn as sns\n",
    "\n",
    "# Transpose the pivot_data if necessary, to have years on the x-axis\n",
    "pivot_data_transposed = pivot_data.T\n",
    "\n",
    "plt.figure(figsize=(8, 8))\n",
    "sns.heatmap(pivot_data_transposed, annot=True, cmap='viridis', cbar=True)\n",
    "plt.title('Heatmap of Feature Importance Over Years')\n",
    "plt.xlabel('Year')\n",
    "plt.ylabel('Feature')\n",
    "plt.show()"
   ]
  },
  {
   "cell_type": "code",
   "execution_count": 115,
   "metadata": {},
   "outputs": [
    {
     "name": "stdout",
     "output_type": "stream",
     "text": [
      "Average importance per feature (sorted):\n",
      "Features\n",
      "red                         0.075879\n",
      "red_edge                    0.072239\n",
      "red_edge_sg                 0.071513\n",
      "swir1                       0.052655\n",
      "green                       0.052593\n",
      "blue                        0.052386\n",
      "blue_sg                     0.051556\n",
      "ngrdi_red                   0.049227\n",
      "green_sg                    0.048974\n",
      "swir2                       0.044617\n",
      "awei                        0.044570\n",
      "red_sg                      0.044060\n",
      "mndwi                       0.043480\n",
      "nir                         0.042436\n",
      "evi                         0.041078\n",
      "dii_green_sg_red_sg         0.032504\n",
      "dii_blue_sg_red_sg          0.027994\n",
      "dii_blue_sg_red_edge_sg     0.026030\n",
      "ngrdi_red_edge              0.024134\n",
      "dii_blue_sg_green_sg        0.024102\n",
      "gndvi                       0.023272\n",
      "ndvi                        0.022578\n",
      "dii_green_sg_red_edge_sg    0.020733\n",
      "dii_red_sg_red_edge_sg      0.011389\n",
      "dtype: float64\n"
     ]
    }
   ],
   "source": [
    "# 3. Feature Ranking Aggregation\n",
    "average_importance = pivot_data.mean().sort_values(ascending=False)\n",
    "print(\"Average importance per feature (sorted):\")\n",
    "print(average_importance)"
   ]
  },
  {
   "cell_type": "code",
   "execution_count": 30,
   "metadata": {},
   "outputs": [
    {
     "name": "stdout",
     "output_type": "stream",
     "text": [
      "Average importance per feature (sorted) in percentage:\n",
      "Features\n",
      "red                         7.587890\n",
      "red_edge                    7.223953\n",
      "red_edge_sg                 7.151278\n",
      "swir1                       5.265514\n",
      "green                       5.259327\n",
      "blue                        5.238639\n",
      "blue_sg                     5.155639\n",
      "ngrdi_red                   4.922689\n",
      "green_sg                    4.897364\n",
      "swir2                       4.461739\n",
      "awei                        4.457039\n",
      "red_sg                      4.405977\n",
      "mndwi                       4.347989\n",
      "nir                         4.243627\n",
      "evi                         4.107814\n",
      "dii_green_sg_red_sg         3.250439\n",
      "dii_blue_sg_red_sg          2.799376\n",
      "dii_blue_sg_red_edge_sg     2.602988\n",
      "ngrdi_red_edge              2.413363\n",
      "dii_blue_sg_green_sg        2.410163\n",
      "gndvi                       2.327188\n",
      "ndvi                        2.257763\n",
      "dii_green_sg_red_edge_sg    2.073326\n",
      "dii_red_sg_red_edge_sg      1.138913\n",
      "dtype: float64\n"
     ]
    }
   ],
   "source": [
    "# Convert average importance to percentages\n",
    "average_importance_percentage = (average_importance / average_importance.sum()) * 100\n",
    "print(\"Average importance per feature (sorted) in percentage:\")\n",
    "print(average_importance_percentage)"
   ]
  },
  {
   "cell_type": "code",
   "execution_count": 166,
   "metadata": {},
   "outputs": [],
   "source": [
    "df = pd.DataFrame.from_dict(average_importance_percentage).reset_index()\n",
    "df.columns = ['Features', 'Values']"
   ]
  },
  {
   "cell_type": "code",
   "execution_count": 176,
   "metadata": {},
   "outputs": [],
   "source": [
    "# Combine features with '_sg' into their corresponding features without '_sg'\n",
    "combined_df = df.copy()\n",
    "\n",
    "for index, row in df.iterrows():\n",
    "    if row['Features'].endswith('_sg'):\n",
    "        base_col = row['Features'][:-3]  # Remove the '_sg' part\n",
    "        # Check if the base feature exists\n",
    "        if base_col in combined_df['Features'].values:\n",
    "            # Get the index of the base feature\n",
    "            base_index = combined_df[combined_df['Features'] == base_col].index[0]\n",
    "            # Sum the values\n",
    "            combined_df.at[base_index, 'Values'] += row['Values']\n",
    "            # Drop the '_sg' feature row\n",
    "            combined_df.drop(index, inplace=True)\n",
    "\n",
    "# Display the combined DataFrame\n",
    "combined_df = combined_df.reset_index(drop=True).sort_values(by='Values', ascending=False)"
   ]
  },
  {
   "cell_type": "code",
   "execution_count": 177,
   "metadata": {},
   "outputs": [
    {
     "data": {
      "text/html": [
       "<div>\n",
       "<style scoped>\n",
       "    .dataframe tbody tr th:only-of-type {\n",
       "        vertical-align: middle;\n",
       "    }\n",
       "\n",
       "    .dataframe tbody tr th {\n",
       "        vertical-align: top;\n",
       "    }\n",
       "\n",
       "    .dataframe thead th {\n",
       "        text-align: right;\n",
       "    }\n",
       "</style>\n",
       "<table border=\"1\" class=\"dataframe\">\n",
       "  <thead>\n",
       "    <tr style=\"text-align: right;\">\n",
       "      <th></th>\n",
       "      <th>Features</th>\n",
       "      <th>Values</th>\n",
       "    </tr>\n",
       "  </thead>\n",
       "  <tbody>\n",
       "    <tr>\n",
       "      <th>1</th>\n",
       "      <td>red_edge</td>\n",
       "      <td>14.375230</td>\n",
       "    </tr>\n",
       "    <tr>\n",
       "      <th>0</th>\n",
       "      <td>red</td>\n",
       "      <td>11.993867</td>\n",
       "    </tr>\n",
       "    <tr>\n",
       "      <th>4</th>\n",
       "      <td>blue</td>\n",
       "      <td>10.394279</td>\n",
       "    </tr>\n",
       "    <tr>\n",
       "      <th>3</th>\n",
       "      <td>green</td>\n",
       "      <td>10.156691</td>\n",
       "    </tr>\n",
       "    <tr>\n",
       "      <th>2</th>\n",
       "      <td>swir1</td>\n",
       "      <td>5.265514</td>\n",
       "    </tr>\n",
       "    <tr>\n",
       "      <th>5</th>\n",
       "      <td>ngrdi_red</td>\n",
       "      <td>4.922689</td>\n",
       "    </tr>\n",
       "    <tr>\n",
       "      <th>6</th>\n",
       "      <td>swir2</td>\n",
       "      <td>4.461739</td>\n",
       "    </tr>\n",
       "    <tr>\n",
       "      <th>7</th>\n",
       "      <td>awei</td>\n",
       "      <td>4.457039</td>\n",
       "    </tr>\n",
       "    <tr>\n",
       "      <th>8</th>\n",
       "      <td>mndwi</td>\n",
       "      <td>4.347989</td>\n",
       "    </tr>\n",
       "    <tr>\n",
       "      <th>9</th>\n",
       "      <td>nir</td>\n",
       "      <td>4.243627</td>\n",
       "    </tr>\n",
       "    <tr>\n",
       "      <th>10</th>\n",
       "      <td>evi</td>\n",
       "      <td>4.107814</td>\n",
       "    </tr>\n",
       "    <tr>\n",
       "      <th>11</th>\n",
       "      <td>dii_green_sg_red_sg</td>\n",
       "      <td>3.250439</td>\n",
       "    </tr>\n",
       "    <tr>\n",
       "      <th>12</th>\n",
       "      <td>dii_blue_sg_red_sg</td>\n",
       "      <td>2.799376</td>\n",
       "    </tr>\n",
       "    <tr>\n",
       "      <th>13</th>\n",
       "      <td>dii_blue_sg_red_edge_sg</td>\n",
       "      <td>2.602988</td>\n",
       "    </tr>\n",
       "    <tr>\n",
       "      <th>14</th>\n",
       "      <td>ngrdi_red_edge</td>\n",
       "      <td>2.413363</td>\n",
       "    </tr>\n",
       "    <tr>\n",
       "      <th>15</th>\n",
       "      <td>dii_blue_sg_green_sg</td>\n",
       "      <td>2.410163</td>\n",
       "    </tr>\n",
       "    <tr>\n",
       "      <th>16</th>\n",
       "      <td>gndvi</td>\n",
       "      <td>2.327188</td>\n",
       "    </tr>\n",
       "    <tr>\n",
       "      <th>17</th>\n",
       "      <td>ndvi</td>\n",
       "      <td>2.257763</td>\n",
       "    </tr>\n",
       "    <tr>\n",
       "      <th>18</th>\n",
       "      <td>dii_green_sg_red_edge_sg</td>\n",
       "      <td>2.073326</td>\n",
       "    </tr>\n",
       "    <tr>\n",
       "      <th>19</th>\n",
       "      <td>dii_red_sg_red_edge_sg</td>\n",
       "      <td>1.138913</td>\n",
       "    </tr>\n",
       "  </tbody>\n",
       "</table>\n",
       "</div>"
      ],
      "text/plain": [
       "                    Features     Values\n",
       "1                   red_edge  14.375230\n",
       "0                        red  11.993867\n",
       "4                       blue  10.394279\n",
       "3                      green  10.156691\n",
       "2                      swir1   5.265514\n",
       "5                  ngrdi_red   4.922689\n",
       "6                      swir2   4.461739\n",
       "7                       awei   4.457039\n",
       "8                      mndwi   4.347989\n",
       "9                        nir   4.243627\n",
       "10                       evi   4.107814\n",
       "11       dii_green_sg_red_sg   3.250439\n",
       "12        dii_blue_sg_red_sg   2.799376\n",
       "13   dii_blue_sg_red_edge_sg   2.602988\n",
       "14            ngrdi_red_edge   2.413363\n",
       "15      dii_blue_sg_green_sg   2.410163\n",
       "16                     gndvi   2.327188\n",
       "17                      ndvi   2.257763\n",
       "18  dii_green_sg_red_edge_sg   2.073326\n",
       "19    dii_red_sg_red_edge_sg   1.138913"
      ]
     },
     "execution_count": 177,
     "metadata": {},
     "output_type": "execute_result"
    }
   ],
   "source": [
    "combined_df"
   ]
  },
  {
   "cell_type": "code",
   "execution_count": null,
   "metadata": {},
   "outputs": [
    {
     "name": "stdout",
     "output_type": "stream",
     "text": [
      "Rank stability (sorted, lower values mean more stable):\n",
      "Features\n",
      "dii_red_sg_red_edge_sg      1.414214\n",
      "red_edge_sg                 1.752549\n",
      "green                       1.982062\n",
      "red_edge                    2.187628\n",
      "ndvi                        2.199838\n",
      "dii_blue_sg_green_sg        2.326094\n",
      "ngrdi_red_edge              2.559994\n",
      "blue                        2.900123\n",
      "blue_sg                     2.976095\n",
      "dii_blue_sg_red_edge_sg     3.240370\n",
      "gndvi                       3.313932\n",
      "ngrdi_red                   3.464102\n",
      "dii_blue_sg_red_sg          3.681518\n",
      "evi                         3.925648\n",
      "swir2                       3.961872\n",
      "mndwi                       4.533605\n",
      "swir1                       4.590363\n",
      "dii_green_sg_red_edge_sg    4.621379\n",
      "red_sg                      4.657943\n",
      "awei                        4.703722\n",
      "green_sg                    5.396758\n",
      "dii_green_sg_red_sg         5.475595\n",
      "nir                         6.621124\n",
      "red                         6.928203\n",
      "dtype: float64\n"
     ]
    }
   ],
   "source": [
    "# Rank stability (standard deviation of ranks)\n",
    "ranks = pivot_data.rank(axis=1, ascending=False)\n",
    "rank_stability = ranks.std().sort_values()\n",
    "print(\"Rank stability (sorted, lower values mean more stable):\")\n",
    "print(rank_stability)"
   ]
  }
 ],
 "metadata": {
  "kernelspec": {
   "display_name": "main",
   "language": "python",
   "name": "python3"
  },
  "language_info": {
   "codemirror_mode": {
    "name": "ipython",
    "version": 3
   },
   "file_extension": ".py",
   "mimetype": "text/x-python",
   "name": "python",
   "nbconvert_exporter": "python",
   "pygments_lexer": "ipython3",
   "version": "3.9.15"
  }
 },
 "nbformat": 4,
 "nbformat_minor": 2
}
